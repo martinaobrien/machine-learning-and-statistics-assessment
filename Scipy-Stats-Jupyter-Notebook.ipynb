{
 "cells": [
  {
   "cell_type": "markdown",
   "metadata": {
    "tags": []
   },
   "source": [
    "<a name=\"top\"></a>\n",
    "# Scipy-Stats Juptyer Notebook <img align=\"right\" src=\"imgs/gmit_logo.jpg\">\n",
    "<br>\n",
    "Submitted as part of the requirements for the Higher Diploma in Science(Data Analysis) 2020/2021\n",
    "<br>\n",
    "\n",
    "*****\n",
    "*****"
   ]
  },
  {
   "cell_type": "markdown",
   "metadata": {
    "tags": []
   },
   "source": [
    "## Table of Contents:\n",
    "\n",
    "- [Section 1: Overview of Scipy Stats Jupyter Notebook](#chapter1)\n",
    "\n",
    "- [Section 2: Analysis of Variance(Anova](#chapter2)\n",
    "\n",
    "- [Section 3: Dataset: Diet](#chapter3)\n",
    "    - [Importing Packages for the Notebook](#chapter3a)\n",
    "    - [Exploring the Dataset](#chapter3b)\n",
    "    - [Preprocessing the Data](#chapter3c)\n",
    "\n",
    "    <br> \n",
    "- [Section 4: Hypothesis and Assumption Testing of Dataset to meet Anova Requirements](#chapter4)\n",
    "    - [Hypothesis of this notebook](#chapter4a)\n",
    "    - [Hypothesis of this notebook](#chapter4b)\n",
    "   \n",
    "    <br> \n",
    "    \n",
    "- [Section 5: Conducting the Anova  and Post Hoc](#chapter5)\n",
    "    - [Anova and Diet Dataset: f Oneway and Welch](#chapter5a)\n",
    "    - [Post Hoc Tests: Tukey and Paired Ttests](#chapter5b)\n",
    "    \n",
    "    <br> \n",
    "    \n",
    "- [Section 6: Conclusion](#chapter6)\n",
    "\n",
    "- [References](#ref)\n",
    "\n",
    "*******"
   ]
  },
  {
   "cell_type": "markdown",
   "metadata": {},
   "source": [
    "## Overview of Scipy Stats Jupyter Notebook\n",
    "<a id='chapter1'></a>\n",
    "##  Section 1: Overview of the scipy-stats package <img align=\"right\" src=\"imgs/scipy_stats.jpg\">\n",
    "\n",
    "<br>\n",
    "\n",
    "### What is scipy-stats? \n",
    "\n",
    "<br>\n",
    "\n",
    "***"
   ]
  },
  {
   "cell_type": "markdown",
   "metadata": {},
   "source": [
    "The scipy-stats module is a sub-package of the SciPy library providing many uses for statistical analysis including probabilistic distributions, random variables and statistical operations *(1)*. It is used to analyse normal distributions and calculate different distribution values with a number of in built methods available such as optimisation, intergration, linear algebra and image processing *(2)*.\n",
    "<br>\n",
    "The scipy package in general was originally developed by Travis Oliphant, Pearu Peterson, Eric Jones and James Hunter in 2001. Other packages to be derived from the scipy package include numpy and matplotlib.Within the library, there are functions for both continious and discrete functions that have the ability to work with different types of distributions and performs hypothesis testing and t-tests.*(3)*. The library works seamlessly with other packages to enable statistics calculations, descriptive analysis and data visualisation. These include:\n",
    "- pandas\n",
    "<br>\n",
    "- matplotlib\n",
    "<br>\n",
    "- seaborn\n",
    "<br>\n",
    "- numpy\n",
    "<br>"
   ]
  },
  {
   "cell_type": "markdown",
   "metadata": {},
   "source": [
    "### Key Terms used in this notebook\n",
    "This notebook will implement an example hypotheses test using ANOVA in which the assumptions underlyng ANOVA are met. Below is a list of key terms and the definition as intended in this notebook *(4)*. \n",
    "<br>\n",
    "<br>\n",
    "**Types of Variables**\n",
    "<br>\n",
    "- **Dependent Variable** The chosen data category that is examined to see if there is any affect from the independent variables\n",
    "- **Indepedent Variable:** These are the chosen datapoints measured that may have an effect on the dependent variable\n",
    "<br>\n",
    "**Measures of of Central Tendency**\n",
    "<br>\n",
    "- **Mean**: the average of all the items in the dataset.\n",
    "- **Median**: the middle element of a sorted dataset.\n",
    "<br>\n",
    "**Measures of Variability**\n",
    "<br>\n",
    "- **Variance**: the average of the squared differences from the mean \n",
    "- **Standard Deviation**: is a measure of how spread out numbers are and is calculated by determining the square root of the variance *(5)* \n",
    "<br>\n",
    "\n",
    "**Quartiles are special percentiles.**\n",
    "\n",
    "- *The first quartile, Q1, is the same as the 25th percentile. 25% of data will be less than 25th percentile; 75% of data will be more than 25th percentile.*\n",
    "- *The second quartile, Q2, is the same as the 50th percentile / median.50% of data will be less than 50th percentile; 50% of data will be more than 50th percentile.*\n",
    "- *The third quartile, Q3, is the same as the 75th percentile.75% of data will be less than 75th percentile; 25% of data will be more than 75th percentile.* *(6)* "
   ]
  },
  {
   "cell_type": "markdown",
   "metadata": {},
   "source": [
    "<a id='chapter2'></a>\n",
    "## Section 2: Analysis of Variance (ANOVA)\n",
    "***\n",
    "\n",
    "**Analysis of Variance** can be defined as:\n",
    "<br>\n",
    "<br>\n",
    "*statistical formula used to compare variances across the means of different groups... where a range of scenarios use it to determine if there is any difference between the meands of different group.* *(7)* \n",
    "<br>\n",
    "\n",
    " \n",
    "ANOVA due to it's robust procedures helps select the best features when training a dataset, reduces complexity by limiting input variables and can determine if an independent variable is influencing a target variable. \n",
    "<br>\n",
    "<br>\n",
    "The outcome of the ANOVA is the 'F Statistic' which enables the researcher to conclude wheather or not the null hypothesis was supported or not. This is acheived through calculating the difference between the group variances and within group variances. ANOVA is important is ascertaining whether or not a mean values are statistically significant. ANOVA can also indirectly show if an independent variable is influencing the dependent variable.\n",
    "<br>\n",
    "<br>\n",
    "\n",
    "**Limitations of ANOVA**\n",
    "<br>\n",
    "- The test can only be implemented if there is a significant difference between the means of at least two groups but can't identify which pairs differ in its means. This requires ANOVA to be used in tandem with other statistical methods\n",
    "- Assumes uniform distribution limiting its ability to work with data that does not have a normal distribution and/or may contain outliers\n",
    "- Assumes Standard Deviation is similiar across the variable to avoid inaccurate conclusions being made\n",
    "<br>\n",
    "**Hypothesis Testing**\n",
    "<br>\n",
    "- **A Null Hypothesis(HO)** It is inferred there is no difference between the groups or means\n",
    "<br>\n",
    "- **An Alternative Hypothesis** It is inferred that there is a difference between groups and means\n",
    "<br>\n",
    "**Types of ANOVA**\n",
    "<br>\n",
    " - One Way ANOVA: The one-way ANOVA is suitable with only one independent variable with two or more levels.\n",
    " - Two Way ANOVA: When there are two or more independent variables that may have multple levels and includes every possible selection of variables and their levels.\n",
    " <br> "
   ]
  },
  {
   "cell_type": "markdown",
   "metadata": {},
   "source": [
    "<a id='chapter3'></a>\n",
    "## Section 3: Diet Dataset"
   ]
  },
  {
   "cell_type": "markdown",
   "metadata": {},
   "source": [
    "<a id='chapter3a'></a>\n",
    "### Importing Packages for this notebook"
   ]
  },
  {
   "cell_type": "code",
   "execution_count": 176,
   "metadata": {},
   "outputs": [],
   "source": [
    "import pandas as pd\n",
    "import seaborn as sns\n",
    "import scipy.stats as ss\n",
    "import statsmodels.api as sn\n",
    "import numpy as np\n",
    "import collections as co\n",
    "import scipy.special as spec\n",
    "import matplotlib.pyplot as plt"
   ]
  },
  {
   "cell_type": "markdown",
   "metadata": {
    "tags": []
   },
   "source": [
    "<a id='chapter3b'></a>\n",
    "### Exploring the Dataset\n",
    "***"
   ]
  },
  {
   "cell_type": "markdown",
   "metadata": {},
   "source": [
    "The Diet Dataset contains information on 76 participants who undertook one of 3 diets (A, B, C). At the beginning and end of the trail, the participants weights were taken. The dataset contains information on their gender, allocated diet, height initial weight and their weight after six weeks *(8)*. This analysis will explore whether or not there is any correlation between the diet the participants undertook and the weight each participant lost. "
   ]
  },
  {
   "cell_type": "markdown",
   "metadata": {
    "tags": []
   },
   "source": [
    "<a id='chapter3c'></a>\n",
    "### Preprocessing the Dataset\n",
    "***"
   ]
  },
  {
   "cell_type": "code",
   "execution_count": 177,
   "metadata": {},
   "outputs": [
    {
     "data": {
      "text/html": [
       "<div>\n",
       "<style scoped>\n",
       "    .dataframe tbody tr th:only-of-type {\n",
       "        vertical-align: middle;\n",
       "    }\n",
       "\n",
       "    .dataframe tbody tr th {\n",
       "        vertical-align: top;\n",
       "    }\n",
       "\n",
       "    .dataframe thead th {\n",
       "        text-align: right;\n",
       "    }\n",
       "</style>\n",
       "<table border=\"1\" class=\"dataframe\">\n",
       "  <thead>\n",
       "    <tr style=\"text-align: right;\">\n",
       "      <th></th>\n",
       "      <th>Person</th>\n",
       "      <th>gender</th>\n",
       "      <th>Age</th>\n",
       "      <th>Height</th>\n",
       "      <th>pre.weight</th>\n",
       "      <th>Diet</th>\n",
       "      <th>weight6weeks</th>\n",
       "    </tr>\n",
       "  </thead>\n",
       "  <tbody>\n",
       "    <tr>\n",
       "      <th>0</th>\n",
       "      <td>25</td>\n",
       "      <td></td>\n",
       "      <td>41</td>\n",
       "      <td>171</td>\n",
       "      <td>60</td>\n",
       "      <td>2</td>\n",
       "      <td>60.0</td>\n",
       "    </tr>\n",
       "    <tr>\n",
       "      <th>1</th>\n",
       "      <td>26</td>\n",
       "      <td></td>\n",
       "      <td>32</td>\n",
       "      <td>174</td>\n",
       "      <td>103</td>\n",
       "      <td>2</td>\n",
       "      <td>103.0</td>\n",
       "    </tr>\n",
       "    <tr>\n",
       "      <th>2</th>\n",
       "      <td>1</td>\n",
       "      <td>0</td>\n",
       "      <td>22</td>\n",
       "      <td>159</td>\n",
       "      <td>58</td>\n",
       "      <td>1</td>\n",
       "      <td>54.2</td>\n",
       "    </tr>\n",
       "    <tr>\n",
       "      <th>3</th>\n",
       "      <td>2</td>\n",
       "      <td>0</td>\n",
       "      <td>46</td>\n",
       "      <td>192</td>\n",
       "      <td>60</td>\n",
       "      <td>1</td>\n",
       "      <td>54.0</td>\n",
       "    </tr>\n",
       "    <tr>\n",
       "      <th>4</th>\n",
       "      <td>3</td>\n",
       "      <td>0</td>\n",
       "      <td>55</td>\n",
       "      <td>170</td>\n",
       "      <td>64</td>\n",
       "      <td>1</td>\n",
       "      <td>63.3</td>\n",
       "    </tr>\n",
       "    <tr>\n",
       "      <th>...</th>\n",
       "      <td>...</td>\n",
       "      <td>...</td>\n",
       "      <td>...</td>\n",
       "      <td>...</td>\n",
       "      <td>...</td>\n",
       "      <td>...</td>\n",
       "      <td>...</td>\n",
       "    </tr>\n",
       "    <tr>\n",
       "      <th>73</th>\n",
       "      <td>74</td>\n",
       "      <td>1</td>\n",
       "      <td>35</td>\n",
       "      <td>183</td>\n",
       "      <td>83</td>\n",
       "      <td>3</td>\n",
       "      <td>80.2</td>\n",
       "    </tr>\n",
       "    <tr>\n",
       "      <th>74</th>\n",
       "      <td>75</td>\n",
       "      <td>1</td>\n",
       "      <td>49</td>\n",
       "      <td>177</td>\n",
       "      <td>84</td>\n",
       "      <td>3</td>\n",
       "      <td>79.9</td>\n",
       "    </tr>\n",
       "    <tr>\n",
       "      <th>75</th>\n",
       "      <td>76</td>\n",
       "      <td>1</td>\n",
       "      <td>28</td>\n",
       "      <td>164</td>\n",
       "      <td>85</td>\n",
       "      <td>3</td>\n",
       "      <td>79.7</td>\n",
       "    </tr>\n",
       "    <tr>\n",
       "      <th>76</th>\n",
       "      <td>77</td>\n",
       "      <td>1</td>\n",
       "      <td>40</td>\n",
       "      <td>167</td>\n",
       "      <td>87</td>\n",
       "      <td>3</td>\n",
       "      <td>77.8</td>\n",
       "    </tr>\n",
       "    <tr>\n",
       "      <th>77</th>\n",
       "      <td>78</td>\n",
       "      <td>1</td>\n",
       "      <td>51</td>\n",
       "      <td>175</td>\n",
       "      <td>88</td>\n",
       "      <td>3</td>\n",
       "      <td>81.9</td>\n",
       "    </tr>\n",
       "  </tbody>\n",
       "</table>\n",
       "<p>78 rows × 7 columns</p>\n",
       "</div>"
      ],
      "text/plain": [
       "    Person gender  Age  Height  pre.weight  Diet  weight6weeks\n",
       "0       25          41     171          60     2          60.0\n",
       "1       26          32     174         103     2         103.0\n",
       "2        1      0   22     159          58     1          54.2\n",
       "3        2      0   46     192          60     1          54.0\n",
       "4        3      0   55     170          64     1          63.3\n",
       "..     ...    ...  ...     ...         ...   ...           ...\n",
       "73      74      1   35     183          83     3          80.2\n",
       "74      75      1   49     177          84     3          79.9\n",
       "75      76      1   28     164          85     3          79.7\n",
       "76      77      1   40     167          87     3          77.8\n",
       "77      78      1   51     175          88     3          81.9\n",
       "\n",
       "[78 rows x 7 columns]"
      ]
     },
     "execution_count": 177,
     "metadata": {},
     "output_type": "execute_result"
    }
   ],
   "source": [
    "df = pd.read_csv('dietdataset.csv') #first look at the dataset\n",
    "df"
   ]
  },
  {
   "cell_type": "code",
   "execution_count": 178,
   "metadata": {},
   "outputs": [
    {
     "data": {
      "text/html": [
       "<div>\n",
       "<style scoped>\n",
       "    .dataframe tbody tr th:only-of-type {\n",
       "        vertical-align: middle;\n",
       "    }\n",
       "\n",
       "    .dataframe tbody tr th {\n",
       "        vertical-align: top;\n",
       "    }\n",
       "\n",
       "    .dataframe thead th {\n",
       "        text-align: right;\n",
       "    }\n",
       "</style>\n",
       "<table border=\"1\" class=\"dataframe\">\n",
       "  <thead>\n",
       "    <tr style=\"text-align: right;\">\n",
       "      <th></th>\n",
       "      <th>Person</th>\n",
       "      <th>Age</th>\n",
       "      <th>Height</th>\n",
       "      <th>pre.weight</th>\n",
       "      <th>Diet</th>\n",
       "      <th>weight6weeks</th>\n",
       "    </tr>\n",
       "  </thead>\n",
       "  <tbody>\n",
       "    <tr>\n",
       "      <th>count</th>\n",
       "      <td>78.000000</td>\n",
       "      <td>78.000000</td>\n",
       "      <td>78.000000</td>\n",
       "      <td>78.000000</td>\n",
       "      <td>78.000000</td>\n",
       "      <td>78.000000</td>\n",
       "    </tr>\n",
       "    <tr>\n",
       "      <th>mean</th>\n",
       "      <td>39.500000</td>\n",
       "      <td>39.153846</td>\n",
       "      <td>170.820513</td>\n",
       "      <td>72.525641</td>\n",
       "      <td>2.038462</td>\n",
       "      <td>68.680769</td>\n",
       "    </tr>\n",
       "    <tr>\n",
       "      <th>std</th>\n",
       "      <td>22.660538</td>\n",
       "      <td>9.815277</td>\n",
       "      <td>11.276621</td>\n",
       "      <td>8.723344</td>\n",
       "      <td>0.812920</td>\n",
       "      <td>8.924504</td>\n",
       "    </tr>\n",
       "    <tr>\n",
       "      <th>min</th>\n",
       "      <td>1.000000</td>\n",
       "      <td>16.000000</td>\n",
       "      <td>141.000000</td>\n",
       "      <td>58.000000</td>\n",
       "      <td>1.000000</td>\n",
       "      <td>53.000000</td>\n",
       "    </tr>\n",
       "    <tr>\n",
       "      <th>25%</th>\n",
       "      <td>20.250000</td>\n",
       "      <td>32.250000</td>\n",
       "      <td>164.250000</td>\n",
       "      <td>66.000000</td>\n",
       "      <td>1.000000</td>\n",
       "      <td>61.850000</td>\n",
       "    </tr>\n",
       "    <tr>\n",
       "      <th>50%</th>\n",
       "      <td>39.500000</td>\n",
       "      <td>39.000000</td>\n",
       "      <td>169.500000</td>\n",
       "      <td>72.000000</td>\n",
       "      <td>2.000000</td>\n",
       "      <td>68.950000</td>\n",
       "    </tr>\n",
       "    <tr>\n",
       "      <th>75%</th>\n",
       "      <td>58.750000</td>\n",
       "      <td>46.750000</td>\n",
       "      <td>174.750000</td>\n",
       "      <td>78.000000</td>\n",
       "      <td>3.000000</td>\n",
       "      <td>73.825000</td>\n",
       "    </tr>\n",
       "    <tr>\n",
       "      <th>max</th>\n",
       "      <td>78.000000</td>\n",
       "      <td>60.000000</td>\n",
       "      <td>201.000000</td>\n",
       "      <td>103.000000</td>\n",
       "      <td>3.000000</td>\n",
       "      <td>103.000000</td>\n",
       "    </tr>\n",
       "  </tbody>\n",
       "</table>\n",
       "</div>"
      ],
      "text/plain": [
       "          Person        Age      Height  pre.weight       Diet  weight6weeks\n",
       "count  78.000000  78.000000   78.000000   78.000000  78.000000     78.000000\n",
       "mean   39.500000  39.153846  170.820513   72.525641   2.038462     68.680769\n",
       "std    22.660538   9.815277   11.276621    8.723344   0.812920      8.924504\n",
       "min     1.000000  16.000000  141.000000   58.000000   1.000000     53.000000\n",
       "25%    20.250000  32.250000  164.250000   66.000000   1.000000     61.850000\n",
       "50%    39.500000  39.000000  169.500000   72.000000   2.000000     68.950000\n",
       "75%    58.750000  46.750000  174.750000   78.000000   3.000000     73.825000\n",
       "max    78.000000  60.000000  201.000000  103.000000   3.000000    103.000000"
      ]
     },
     "execution_count": 178,
     "metadata": {},
     "output_type": "execute_result"
    }
   ],
   "source": [
    "df.describe()"
   ]
  },
  {
   "cell_type": "code",
   "execution_count": 179,
   "metadata": {},
   "outputs": [
    {
     "data": {
      "text/html": [
       "<div>\n",
       "<style scoped>\n",
       "    .dataframe tbody tr th:only-of-type {\n",
       "        vertical-align: middle;\n",
       "    }\n",
       "\n",
       "    .dataframe tbody tr th {\n",
       "        vertical-align: top;\n",
       "    }\n",
       "\n",
       "    .dataframe thead th {\n",
       "        text-align: right;\n",
       "    }\n",
       "</style>\n",
       "<table border=\"1\" class=\"dataframe\">\n",
       "  <thead>\n",
       "    <tr style=\"text-align: right;\">\n",
       "      <th></th>\n",
       "      <th>Person</th>\n",
       "      <th>gender</th>\n",
       "      <th>Age</th>\n",
       "      <th>Height</th>\n",
       "      <th>pre.weight</th>\n",
       "      <th>Diet</th>\n",
       "      <th>weight6weeks</th>\n",
       "    </tr>\n",
       "  </thead>\n",
       "  <tbody>\n",
       "    <tr>\n",
       "      <th>0</th>\n",
       "      <td>25</td>\n",
       "      <td>NaN</td>\n",
       "      <td>41</td>\n",
       "      <td>171</td>\n",
       "      <td>60</td>\n",
       "      <td>2</td>\n",
       "      <td>60.0</td>\n",
       "    </tr>\n",
       "    <tr>\n",
       "      <th>1</th>\n",
       "      <td>26</td>\n",
       "      <td>NaN</td>\n",
       "      <td>32</td>\n",
       "      <td>174</td>\n",
       "      <td>103</td>\n",
       "      <td>2</td>\n",
       "      <td>103.0</td>\n",
       "    </tr>\n",
       "    <tr>\n",
       "      <th>2</th>\n",
       "      <td>1</td>\n",
       "      <td>0.0</td>\n",
       "      <td>22</td>\n",
       "      <td>159</td>\n",
       "      <td>58</td>\n",
       "      <td>1</td>\n",
       "      <td>54.2</td>\n",
       "    </tr>\n",
       "    <tr>\n",
       "      <th>3</th>\n",
       "      <td>2</td>\n",
       "      <td>0.0</td>\n",
       "      <td>46</td>\n",
       "      <td>192</td>\n",
       "      <td>60</td>\n",
       "      <td>1</td>\n",
       "      <td>54.0</td>\n",
       "    </tr>\n",
       "    <tr>\n",
       "      <th>4</th>\n",
       "      <td>3</td>\n",
       "      <td>0.0</td>\n",
       "      <td>55</td>\n",
       "      <td>170</td>\n",
       "      <td>64</td>\n",
       "      <td>1</td>\n",
       "      <td>63.3</td>\n",
       "    </tr>\n",
       "    <tr>\n",
       "      <th>...</th>\n",
       "      <td>...</td>\n",
       "      <td>...</td>\n",
       "      <td>...</td>\n",
       "      <td>...</td>\n",
       "      <td>...</td>\n",
       "      <td>...</td>\n",
       "      <td>...</td>\n",
       "    </tr>\n",
       "    <tr>\n",
       "      <th>73</th>\n",
       "      <td>74</td>\n",
       "      <td>1.0</td>\n",
       "      <td>35</td>\n",
       "      <td>183</td>\n",
       "      <td>83</td>\n",
       "      <td>3</td>\n",
       "      <td>80.2</td>\n",
       "    </tr>\n",
       "    <tr>\n",
       "      <th>74</th>\n",
       "      <td>75</td>\n",
       "      <td>1.0</td>\n",
       "      <td>49</td>\n",
       "      <td>177</td>\n",
       "      <td>84</td>\n",
       "      <td>3</td>\n",
       "      <td>79.9</td>\n",
       "    </tr>\n",
       "    <tr>\n",
       "      <th>75</th>\n",
       "      <td>76</td>\n",
       "      <td>1.0</td>\n",
       "      <td>28</td>\n",
       "      <td>164</td>\n",
       "      <td>85</td>\n",
       "      <td>3</td>\n",
       "      <td>79.7</td>\n",
       "    </tr>\n",
       "    <tr>\n",
       "      <th>76</th>\n",
       "      <td>77</td>\n",
       "      <td>1.0</td>\n",
       "      <td>40</td>\n",
       "      <td>167</td>\n",
       "      <td>87</td>\n",
       "      <td>3</td>\n",
       "      <td>77.8</td>\n",
       "    </tr>\n",
       "    <tr>\n",
       "      <th>77</th>\n",
       "      <td>78</td>\n",
       "      <td>1.0</td>\n",
       "      <td>51</td>\n",
       "      <td>175</td>\n",
       "      <td>88</td>\n",
       "      <td>3</td>\n",
       "      <td>81.9</td>\n",
       "    </tr>\n",
       "  </tbody>\n",
       "</table>\n",
       "<p>78 rows × 7 columns</p>\n",
       "</div>"
      ],
      "text/plain": [
       "    Person  gender  Age  Height  pre.weight  Diet  weight6weeks\n",
       "0       25     NaN   41     171          60     2          60.0\n",
       "1       26     NaN   32     174         103     2         103.0\n",
       "2        1     0.0   22     159          58     1          54.2\n",
       "3        2     0.0   46     192          60     1          54.0\n",
       "4        3     0.0   55     170          64     1          63.3\n",
       "..     ...     ...  ...     ...         ...   ...           ...\n",
       "73      74     1.0   35     183          83     3          80.2\n",
       "74      75     1.0   49     177          84     3          79.9\n",
       "75      76     1.0   28     164          85     3          79.7\n",
       "76      77     1.0   40     167          87     3          77.8\n",
       "77      78     1.0   51     175          88     3          81.9\n",
       "\n",
       "[78 rows x 7 columns]"
      ]
     },
     "execution_count": 179,
     "metadata": {},
     "output_type": "execute_result"
    }
   ],
   "source": [
    "df = pd.read_csv('dietdataset.csv', na_values=' ') # replacing empty cells with Nan\n",
    "df"
   ]
  },
  {
   "cell_type": "code",
   "execution_count": 180,
   "metadata": {},
   "outputs": [
    {
     "data": {
      "text/html": [
       "<div>\n",
       "<style scoped>\n",
       "    .dataframe tbody tr th:only-of-type {\n",
       "        vertical-align: middle;\n",
       "    }\n",
       "\n",
       "    .dataframe tbody tr th {\n",
       "        vertical-align: top;\n",
       "    }\n",
       "\n",
       "    .dataframe thead th {\n",
       "        text-align: right;\n",
       "    }\n",
       "</style>\n",
       "<table border=\"1\" class=\"dataframe\">\n",
       "  <thead>\n",
       "    <tr style=\"text-align: right;\">\n",
       "      <th></th>\n",
       "      <th>Person</th>\n",
       "      <th>gender</th>\n",
       "      <th>Age</th>\n",
       "      <th>Height</th>\n",
       "      <th>initialWeight</th>\n",
       "      <th>Diet</th>\n",
       "      <th>weight6weeks</th>\n",
       "    </tr>\n",
       "  </thead>\n",
       "  <tbody>\n",
       "    <tr>\n",
       "      <th>0</th>\n",
       "      <td>25</td>\n",
       "      <td>NaN</td>\n",
       "      <td>41</td>\n",
       "      <td>171</td>\n",
       "      <td>60</td>\n",
       "      <td>2</td>\n",
       "      <td>60.0</td>\n",
       "    </tr>\n",
       "    <tr>\n",
       "      <th>1</th>\n",
       "      <td>26</td>\n",
       "      <td>NaN</td>\n",
       "      <td>32</td>\n",
       "      <td>174</td>\n",
       "      <td>103</td>\n",
       "      <td>2</td>\n",
       "      <td>103.0</td>\n",
       "    </tr>\n",
       "    <tr>\n",
       "      <th>2</th>\n",
       "      <td>1</td>\n",
       "      <td>0.0</td>\n",
       "      <td>22</td>\n",
       "      <td>159</td>\n",
       "      <td>58</td>\n",
       "      <td>1</td>\n",
       "      <td>54.2</td>\n",
       "    </tr>\n",
       "    <tr>\n",
       "      <th>3</th>\n",
       "      <td>2</td>\n",
       "      <td>0.0</td>\n",
       "      <td>46</td>\n",
       "      <td>192</td>\n",
       "      <td>60</td>\n",
       "      <td>1</td>\n",
       "      <td>54.0</td>\n",
       "    </tr>\n",
       "    <tr>\n",
       "      <th>4</th>\n",
       "      <td>3</td>\n",
       "      <td>0.0</td>\n",
       "      <td>55</td>\n",
       "      <td>170</td>\n",
       "      <td>64</td>\n",
       "      <td>1</td>\n",
       "      <td>63.3</td>\n",
       "    </tr>\n",
       "    <tr>\n",
       "      <th>...</th>\n",
       "      <td>...</td>\n",
       "      <td>...</td>\n",
       "      <td>...</td>\n",
       "      <td>...</td>\n",
       "      <td>...</td>\n",
       "      <td>...</td>\n",
       "      <td>...</td>\n",
       "    </tr>\n",
       "    <tr>\n",
       "      <th>73</th>\n",
       "      <td>74</td>\n",
       "      <td>1.0</td>\n",
       "      <td>35</td>\n",
       "      <td>183</td>\n",
       "      <td>83</td>\n",
       "      <td>3</td>\n",
       "      <td>80.2</td>\n",
       "    </tr>\n",
       "    <tr>\n",
       "      <th>74</th>\n",
       "      <td>75</td>\n",
       "      <td>1.0</td>\n",
       "      <td>49</td>\n",
       "      <td>177</td>\n",
       "      <td>84</td>\n",
       "      <td>3</td>\n",
       "      <td>79.9</td>\n",
       "    </tr>\n",
       "    <tr>\n",
       "      <th>75</th>\n",
       "      <td>76</td>\n",
       "      <td>1.0</td>\n",
       "      <td>28</td>\n",
       "      <td>164</td>\n",
       "      <td>85</td>\n",
       "      <td>3</td>\n",
       "      <td>79.7</td>\n",
       "    </tr>\n",
       "    <tr>\n",
       "      <th>76</th>\n",
       "      <td>77</td>\n",
       "      <td>1.0</td>\n",
       "      <td>40</td>\n",
       "      <td>167</td>\n",
       "      <td>87</td>\n",
       "      <td>3</td>\n",
       "      <td>77.8</td>\n",
       "    </tr>\n",
       "    <tr>\n",
       "      <th>77</th>\n",
       "      <td>78</td>\n",
       "      <td>1.0</td>\n",
       "      <td>51</td>\n",
       "      <td>175</td>\n",
       "      <td>88</td>\n",
       "      <td>3</td>\n",
       "      <td>81.9</td>\n",
       "    </tr>\n",
       "  </tbody>\n",
       "</table>\n",
       "<p>78 rows × 7 columns</p>\n",
       "</div>"
      ],
      "text/plain": [
       "    Person  gender  Age  Height  initialWeight  Diet  weight6weeks\n",
       "0       25     NaN   41     171             60     2          60.0\n",
       "1       26     NaN   32     174            103     2         103.0\n",
       "2        1     0.0   22     159             58     1          54.2\n",
       "3        2     0.0   46     192             60     1          54.0\n",
       "4        3     0.0   55     170             64     1          63.3\n",
       "..     ...     ...  ...     ...            ...   ...           ...\n",
       "73      74     1.0   35     183             83     3          80.2\n",
       "74      75     1.0   49     177             84     3          79.9\n",
       "75      76     1.0   28     164             85     3          79.7\n",
       "76      77     1.0   40     167             87     3          77.8\n",
       "77      78     1.0   51     175             88     3          81.9\n",
       "\n",
       "[78 rows x 7 columns]"
      ]
     },
     "execution_count": 180,
     "metadata": {},
     "output_type": "execute_result"
    }
   ],
   "source": [
    "df.rename(columns={'pre.weight': 'initialWeight'}, inplace=True) #changing the name of the pre.weight column\n",
    "df"
   ]
  },
  {
   "cell_type": "code",
   "execution_count": 181,
   "metadata": {},
   "outputs": [
    {
     "data": {
      "text/html": [
       "<div>\n",
       "<style scoped>\n",
       "    .dataframe tbody tr th:only-of-type {\n",
       "        vertical-align: middle;\n",
       "    }\n",
       "\n",
       "    .dataframe tbody tr th {\n",
       "        vertical-align: top;\n",
       "    }\n",
       "\n",
       "    .dataframe thead th {\n",
       "        text-align: right;\n",
       "    }\n",
       "</style>\n",
       "<table border=\"1\" class=\"dataframe\">\n",
       "  <thead>\n",
       "    <tr style=\"text-align: right;\">\n",
       "      <th></th>\n",
       "      <th>Person</th>\n",
       "      <th>gender</th>\n",
       "      <th>Age</th>\n",
       "      <th>Height</th>\n",
       "      <th>initialWeight</th>\n",
       "      <th>Diet</th>\n",
       "      <th>weight6weeks</th>\n",
       "    </tr>\n",
       "  </thead>\n",
       "  <tbody>\n",
       "    <tr>\n",
       "      <th>0</th>\n",
       "      <td>25</td>\n",
       "      <td>NaN</td>\n",
       "      <td>41</td>\n",
       "      <td>171</td>\n",
       "      <td>60</td>\n",
       "      <td>Diet B</td>\n",
       "      <td>60.0</td>\n",
       "    </tr>\n",
       "    <tr>\n",
       "      <th>1</th>\n",
       "      <td>26</td>\n",
       "      <td>NaN</td>\n",
       "      <td>32</td>\n",
       "      <td>174</td>\n",
       "      <td>103</td>\n",
       "      <td>Diet B</td>\n",
       "      <td>103.0</td>\n",
       "    </tr>\n",
       "    <tr>\n",
       "      <th>2</th>\n",
       "      <td>1</td>\n",
       "      <td>0.0</td>\n",
       "      <td>22</td>\n",
       "      <td>159</td>\n",
       "      <td>58</td>\n",
       "      <td>Diet A</td>\n",
       "      <td>54.2</td>\n",
       "    </tr>\n",
       "    <tr>\n",
       "      <th>3</th>\n",
       "      <td>2</td>\n",
       "      <td>0.0</td>\n",
       "      <td>46</td>\n",
       "      <td>192</td>\n",
       "      <td>60</td>\n",
       "      <td>Diet A</td>\n",
       "      <td>54.0</td>\n",
       "    </tr>\n",
       "    <tr>\n",
       "      <th>4</th>\n",
       "      <td>3</td>\n",
       "      <td>0.0</td>\n",
       "      <td>55</td>\n",
       "      <td>170</td>\n",
       "      <td>64</td>\n",
       "      <td>Diet A</td>\n",
       "      <td>63.3</td>\n",
       "    </tr>\n",
       "    <tr>\n",
       "      <th>...</th>\n",
       "      <td>...</td>\n",
       "      <td>...</td>\n",
       "      <td>...</td>\n",
       "      <td>...</td>\n",
       "      <td>...</td>\n",
       "      <td>...</td>\n",
       "      <td>...</td>\n",
       "    </tr>\n",
       "    <tr>\n",
       "      <th>73</th>\n",
       "      <td>74</td>\n",
       "      <td>1.0</td>\n",
       "      <td>35</td>\n",
       "      <td>183</td>\n",
       "      <td>83</td>\n",
       "      <td>Diet C</td>\n",
       "      <td>80.2</td>\n",
       "    </tr>\n",
       "    <tr>\n",
       "      <th>74</th>\n",
       "      <td>75</td>\n",
       "      <td>1.0</td>\n",
       "      <td>49</td>\n",
       "      <td>177</td>\n",
       "      <td>84</td>\n",
       "      <td>Diet C</td>\n",
       "      <td>79.9</td>\n",
       "    </tr>\n",
       "    <tr>\n",
       "      <th>75</th>\n",
       "      <td>76</td>\n",
       "      <td>1.0</td>\n",
       "      <td>28</td>\n",
       "      <td>164</td>\n",
       "      <td>85</td>\n",
       "      <td>Diet C</td>\n",
       "      <td>79.7</td>\n",
       "    </tr>\n",
       "    <tr>\n",
       "      <th>76</th>\n",
       "      <td>77</td>\n",
       "      <td>1.0</td>\n",
       "      <td>40</td>\n",
       "      <td>167</td>\n",
       "      <td>87</td>\n",
       "      <td>Diet C</td>\n",
       "      <td>77.8</td>\n",
       "    </tr>\n",
       "    <tr>\n",
       "      <th>77</th>\n",
       "      <td>78</td>\n",
       "      <td>1.0</td>\n",
       "      <td>51</td>\n",
       "      <td>175</td>\n",
       "      <td>88</td>\n",
       "      <td>Diet C</td>\n",
       "      <td>81.9</td>\n",
       "    </tr>\n",
       "  </tbody>\n",
       "</table>\n",
       "<p>78 rows × 7 columns</p>\n",
       "</div>"
      ],
      "text/plain": [
       "    Person  gender  Age  Height  initialWeight    Diet  weight6weeks\n",
       "0       25     NaN   41     171             60  Diet B          60.0\n",
       "1       26     NaN   32     174            103  Diet B         103.0\n",
       "2        1     0.0   22     159             58  Diet A          54.2\n",
       "3        2     0.0   46     192             60  Diet A          54.0\n",
       "4        3     0.0   55     170             64  Diet A          63.3\n",
       "..     ...     ...  ...     ...            ...     ...           ...\n",
       "73      74     1.0   35     183             83  Diet C          80.2\n",
       "74      75     1.0   49     177             84  Diet C          79.9\n",
       "75      76     1.0   28     164             85  Diet C          79.7\n",
       "76      77     1.0   40     167             87  Diet C          77.8\n",
       "77      78     1.0   51     175             88  Diet C          81.9\n",
       "\n",
       "[78 rows x 7 columns]"
      ]
     },
     "execution_count": 181,
     "metadata": {},
     "output_type": "execute_result"
    }
   ],
   "source": [
    "df['Diet'] = df['Diet'].replace([1,2,3], ['Diet A', 'Diet B', 'Diet C']) #changing the names of the Diet variables \n",
    "df"
   ]
  },
  {
   "cell_type": "code",
   "execution_count": 182,
   "metadata": {},
   "outputs": [
    {
     "data": {
      "text/html": [
       "<div>\n",
       "<style scoped>\n",
       "    .dataframe tbody tr th:only-of-type {\n",
       "        vertical-align: middle;\n",
       "    }\n",
       "\n",
       "    .dataframe tbody tr th {\n",
       "        vertical-align: top;\n",
       "    }\n",
       "\n",
       "    .dataframe thead th {\n",
       "        text-align: right;\n",
       "    }\n",
       "</style>\n",
       "<table border=\"1\" class=\"dataframe\">\n",
       "  <thead>\n",
       "    <tr style=\"text-align: right;\">\n",
       "      <th></th>\n",
       "      <th>Person</th>\n",
       "      <th>gender</th>\n",
       "      <th>Age</th>\n",
       "      <th>Height</th>\n",
       "      <th>initialWeight</th>\n",
       "      <th>Diet</th>\n",
       "      <th>weight6weeks</th>\n",
       "      <th>weightloss</th>\n",
       "    </tr>\n",
       "  </thead>\n",
       "  <tbody>\n",
       "    <tr>\n",
       "      <th>0</th>\n",
       "      <td>25</td>\n",
       "      <td>NaN</td>\n",
       "      <td>41</td>\n",
       "      <td>171</td>\n",
       "      <td>60</td>\n",
       "      <td>Diet B</td>\n",
       "      <td>60.0</td>\n",
       "      <td>0.0</td>\n",
       "    </tr>\n",
       "    <tr>\n",
       "      <th>1</th>\n",
       "      <td>26</td>\n",
       "      <td>NaN</td>\n",
       "      <td>32</td>\n",
       "      <td>174</td>\n",
       "      <td>103</td>\n",
       "      <td>Diet B</td>\n",
       "      <td>103.0</td>\n",
       "      <td>0.0</td>\n",
       "    </tr>\n",
       "    <tr>\n",
       "      <th>2</th>\n",
       "      <td>1</td>\n",
       "      <td>0.0</td>\n",
       "      <td>22</td>\n",
       "      <td>159</td>\n",
       "      <td>58</td>\n",
       "      <td>Diet A</td>\n",
       "      <td>54.2</td>\n",
       "      <td>3.8</td>\n",
       "    </tr>\n",
       "    <tr>\n",
       "      <th>3</th>\n",
       "      <td>2</td>\n",
       "      <td>0.0</td>\n",
       "      <td>46</td>\n",
       "      <td>192</td>\n",
       "      <td>60</td>\n",
       "      <td>Diet A</td>\n",
       "      <td>54.0</td>\n",
       "      <td>6.0</td>\n",
       "    </tr>\n",
       "    <tr>\n",
       "      <th>4</th>\n",
       "      <td>3</td>\n",
       "      <td>0.0</td>\n",
       "      <td>55</td>\n",
       "      <td>170</td>\n",
       "      <td>64</td>\n",
       "      <td>Diet A</td>\n",
       "      <td>63.3</td>\n",
       "      <td>0.7</td>\n",
       "    </tr>\n",
       "    <tr>\n",
       "      <th>...</th>\n",
       "      <td>...</td>\n",
       "      <td>...</td>\n",
       "      <td>...</td>\n",
       "      <td>...</td>\n",
       "      <td>...</td>\n",
       "      <td>...</td>\n",
       "      <td>...</td>\n",
       "      <td>...</td>\n",
       "    </tr>\n",
       "    <tr>\n",
       "      <th>73</th>\n",
       "      <td>74</td>\n",
       "      <td>1.0</td>\n",
       "      <td>35</td>\n",
       "      <td>183</td>\n",
       "      <td>83</td>\n",
       "      <td>Diet C</td>\n",
       "      <td>80.2</td>\n",
       "      <td>2.8</td>\n",
       "    </tr>\n",
       "    <tr>\n",
       "      <th>74</th>\n",
       "      <td>75</td>\n",
       "      <td>1.0</td>\n",
       "      <td>49</td>\n",
       "      <td>177</td>\n",
       "      <td>84</td>\n",
       "      <td>Diet C</td>\n",
       "      <td>79.9</td>\n",
       "      <td>4.1</td>\n",
       "    </tr>\n",
       "    <tr>\n",
       "      <th>75</th>\n",
       "      <td>76</td>\n",
       "      <td>1.0</td>\n",
       "      <td>28</td>\n",
       "      <td>164</td>\n",
       "      <td>85</td>\n",
       "      <td>Diet C</td>\n",
       "      <td>79.7</td>\n",
       "      <td>5.3</td>\n",
       "    </tr>\n",
       "    <tr>\n",
       "      <th>76</th>\n",
       "      <td>77</td>\n",
       "      <td>1.0</td>\n",
       "      <td>40</td>\n",
       "      <td>167</td>\n",
       "      <td>87</td>\n",
       "      <td>Diet C</td>\n",
       "      <td>77.8</td>\n",
       "      <td>9.2</td>\n",
       "    </tr>\n",
       "    <tr>\n",
       "      <th>77</th>\n",
       "      <td>78</td>\n",
       "      <td>1.0</td>\n",
       "      <td>51</td>\n",
       "      <td>175</td>\n",
       "      <td>88</td>\n",
       "      <td>Diet C</td>\n",
       "      <td>81.9</td>\n",
       "      <td>6.1</td>\n",
       "    </tr>\n",
       "  </tbody>\n",
       "</table>\n",
       "<p>78 rows × 8 columns</p>\n",
       "</div>"
      ],
      "text/plain": [
       "    Person  gender  Age  Height  initialWeight    Diet  weight6weeks  \\\n",
       "0       25     NaN   41     171             60  Diet B          60.0   \n",
       "1       26     NaN   32     174            103  Diet B         103.0   \n",
       "2        1     0.0   22     159             58  Diet A          54.2   \n",
       "3        2     0.0   46     192             60  Diet A          54.0   \n",
       "4        3     0.0   55     170             64  Diet A          63.3   \n",
       "..     ...     ...  ...     ...            ...     ...           ...   \n",
       "73      74     1.0   35     183             83  Diet C          80.2   \n",
       "74      75     1.0   49     177             84  Diet C          79.9   \n",
       "75      76     1.0   28     164             85  Diet C          79.7   \n",
       "76      77     1.0   40     167             87  Diet C          77.8   \n",
       "77      78     1.0   51     175             88  Diet C          81.9   \n",
       "\n",
       "    weightloss  \n",
       "0          0.0  \n",
       "1          0.0  \n",
       "2          3.8  \n",
       "3          6.0  \n",
       "4          0.7  \n",
       "..         ...  \n",
       "73         2.8  \n",
       "74         4.1  \n",
       "75         5.3  \n",
       "76         9.2  \n",
       "77         6.1  \n",
       "\n",
       "[78 rows x 8 columns]"
      ]
     },
     "execution_count": 182,
     "metadata": {},
     "output_type": "execute_result"
    }
   ],
   "source": [
    "df['weightloss'] = (df['initialWeight'] - df['weight6weeks']) #creating my dependent variable\n",
    "df"
   ]
  },
  {
   "cell_type": "code",
   "execution_count": 183,
   "metadata": {},
   "outputs": [
    {
     "data": {
      "text/plain": [
       "Person           0\n",
       "gender           2\n",
       "Age              0\n",
       "Height           0\n",
       "initialWeight    0\n",
       "Diet             0\n",
       "weight6weeks     0\n",
       "weightloss       0\n",
       "dtype: int64"
      ]
     },
     "execution_count": 183,
     "metadata": {},
     "output_type": "execute_result"
    }
   ],
   "source": [
    "df.isna().sum() # looking into the Nan values"
   ]
  },
  {
   "cell_type": "markdown",
   "metadata": {},
   "source": [
    "There are two instances where the gender is Nan. It appears that they participants did not fully participate in the trial. Due to the small number of datapoints, these data will be dropped."
   ]
  },
  {
   "cell_type": "code",
   "execution_count": 184,
   "metadata": {},
   "outputs": [
    {
     "data": {
      "text/html": [
       "<div>\n",
       "<style scoped>\n",
       "    .dataframe tbody tr th:only-of-type {\n",
       "        vertical-align: middle;\n",
       "    }\n",
       "\n",
       "    .dataframe tbody tr th {\n",
       "        vertical-align: top;\n",
       "    }\n",
       "\n",
       "    .dataframe thead th {\n",
       "        text-align: right;\n",
       "    }\n",
       "</style>\n",
       "<table border=\"1\" class=\"dataframe\">\n",
       "  <thead>\n",
       "    <tr style=\"text-align: right;\">\n",
       "      <th></th>\n",
       "      <th>Person</th>\n",
       "      <th>gender</th>\n",
       "      <th>Age</th>\n",
       "      <th>Height</th>\n",
       "      <th>initialWeight</th>\n",
       "      <th>Diet</th>\n",
       "      <th>weight6weeks</th>\n",
       "      <th>weightloss</th>\n",
       "    </tr>\n",
       "  </thead>\n",
       "  <tbody>\n",
       "    <tr>\n",
       "      <th>2</th>\n",
       "      <td>1</td>\n",
       "      <td>0.0</td>\n",
       "      <td>22</td>\n",
       "      <td>159</td>\n",
       "      <td>58</td>\n",
       "      <td>Diet A</td>\n",
       "      <td>54.2</td>\n",
       "      <td>3.8</td>\n",
       "    </tr>\n",
       "    <tr>\n",
       "      <th>3</th>\n",
       "      <td>2</td>\n",
       "      <td>0.0</td>\n",
       "      <td>46</td>\n",
       "      <td>192</td>\n",
       "      <td>60</td>\n",
       "      <td>Diet A</td>\n",
       "      <td>54.0</td>\n",
       "      <td>6.0</td>\n",
       "    </tr>\n",
       "    <tr>\n",
       "      <th>4</th>\n",
       "      <td>3</td>\n",
       "      <td>0.0</td>\n",
       "      <td>55</td>\n",
       "      <td>170</td>\n",
       "      <td>64</td>\n",
       "      <td>Diet A</td>\n",
       "      <td>63.3</td>\n",
       "      <td>0.7</td>\n",
       "    </tr>\n",
       "    <tr>\n",
       "      <th>5</th>\n",
       "      <td>4</td>\n",
       "      <td>0.0</td>\n",
       "      <td>33</td>\n",
       "      <td>171</td>\n",
       "      <td>64</td>\n",
       "      <td>Diet A</td>\n",
       "      <td>61.1</td>\n",
       "      <td>2.9</td>\n",
       "    </tr>\n",
       "    <tr>\n",
       "      <th>6</th>\n",
       "      <td>5</td>\n",
       "      <td>0.0</td>\n",
       "      <td>50</td>\n",
       "      <td>170</td>\n",
       "      <td>65</td>\n",
       "      <td>Diet A</td>\n",
       "      <td>62.2</td>\n",
       "      <td>2.8</td>\n",
       "    </tr>\n",
       "    <tr>\n",
       "      <th>...</th>\n",
       "      <td>...</td>\n",
       "      <td>...</td>\n",
       "      <td>...</td>\n",
       "      <td>...</td>\n",
       "      <td>...</td>\n",
       "      <td>...</td>\n",
       "      <td>...</td>\n",
       "      <td>...</td>\n",
       "    </tr>\n",
       "    <tr>\n",
       "      <th>73</th>\n",
       "      <td>74</td>\n",
       "      <td>1.0</td>\n",
       "      <td>35</td>\n",
       "      <td>183</td>\n",
       "      <td>83</td>\n",
       "      <td>Diet C</td>\n",
       "      <td>80.2</td>\n",
       "      <td>2.8</td>\n",
       "    </tr>\n",
       "    <tr>\n",
       "      <th>74</th>\n",
       "      <td>75</td>\n",
       "      <td>1.0</td>\n",
       "      <td>49</td>\n",
       "      <td>177</td>\n",
       "      <td>84</td>\n",
       "      <td>Diet C</td>\n",
       "      <td>79.9</td>\n",
       "      <td>4.1</td>\n",
       "    </tr>\n",
       "    <tr>\n",
       "      <th>75</th>\n",
       "      <td>76</td>\n",
       "      <td>1.0</td>\n",
       "      <td>28</td>\n",
       "      <td>164</td>\n",
       "      <td>85</td>\n",
       "      <td>Diet C</td>\n",
       "      <td>79.7</td>\n",
       "      <td>5.3</td>\n",
       "    </tr>\n",
       "    <tr>\n",
       "      <th>76</th>\n",
       "      <td>77</td>\n",
       "      <td>1.0</td>\n",
       "      <td>40</td>\n",
       "      <td>167</td>\n",
       "      <td>87</td>\n",
       "      <td>Diet C</td>\n",
       "      <td>77.8</td>\n",
       "      <td>9.2</td>\n",
       "    </tr>\n",
       "    <tr>\n",
       "      <th>77</th>\n",
       "      <td>78</td>\n",
       "      <td>1.0</td>\n",
       "      <td>51</td>\n",
       "      <td>175</td>\n",
       "      <td>88</td>\n",
       "      <td>Diet C</td>\n",
       "      <td>81.9</td>\n",
       "      <td>6.1</td>\n",
       "    </tr>\n",
       "  </tbody>\n",
       "</table>\n",
       "<p>76 rows × 8 columns</p>\n",
       "</div>"
      ],
      "text/plain": [
       "    Person  gender  Age  Height  initialWeight    Diet  weight6weeks  \\\n",
       "2        1     0.0   22     159             58  Diet A          54.2   \n",
       "3        2     0.0   46     192             60  Diet A          54.0   \n",
       "4        3     0.0   55     170             64  Diet A          63.3   \n",
       "5        4     0.0   33     171             64  Diet A          61.1   \n",
       "6        5     0.0   50     170             65  Diet A          62.2   \n",
       "..     ...     ...  ...     ...            ...     ...           ...   \n",
       "73      74     1.0   35     183             83  Diet C          80.2   \n",
       "74      75     1.0   49     177             84  Diet C          79.9   \n",
       "75      76     1.0   28     164             85  Diet C          79.7   \n",
       "76      77     1.0   40     167             87  Diet C          77.8   \n",
       "77      78     1.0   51     175             88  Diet C          81.9   \n",
       "\n",
       "    weightloss  \n",
       "2          3.8  \n",
       "3          6.0  \n",
       "4          0.7  \n",
       "5          2.9  \n",
       "6          2.8  \n",
       "..         ...  \n",
       "73         2.8  \n",
       "74         4.1  \n",
       "75         5.3  \n",
       "76         9.2  \n",
       "77         6.1  \n",
       "\n",
       "[76 rows x 8 columns]"
      ]
     },
     "execution_count": 184,
     "metadata": {},
     "output_type": "execute_result"
    }
   ],
   "source": [
    "df.dropna(axis=0, how='all', subset=['gender'], inplace=True)\n",
    "df"
   ]
  },
  {
   "cell_type": "code",
   "execution_count": 185,
   "metadata": {},
   "outputs": [
    {
     "data": {
      "text/html": [
       "<div>\n",
       "<style scoped>\n",
       "    .dataframe tbody tr th:only-of-type {\n",
       "        vertical-align: middle;\n",
       "    }\n",
       "\n",
       "    .dataframe tbody tr th {\n",
       "        vertical-align: top;\n",
       "    }\n",
       "\n",
       "    .dataframe thead th {\n",
       "        text-align: right;\n",
       "    }\n",
       "</style>\n",
       "<table border=\"1\" class=\"dataframe\">\n",
       "  <thead>\n",
       "    <tr style=\"text-align: right;\">\n",
       "      <th></th>\n",
       "      <th>count</th>\n",
       "      <th>mean</th>\n",
       "      <th>std</th>\n",
       "      <th>min</th>\n",
       "      <th>25%</th>\n",
       "      <th>50%</th>\n",
       "      <th>75%</th>\n",
       "      <th>max</th>\n",
       "    </tr>\n",
       "    <tr>\n",
       "      <th>Diet</th>\n",
       "      <th></th>\n",
       "      <th></th>\n",
       "      <th></th>\n",
       "      <th></th>\n",
       "      <th></th>\n",
       "      <th></th>\n",
       "      <th></th>\n",
       "      <th></th>\n",
       "    </tr>\n",
       "  </thead>\n",
       "  <tbody>\n",
       "    <tr>\n",
       "      <th>Diet A</th>\n",
       "      <td>24.0</td>\n",
       "      <td>3.300000</td>\n",
       "      <td>2.240148</td>\n",
       "      <td>-0.6</td>\n",
       "      <td>1.975</td>\n",
       "      <td>3.05</td>\n",
       "      <td>3.95</td>\n",
       "      <td>9.0</td>\n",
       "    </tr>\n",
       "    <tr>\n",
       "      <th>Diet B</th>\n",
       "      <td>25.0</td>\n",
       "      <td>3.268000</td>\n",
       "      <td>2.464535</td>\n",
       "      <td>-2.1</td>\n",
       "      <td>2.000</td>\n",
       "      <td>3.50</td>\n",
       "      <td>4.70</td>\n",
       "      <td>7.9</td>\n",
       "    </tr>\n",
       "    <tr>\n",
       "      <th>Diet C</th>\n",
       "      <td>27.0</td>\n",
       "      <td>5.148148</td>\n",
       "      <td>2.395568</td>\n",
       "      <td>0.5</td>\n",
       "      <td>3.450</td>\n",
       "      <td>5.40</td>\n",
       "      <td>7.00</td>\n",
       "      <td>9.2</td>\n",
       "    </tr>\n",
       "  </tbody>\n",
       "</table>\n",
       "</div>"
      ],
      "text/plain": [
       "        count      mean       std  min    25%   50%   75%  max\n",
       "Diet                                                          \n",
       "Diet A   24.0  3.300000  2.240148 -0.6  1.975  3.05  3.95  9.0\n",
       "Diet B   25.0  3.268000  2.464535 -2.1  2.000  3.50  4.70  7.9\n",
       "Diet C   27.0  5.148148  2.395568  0.5  3.450  5.40  7.00  9.2"
      ]
     },
     "execution_count": 185,
     "metadata": {},
     "output_type": "execute_result"
    }
   ],
   "source": [
    "df.groupby(\"Diet\")['weightloss'].describe()"
   ]
  },
  {
   "cell_type": "code",
   "execution_count": 186,
   "metadata": {},
   "outputs": [
    {
     "data": {
      "text/plain": [
       "Diet C    27\n",
       "Diet B    25\n",
       "Diet A    24\n",
       "Name: Diet, dtype: int64"
      ]
     },
     "execution_count": 186,
     "metadata": {},
     "output_type": "execute_result"
    }
   ],
   "source": [
    "df['Diet'].value_counts()"
   ]
  },
  {
   "cell_type": "code",
   "execution_count": 187,
   "metadata": {},
   "outputs": [
    {
     "name": "stdout",
     "output_type": "stream",
     "text": [
      "['$\\\\mathdefault{0}$', '$\\\\mathdefault{1}$']\n"
     ]
    },
    {
     "data": {
      "image/png": "[encoded data removed]",
      "text/plain": [
       "<Figure size 432x288 with 1 Axes>"
      ]
     },
     "metadata": {
      "needs_background": "light"
     },
     "output_type": "display_data"
    }
   ],
   "source": [
    "# legend_elements() is a method so we must name our scatter plat scatter...\n",
    "scatter = plt.scatter(df.initialWeight,df.Height, c=df.gender, cmap=\"bwr\")\n",
    "\n",
    "# No arguments necessary, default is prop='colors'\n",
    "handles, labels = scatter.legend_elements()\n",
    "\n",
    "# Print out labels to see which appears first\n",
    "print(labels)\n",
    "\n",
    "# Re-name labels to Gender\n",
    "labels = ['Female','Male']\n",
    "leg = plt.legend(handles, labels, frameon=True)\n",
    "leg.get_frame().set_linewidth(1.0)\n",
    "leg.get_frame().set_edgecolor('b')\n",
    "plt.xlabel(\"Weight\")\n",
    "plt.ylabel(\"Height\")\n",
    "plt.title(\"Height and Weight of the each sex\")\n",
    "plt.show()\n",
    "# Reference (9)\n",
    "# https://blog.finxter.com/matplotlib-scatter-plot/"
   ]
  },
  {
   "cell_type": "markdown",
   "metadata": {},
   "source": [
    "From the above chart, it is inferred from the two clusters that one group has higher instances of height and initial weight. It is well known that males are on average taller and weigh more than their female counterparts. It is assumed that this group is male and the labels will be changed accordingly."
   ]
  },
  {
   "cell_type": "code",
   "execution_count": 188,
   "metadata": {},
   "outputs": [
    {
     "data": {
      "text/html": [
       "<div>\n",
       "<style scoped>\n",
       "    .dataframe tbody tr th:only-of-type {\n",
       "        vertical-align: middle;\n",
       "    }\n",
       "\n",
       "    .dataframe tbody tr th {\n",
       "        vertical-align: top;\n",
       "    }\n",
       "\n",
       "    .dataframe thead th {\n",
       "        text-align: right;\n",
       "    }\n",
       "</style>\n",
       "<table border=\"1\" class=\"dataframe\">\n",
       "  <thead>\n",
       "    <tr style=\"text-align: right;\">\n",
       "      <th></th>\n",
       "      <th>Person</th>\n",
       "      <th>gender</th>\n",
       "      <th>Age</th>\n",
       "      <th>Height</th>\n",
       "      <th>initialWeight</th>\n",
       "      <th>Diet</th>\n",
       "      <th>weight6weeks</th>\n",
       "      <th>weightloss</th>\n",
       "    </tr>\n",
       "  </thead>\n",
       "  <tbody>\n",
       "    <tr>\n",
       "      <th>2</th>\n",
       "      <td>1</td>\n",
       "      <td>Female</td>\n",
       "      <td>22</td>\n",
       "      <td>159</td>\n",
       "      <td>58</td>\n",
       "      <td>Diet A</td>\n",
       "      <td>54.2</td>\n",
       "      <td>3.8</td>\n",
       "    </tr>\n",
       "    <tr>\n",
       "      <th>3</th>\n",
       "      <td>2</td>\n",
       "      <td>Female</td>\n",
       "      <td>46</td>\n",
       "      <td>192</td>\n",
       "      <td>60</td>\n",
       "      <td>Diet A</td>\n",
       "      <td>54.0</td>\n",
       "      <td>6.0</td>\n",
       "    </tr>\n",
       "    <tr>\n",
       "      <th>4</th>\n",
       "      <td>3</td>\n",
       "      <td>Female</td>\n",
       "      <td>55</td>\n",
       "      <td>170</td>\n",
       "      <td>64</td>\n",
       "      <td>Diet A</td>\n",
       "      <td>63.3</td>\n",
       "      <td>0.7</td>\n",
       "    </tr>\n",
       "    <tr>\n",
       "      <th>5</th>\n",
       "      <td>4</td>\n",
       "      <td>Female</td>\n",
       "      <td>33</td>\n",
       "      <td>171</td>\n",
       "      <td>64</td>\n",
       "      <td>Diet A</td>\n",
       "      <td>61.1</td>\n",
       "      <td>2.9</td>\n",
       "    </tr>\n",
       "    <tr>\n",
       "      <th>6</th>\n",
       "      <td>5</td>\n",
       "      <td>Female</td>\n",
       "      <td>50</td>\n",
       "      <td>170</td>\n",
       "      <td>65</td>\n",
       "      <td>Diet A</td>\n",
       "      <td>62.2</td>\n",
       "      <td>2.8</td>\n",
       "    </tr>\n",
       "    <tr>\n",
       "      <th>...</th>\n",
       "      <td>...</td>\n",
       "      <td>...</td>\n",
       "      <td>...</td>\n",
       "      <td>...</td>\n",
       "      <td>...</td>\n",
       "      <td>...</td>\n",
       "      <td>...</td>\n",
       "      <td>...</td>\n",
       "    </tr>\n",
       "    <tr>\n",
       "      <th>73</th>\n",
       "      <td>74</td>\n",
       "      <td>Male</td>\n",
       "      <td>35</td>\n",
       "      <td>183</td>\n",
       "      <td>83</td>\n",
       "      <td>Diet C</td>\n",
       "      <td>80.2</td>\n",
       "      <td>2.8</td>\n",
       "    </tr>\n",
       "    <tr>\n",
       "      <th>74</th>\n",
       "      <td>75</td>\n",
       "      <td>Male</td>\n",
       "      <td>49</td>\n",
       "      <td>177</td>\n",
       "      <td>84</td>\n",
       "      <td>Diet C</td>\n",
       "      <td>79.9</td>\n",
       "      <td>4.1</td>\n",
       "    </tr>\n",
       "    <tr>\n",
       "      <th>75</th>\n",
       "      <td>76</td>\n",
       "      <td>Male</td>\n",
       "      <td>28</td>\n",
       "      <td>164</td>\n",
       "      <td>85</td>\n",
       "      <td>Diet C</td>\n",
       "      <td>79.7</td>\n",
       "      <td>5.3</td>\n",
       "    </tr>\n",
       "    <tr>\n",
       "      <th>76</th>\n",
       "      <td>77</td>\n",
       "      <td>Male</td>\n",
       "      <td>40</td>\n",
       "      <td>167</td>\n",
       "      <td>87</td>\n",
       "      <td>Diet C</td>\n",
       "      <td>77.8</td>\n",
       "      <td>9.2</td>\n",
       "    </tr>\n",
       "    <tr>\n",
       "      <th>77</th>\n",
       "      <td>78</td>\n",
       "      <td>Male</td>\n",
       "      <td>51</td>\n",
       "      <td>175</td>\n",
       "      <td>88</td>\n",
       "      <td>Diet C</td>\n",
       "      <td>81.9</td>\n",
       "      <td>6.1</td>\n",
       "    </tr>\n",
       "  </tbody>\n",
       "</table>\n",
       "<p>76 rows × 8 columns</p>\n",
       "</div>"
      ],
      "text/plain": [
       "    Person  gender  Age  Height  initialWeight    Diet  weight6weeks  \\\n",
       "2        1  Female   22     159             58  Diet A          54.2   \n",
       "3        2  Female   46     192             60  Diet A          54.0   \n",
       "4        3  Female   55     170             64  Diet A          63.3   \n",
       "5        4  Female   33     171             64  Diet A          61.1   \n",
       "6        5  Female   50     170             65  Diet A          62.2   \n",
       "..     ...     ...  ...     ...            ...     ...           ...   \n",
       "73      74    Male   35     183             83  Diet C          80.2   \n",
       "74      75    Male   49     177             84  Diet C          79.9   \n",
       "75      76    Male   28     164             85  Diet C          79.7   \n",
       "76      77    Male   40     167             87  Diet C          77.8   \n",
       "77      78    Male   51     175             88  Diet C          81.9   \n",
       "\n",
       "    weightloss  \n",
       "2          3.8  \n",
       "3          6.0  \n",
       "4          0.7  \n",
       "5          2.9  \n",
       "6          2.8  \n",
       "..         ...  \n",
       "73         2.8  \n",
       "74         4.1  \n",
       "75         5.3  \n",
       "76         9.2  \n",
       "77         6.1  \n",
       "\n",
       "[76 rows x 8 columns]"
      ]
     },
     "execution_count": 188,
     "metadata": {},
     "output_type": "execute_result"
    }
   ],
   "source": [
    "df['gender'] = df['gender'].replace([0,1], ['Female', 'Male']) #changing the names of the Diet variables \n",
    "df"
   ]
  },
  {
   "cell_type": "code",
   "execution_count": 189,
   "metadata": {},
   "outputs": [
    {
     "data": {
      "image/png": "[encoded data removed]",
      "text/plain": [
       "<Figure size 432x288 with 1 Axes>"
      ]
     },
     "metadata": {
      "needs_background": "light"
     },
     "output_type": "display_data"
    }
   ],
   "source": [
    "# count plot on single categorical variable\n",
    "sns.countplot(x ='Diet', hue ='gender', data = df)\n",
    " \n",
    "# Show the plot\n",
    "plt.show()"
   ]
  },
  {
   "cell_type": "code",
   "execution_count": 190,
   "metadata": {},
   "outputs": [
    {
     "data": {
      "text/plain": [
       "count         76\n",
       "unique         3\n",
       "top       Diet C\n",
       "freq          27\n",
       "Name: Diet, dtype: object"
      ]
     },
     "execution_count": 190,
     "metadata": {},
     "output_type": "execute_result"
    }
   ],
   "source": [
    "df.Diet.describe()"
   ]
  },
  {
   "cell_type": "markdown",
   "metadata": {},
   "source": [
    "<a id='chapter4'></a>\n",
    "## Section 4: Hypothesis and Assumption Testing of Dataset to meet Anova Requirements"
   ]
  },
  {
   "cell_type": "markdown",
   "metadata": {
    "jp-MarkdownHeadingCollapsed": true,
    "tags": []
   },
   "source": [
    "<a id='chapter4a'></a>\n",
    "### Hypothesis of this notebook\n",
    "The following is the hypothesis drawn from the initial exploratory data analysis:\n",
    "<br>\n",
    "\n",
    "**A Null Hypothesis(HO)** The means of all diets are equal with respect to weightloss\n",
    "<br>\n",
    "\n",
    "**An Alternative Hypothesis** The mean of at least one diet is different with respect to weightloss\n"
   ]
  },
  {
   "cell_type": "markdown",
   "metadata": {},
   "source": [
    "<a id='chapter4b'></a>\n",
    "### Assumptions within the dataset\n",
    "***\n",
    "<br>\n",
    "There are six assumptions being considered in this notebook that are outlined in the below table *(10),(11),(12),(13)*. "
   ]
  },
  {
   "cell_type": "markdown",
   "metadata": {},
   "source": [
    "#### Assumptions\n",
    "**Your dependent variable should be measured at the interval or ratio level** \n",
    "- Dependent variables must be of 'metric measurements'and the values take on any given number within a range  \n",
    "**Your independent variable should consist of two or more categorical independent groups**\n",
    "- The categorical groups shouldn't overlap, being part of one group shouldn't affect the chance of being part of another group.\n",
    "**You should have independence of observation**\n",
    "- There is no relationship between observations in each group or between the groups themselves. Each time there is a new datapoint in a group it is independent of all other datapoints in that group.\n",
    "**There should be no significant outliers** \n",
    "- It can be difficult to define outlier in the context of the data set.\n",
    "**Your dependent variable should be approximately normally distributed for each category of the independent**\n",
    "- When measured, the data points should take the form of a bell shaped curve.\n",
    "**There needs to be a homogeneity of variances**\n",
    "- This assumption can be tested using a Levene's test for homogeneity of variances."
   ]
  },
  {
   "cell_type": "markdown",
   "metadata": {},
   "source": [
    "#### Assumption 1: Dependent Variable\n",
    "***"
   ]
  },
  {
   "cell_type": "markdown",
   "metadata": {},
   "source": [
    "The chosen dependent variable in this instance is the metric weighloss which is measured in kgs. "
   ]
  },
  {
   "cell_type": "code",
   "execution_count": 191,
   "metadata": {},
   "outputs": [
    {
     "data": {
      "text/plain": [
       "2     3.8\n",
       "3     6.0\n",
       "4     0.7\n",
       "5     2.9\n",
       "6     2.8\n",
       "     ... \n",
       "73    2.8\n",
       "74    4.1\n",
       "75    5.3\n",
       "76    9.2\n",
       "77    6.1\n",
       "Name: weightloss, Length: 76, dtype: float64"
      ]
     },
     "execution_count": 191,
     "metadata": {},
     "output_type": "execute_result"
    }
   ],
   "source": [
    "#The dependent variable\n",
    "dependent = df['weightloss']\n",
    "dependent"
   ]
  },
  {
   "cell_type": "markdown",
   "metadata": {},
   "source": [
    "#### Assumption 2: Independent Variable\n",
    "***"
   ]
  },
  {
   "cell_type": "markdown",
   "metadata": {},
   "source": [
    "As we are going to look at two independent variables in this notebook, the author has chosen the following:\n",
    "<br>\n",
    "**Diet** - categories are: Diet A, Diet B and Diet C\n",
    "<br>\n",
    "**Gender** - catogories are: 0(which = Female) and 1 (which = Male)"
   ]
  },
  {
   "cell_type": "code",
   "execution_count": 192,
   "metadata": {},
   "outputs": [
    {
     "data": {
      "text/plain": [
       "2     Diet A\n",
       "3     Diet A\n",
       "4     Diet A\n",
       "5     Diet A\n",
       "6     Diet A\n",
       "       ...  \n",
       "73    Diet C\n",
       "74    Diet C\n",
       "75    Diet C\n",
       "76    Diet C\n",
       "77    Diet C\n",
       "Name: Diet, Length: 76, dtype: object"
      ]
     },
     "execution_count": 192,
     "metadata": {},
     "output_type": "execute_result"
    }
   ],
   "source": [
    "#first independent variable\n",
    "independent = df['Diet']\n",
    "independent"
   ]
  },
  {
   "cell_type": "markdown",
   "metadata": {
    "tags": []
   },
   "source": [
    "#### Assumption 3: Independence of Observation\n",
    "***"
   ]
  },
  {
   "cell_type": "markdown",
   "metadata": {},
   "source": [
    "This is a study design issues rather than something that you can test for. For this to be reached the \"observations in each group are independent of each other and the observations within groups were obtained by a random sample\" *(14)*. There is no standardised test to ensure independence of observation, nonetheless if this assumption is violated, the results obtained from the same could be wrong. Strong, robust and ethical data collection is required *(15)*."
   ]
  },
  {
   "cell_type": "markdown",
   "metadata": {
    "tags": []
   },
   "source": [
    "#### Assumption 4: There should be no significant outliers\n",
    "***"
   ]
  },
  {
   "cell_type": "markdown",
   "metadata": {},
   "source": [
    "Outliers are unusual values in a dataset which can impact the analysis and distort the findings from research *(16)*. The diet dataset has already been preprocessed to remove any null values. Some casues of outliers can include: data entry errors, sampling errors and natural variations."
   ]
  },
  {
   "cell_type": "code",
   "execution_count": 193,
   "metadata": {},
   "outputs": [
    {
     "data": {
      "text/plain": [
       "<AxesSubplot:xlabel='weightloss', ylabel='Diet'>"
      ]
     },
     "execution_count": 193,
     "metadata": {},
     "output_type": "execute_result"
    },
    {
     "data": {
      "image/png": "[encoded data removed]",
      "text/plain": [
       "<Figure size 432x288 with 1 Axes>"
      ]
     },
     "metadata": {
      "needs_background": "light"
     },
     "output_type": "display_data"
    }
   ],
   "source": [
    "sns.boxplot(x=dependent, y=independent)"
   ]
  },
  {
   "cell_type": "markdown",
   "metadata": {
    "tags": []
   },
   "source": [
    "#### Assumption 5: Normal Distribution with the Dataset\n",
    "***"
   ]
  },
  {
   "cell_type": "markdown",
   "metadata": {},
   "source": [
    "Normal Distribution has two parameters: the mean of the distribution and the standard deviation. The data points are centred around the mean. The higher the standard deviation the flatter the curve will be *(17)*. "
   ]
  },
  {
   "cell_type": "code",
   "execution_count": 194,
   "metadata": {},
   "outputs": [
    {
     "data": {
      "text/plain": [
       "<seaborn.axisgrid.FacetGrid at 0x23d69133eb0>"
      ]
     },
     "execution_count": 194,
     "metadata": {},
     "output_type": "execute_result"
    },
    {
     "data": {
      "image/png": "[encoded data removed]",
      "text/plain": [
       "<Figure size 426.625x360 with 1 Axes>"
      ]
     },
     "metadata": {
      "needs_background": "light"
     },
     "output_type": "display_data"
    }
   ],
   "source": [
    "#To explore the normal distribution of each of the Diets in respect to the weightloss category\n",
    "#KDE of the three categories\n",
    "sns.displot(x=dependent, hue=independent, kind=\"kde\")"
   ]
  },
  {
   "cell_type": "markdown",
   "metadata": {},
   "source": [
    "As inferred in the previous assumption, there are outliers in the dataset and they have an negative impact on the data analysis. Above, you can see that Diet A slightly positively skewed distribution where as the other two variables are minimally negatively skewed in their distribution. However, they all appear to have a bell shaped curve *(18)*. "
   ]
  },
  {
   "cell_type": "markdown",
   "metadata": {},
   "source": [
    "Since the dataset is small and there are potential outliers, a Shapiro Wilks test will be performed on each of the dependent variables (Diet A, Diet B and Diet C). \n",
    "Next, each of the dependent variables will be extracted and a Shapiro Wilks Normality Test to see if the the data accepts or rejects the hypothesis of normality *(19)*. Shapiro was selected because the size of the sample of the dataset is relatively small (*n = 76*) *(20)*. "
   ]
  },
  {
   "cell_type": "code",
   "execution_count": 195,
   "metadata": {},
   "outputs": [
    {
     "data": {
      "text/plain": [
       "2    3.8\n",
       "3    6.0\n",
       "4    0.7\n",
       "5    2.9\n",
       "6    2.8\n",
       "Name: weightloss, dtype: float64"
      ]
     },
     "execution_count": 195,
     "metadata": {},
     "output_type": "execute_result"
    }
   ],
   "source": [
    "#extract the Diet A weight losses\n",
    "weightloss_dietA = dependent[independent == 'Diet A']\n",
    "weightloss_dietA.head()"
   ]
  },
  {
   "cell_type": "code",
   "execution_count": 196,
   "metadata": {},
   "outputs": [
    {
     "data": {
      "text/plain": [
       "ShapiroResult(statistic=0.9255314469337463, pvalue=0.07748671621084213)"
      ]
     },
     "execution_count": 196,
     "metadata": {},
     "output_type": "execute_result"
    }
   ],
   "source": [
    "ss.shapiro(weightloss_dietA)"
   ]
  },
  {
   "cell_type": "code",
   "execution_count": 197,
   "metadata": {},
   "outputs": [
    {
     "data": {
      "text/plain": [
       "16   -2.1\n",
       "17    2.0\n",
       "18    1.7\n",
       "19    4.3\n",
       "20    7.0\n",
       "Name: weightloss, dtype: float64"
      ]
     },
     "execution_count": 197,
     "metadata": {},
     "output_type": "execute_result"
    }
   ],
   "source": [
    "weightloss_dietB = dependent[independent == 'Diet B']\n",
    "weightloss_dietB.head()"
   ]
  },
  {
   "cell_type": "code",
   "execution_count": 198,
   "metadata": {},
   "outputs": [
    {
     "data": {
      "text/plain": [
       "ShapiroResult(statistic=0.9793620705604553, pvalue=0.8721737861633301)"
      ]
     },
     "execution_count": 198,
     "metadata": {},
     "output_type": "execute_result"
    }
   ],
   "source": [
    "ss.shapiro(weightloss_dietB)"
   ]
  },
  {
   "cell_type": "code",
   "execution_count": 199,
   "metadata": {},
   "outputs": [
    {
     "data": {
      "text/plain": [
       "30    7.0\n",
       "31    5.6\n",
       "32    3.4\n",
       "33    6.8\n",
       "34    7.8\n",
       "Name: weightloss, dtype: float64"
      ]
     },
     "execution_count": 199,
     "metadata": {},
     "output_type": "execute_result"
    }
   ],
   "source": [
    "#extract the Diet C weight losses\n",
    "weightloss_dietC = dependent[independent == 'Diet C']\n",
    "weightloss_dietC.head()"
   ]
  },
  {
   "cell_type": "code",
   "execution_count": 200,
   "metadata": {
    "tags": []
   },
   "outputs": [
    {
     "data": {
      "text/plain": [
       "ShapiroResult(statistic=0.9601252675056458, pvalue=0.37203603982925415)"
      ]
     },
     "execution_count": 200,
     "metadata": {},
     "output_type": "execute_result"
    }
   ],
   "source": [
    "ss.shapiro(weightloss_dietC)"
   ]
  },
  {
   "cell_type": "markdown",
   "metadata": {},
   "source": [
    "In each of the cases, the p > 0.05 which means that the test did not show evidence of non-normality *(21)*. "
   ]
  },
  {
   "cell_type": "markdown",
   "metadata": {
    "tags": []
   },
   "source": [
    "#### Assumption 6: There needs to be a homogenity of variances\n",
    "***"
   ]
  },
  {
   "cell_type": "markdown",
   "metadata": {},
   "source": [
    "This assumption examines the distribution of spread of values around the means of continous variables. This aims to determine whether or not they are relatively similiar *(22)*. A p value of less than 0.05 idicates a violation of the assumption. \"Listwise deletion, logarithmic transformation or non parametric methods\" should be considered as a n alternative *(23)*.  \n",
    "<br>\n",
    "Barlett's test for homogeneity is also conducted. This focus on determing a *\"test-statistic and finding the p value for the test-statistic, given the degrees of freedom and significance level\" *(24)* "
   ]
  },
  {
   "cell_type": "code",
   "execution_count": 201,
   "metadata": {},
   "outputs": [
    {
     "data": {
      "text/plain": [
       "LeveneResult(statistic=0.46290764582507116, pvalue=0.6312856401117967)"
      ]
     },
     "execution_count": 201,
     "metadata": {},
     "output_type": "execute_result"
    }
   ],
   "source": [
    "#conducting levene's test of homogenity\n",
    "ss.levene(\n",
    "    dependent[independent == 'Diet A'],\n",
    "    dependent[independent == 'Diet B'],\n",
    "    dependent[independent == 'Diet C'],\n",
    ")"
   ]
  },
  {
   "cell_type": "markdown",
   "metadata": {},
   "source": [
    "The test shows a p value of higher than 0.05 indicating that there is no evidence of violation of this assumption."
   ]
  },
  {
   "cell_type": "code",
   "execution_count": 202,
   "metadata": {
    "tags": []
   },
   "outputs": [
    {
     "name": "stdout",
     "output_type": "stream",
     "text": [
      "0.21811133918795061 0.8966804982694925\n"
     ]
    },
    {
     "data": {
      "text/plain": [
       "array(['Diet A', 'Diet B', 'Diet C'], dtype=object)"
      ]
     },
     "execution_count": 202,
     "metadata": {},
     "output_type": "execute_result"
    }
   ],
   "source": [
    "# conducting Bartlett's test\n",
    "from scipy.stats import bartlett \n",
    "#(25) \n",
    "\n",
    "# subsetting the data:\n",
    "DietA = df.query('Diet == \"Diet A\"')['weightloss']\n",
    "DietB = df.query('Diet == \"Diet B\"')['weightloss']\n",
    "DietC = df.query('Diet == \"Diet C\"')['weightloss']\n",
    "\n",
    "# Bartlett's test in Python with SciPy:\n",
    "stat, p = bartlett(DietA, DietB, DietC)\n",
    "\n",
    "# Get the results:\n",
    "print(stat, p)\n",
    "\n",
    "#to get each individual group\n",
    "df['Diet'].unique() \n",
    "\n",
    "#(26)"
   ]
  },
  {
   "cell_type": "markdown",
   "metadata": {},
   "source": [
    "The p value is greater thans the significance level, indicating that the null hypothesis should not be rejected and the assumption is met."
   ]
  },
  {
   "cell_type": "markdown",
   "metadata": {
    "tags": []
   },
   "source": [
    "<a id='chapter5'></a>\n",
    "## Section 5: Conducting the Anova Test and Post Hoc Tests"
   ]
  },
  {
   "cell_type": "markdown",
   "metadata": {
    "tags": []
   },
   "source": [
    "<a id='chapter5a'></a>\n",
    "### Anova and Diet Dataset: Fisher's One Way and Welch"
   ]
  },
  {
   "cell_type": "markdown",
   "metadata": {
    "tags": []
   },
   "source": [
    "#### Fisher's One Way Anova"
   ]
  },
  {
   "cell_type": "code",
   "execution_count": 203,
   "metadata": {},
   "outputs": [
    {
     "data": {
      "text/plain": [
       "F_onewayResult(statistic=5.383104474859926, pvalue=0.006595853108669741)"
      ]
     },
     "execution_count": 203,
     "metadata": {},
     "output_type": "execute_result"
    }
   ],
   "source": [
    "# ANOVA. https://www.statology.org/welchs-anova-in-python/\n",
    "ss.f_oneway(\n",
    "    dependent[independent == 'Diet A'],\n",
    "    dependent[independent == 'Diet B'],\n",
    "    dependent[independent == 'Diet C']\n",
    ")"
   ]
  },
  {
   "cell_type": "markdown",
   "metadata": {
    "tags": []
   },
   "source": [
    "The pvalue is under the recommended >0.05 indicating that there is a difference between the means of the groups. "
   ]
  },
  {
   "cell_type": "markdown",
   "metadata": {
    "tags": []
   },
   "source": [
    "#### Welch Anova"
   ]
  },
  {
   "cell_type": "code",
   "execution_count": 204,
   "metadata": {},
   "outputs": [
    {
     "name": "stdout",
     "output_type": "stream",
     "text": [
      "Requirement already satisfied: Pingouin in c:\\users\\owner1\\anaconda3\\lib\\site-packages (0.5.0)Note: you may need to restart the kernel to use updated packages.\n",
      "Requirement already satisfied: scikit-learn in c:\\users\\owner1\\anaconda3\\lib\\site-packages (from Pingouin) (0.24.2)\n",
      "Requirement already satisfied: pandas>=1.0 in c:\\users\\owner1\\anaconda3\\lib\\site-packages (from Pingouin) (1.3.4)\n",
      "Requirement already satisfied: numpy>=1.19 in c:\\users\\owner1\\anaconda3\\lib\\site-packages (from Pingouin) (1.20.3)\n",
      "Requirement already satisfied: statsmodels>=0.12.0 in c:\\users\\owner1\\anaconda3\\lib\\site-packages (from Pingouin) (0.12.2)\n",
      "Requirement already satisfied: matplotlib>=3.0.2 in c:\\users\\owner1\\anaconda3\\lib\\site-packages (from Pingouin) (3.4.3)\n",
      "Requirement already satisfied: seaborn>=0.9.0 in c:\\users\\owner1\\anaconda3\\lib\\site-packages (from Pingouin) (0.11.2)\n",
      "Requirement already satisfied: pandas-flavor>=0.2.0 in c:\\users\\owner1\\anaconda3\\lib\\site-packages (from Pingouin) (0.2.0)\n",
      "Requirement already satisfied: tabulate in c:\\users\\owner1\\anaconda3\\lib\\site-packages (from Pingouin) (0.8.9)\n",
      "Requirement already satisfied: outdated in c:\\users\\owner1\\anaconda3\\lib\\site-packages (from Pingouin) (0.2.1)\n",
      "Requirement already satisfied: scipy>=1.7 in c:\\users\\owner1\\anaconda3\\lib\\site-packages (from Pingouin) (1.7.1)\n",
      "Requirement already satisfied: kiwisolver>=1.0.1 in c:\\users\\owner1\\anaconda3\\lib\\site-packages (from matplotlib>=3.0.2->Pingouin) (1.3.1)\n",
      "Requirement already satisfied: pillow>=6.2.0 in c:\\users\\owner1\\anaconda3\\lib\\site-packages (from matplotlib>=3.0.2->Pingouin) (8.4.0)\n",
      "Requirement already satisfied: python-dateutil>=2.7 in c:\\users\\owner1\\anaconda3\\lib\\site-packages (from matplotlib>=3.0.2->Pingouin) (2.8.2)\n",
      "Requirement already satisfied: pyparsing>=2.2.1 in c:\\users\\owner1\\anaconda3\\lib\\site-packages (from matplotlib>=3.0.2->Pingouin) (3.0.4)\n",
      "Requirement already satisfied: cycler>=0.10 in c:\\users\\owner1\\anaconda3\\lib\\site-packages (from matplotlib>=3.0.2->Pingouin) (0.10.0)\n",
      "Requirement already satisfied: pytz>=2017.3 in c:\\users\\owner1\\anaconda3\\lib\\site-packages (from pandas>=1.0->Pingouin) (2021.3)\n",
      "Requirement already satisfied: xarray in c:\\users\\owner1\\anaconda3\\lib\\site-packages (from pandas-flavor>=0.2.0->Pingouin) (0.20.2)\n",
      "Requirement already satisfied: patsy>=0.5 in c:\\users\\owner1\\anaconda3\\lib\\site-packages (from statsmodels>=0.12.0->Pingouin) (0.5.2)\n",
      "Requirement already satisfied: littleutils in c:\\users\\owner1\\anaconda3\\lib\\site-packages (from outdated->Pingouin) (0.2.2)\n",
      "Requirement already satisfied: requests in c:\\users\\owner1\\anaconda3\\lib\\site-packages (from outdated->Pingouin) (2.26.0)\n",
      "Requirement already satisfied: joblib>=0.11 in c:\\users\\owner1\\anaconda3\\lib\\site-packages (from scikit-learn->Pingouin) (1.1.0)\n",
      "\n",
      "Requirement already satisfied: threadpoolctl>=2.0.0 in c:\\users\\owner1\\anaconda3\\lib\\site-packages (from scikit-learn->Pingouin) (2.2.0)\n",
      "Requirement already satisfied: six in c:\\users\\owner1\\anaconda3\\lib\\site-packages (from cycler>=0.10->matplotlib>=3.0.2->Pingouin) (1.16.0)\n",
      "Requirement already satisfied: urllib3<1.27,>=1.21.1 in c:\\users\\owner1\\anaconda3\\lib\\site-packages (from requests->outdated->Pingouin) (1.26.7)\n",
      "Requirement already satisfied: idna<4,>=2.5 in c:\\users\\owner1\\anaconda3\\lib\\site-packages (from requests->outdated->Pingouin) (3.2)\n",
      "Requirement already satisfied: charset-normalizer~=2.0.0 in c:\\users\\owner1\\anaconda3\\lib\\site-packages (from requests->outdated->Pingouin) (2.0.4)\n",
      "Requirement already satisfied: certifi>=2017.4.17 in c:\\users\\owner1\\anaconda3\\lib\\site-packages (from requests->outdated->Pingouin) (2021.10.8)\n"
     ]
    }
   ],
   "source": [
    "pip install Pingouin"
   ]
  },
  {
   "cell_type": "code",
   "execution_count": 205,
   "metadata": {},
   "outputs": [
    {
     "data": {
      "text/html": [
       "<div>\n",
       "<style scoped>\n",
       "    .dataframe tbody tr th:only-of-type {\n",
       "        vertical-align: middle;\n",
       "    }\n",
       "\n",
       "    .dataframe tbody tr th {\n",
       "        vertical-align: top;\n",
       "    }\n",
       "\n",
       "    .dataframe thead th {\n",
       "        text-align: right;\n",
       "    }\n",
       "</style>\n",
       "<table border=\"1\" class=\"dataframe\">\n",
       "  <thead>\n",
       "    <tr style=\"text-align: right;\">\n",
       "      <th></th>\n",
       "      <th>Source</th>\n",
       "      <th>ddof1</th>\n",
       "      <th>ddof2</th>\n",
       "      <th>F</th>\n",
       "      <th>p-unc</th>\n",
       "      <th>np2</th>\n",
       "    </tr>\n",
       "  </thead>\n",
       "  <tbody>\n",
       "    <tr>\n",
       "      <th>0</th>\n",
       "      <td>Diet</td>\n",
       "      <td>2</td>\n",
       "      <td>48.479892</td>\n",
       "      <td>5.269263</td>\n",
       "      <td>0.008497</td>\n",
       "      <td>0.128527</td>\n",
       "    </tr>\n",
       "  </tbody>\n",
       "</table>\n",
       "</div>"
      ],
      "text/plain": [
       "  Source  ddof1      ddof2         F     p-unc       np2\n",
       "0   Diet      2  48.479892  5.269263  0.008497  0.128527"
      ]
     },
     "execution_count": 205,
     "metadata": {},
     "output_type": "execute_result"
    }
   ],
   "source": [
    "import pingouin as pg\n",
    "import pandas as pd\n",
    "import numpy as np\n",
    "dv = dependent\n",
    "#perform Welch's ANOVA # https://www.statology.org/welchs-anova-in-python/\n",
    "pg.welch_anova(dv ='weightloss', between='Diet', data=df)"
   ]
  },
  {
   "cell_type": "markdown",
   "metadata": {},
   "source": [
    "The overall p value (0.008497) is less than 0.05 so we can reject the null hypothesis that all diets resulted in the same weightloss. In the next section, a range of post hoc tests are implemented to see what variables are impacting this result. "
   ]
  },
  {
   "cell_type": "markdown",
   "metadata": {
    "tags": []
   },
   "source": [
    "<a id='chapter5b'></a>\n",
    "### Post Hoc Tests: Tukey HSD test, GamesHowell and ttests"
   ]
  },
  {
   "cell_type": "code",
   "execution_count": 206,
   "metadata": {},
   "outputs": [
    {
     "name": "stdout",
     "output_type": "stream",
     "text": [
      "Multiple Comparison of Means - Tukey HSD, FWER=0.05\n",
      "===================================================\n",
      "group1 group2 meandiff p-adj   lower  upper  reject\n",
      "---------------------------------------------------\n",
      "Diet A Diet B   -0.032    0.9 -1.6531 1.5891  False\n",
      "Diet A Diet C   1.8481 0.0188  0.2567 3.4396   True\n",
      "Diet B Diet C   1.8801 0.0152  0.3057 3.4546   True\n",
      "---------------------------------------------------\n"
     ]
    }
   ],
   "source": [
    "#using post hoc test to determine the variance indicated in the previous section\n",
    "# (27)\n",
    "# (28)\n",
    "# Import the Tukey HSD test from statsmodels\n",
    "from statsmodels.stats.multicomp import pairwise_tukeyhsd\n",
    "\n",
    "\n",
    "# endog is the dependent variable (weightloss).\n",
    "# groups is the independent variable (Diet).\n",
    "# alpha is the p-value threshold. In this case anything below 0.05 will reject the null hypothesis.\n",
    "tukey = pairwise_tukeyhsd(endog=df['weightloss'],\n",
    "                          groups=df['Diet'],\n",
    "                          alpha=0.05)\n",
    "\n",
    "# Print the Tukey table\n",
    "print(tukey)"
   ]
  },
  {
   "cell_type": "markdown",
   "metadata": {},
   "source": [
    "The Tukey test shows us tht the mean is significantly different between Diet C and the Diets A and B, thus the null hypothesis is rejected. Tukey test, while comprehensive can have a wider range of parameters than other Post Hoc test, leading to a great possibility of making a Type 1 Error. "
   ]
  },
  {
   "cell_type": "code",
   "execution_count": 207,
   "metadata": {
    "tags": []
   },
   "outputs": [
    {
     "data": {
      "text/html": [
       "<div>\n",
       "<style scoped>\n",
       "    .dataframe tbody tr th:only-of-type {\n",
       "        vertical-align: middle;\n",
       "    }\n",
       "\n",
       "    .dataframe tbody tr th {\n",
       "        vertical-align: top;\n",
       "    }\n",
       "\n",
       "    .dataframe thead th {\n",
       "        text-align: right;\n",
       "    }\n",
       "</style>\n",
       "<table border=\"1\" class=\"dataframe\">\n",
       "  <thead>\n",
       "    <tr style=\"text-align: right;\">\n",
       "      <th></th>\n",
       "      <th>Contrast</th>\n",
       "      <th>A</th>\n",
       "      <th>B</th>\n",
       "      <th>Paired</th>\n",
       "      <th>Parametric</th>\n",
       "      <th>T</th>\n",
       "      <th>dof</th>\n",
       "      <th>alternative</th>\n",
       "      <th>p-unc</th>\n",
       "      <th>p-corr</th>\n",
       "      <th>p-adjust</th>\n",
       "      <th>BF10</th>\n",
       "      <th>hedges</th>\n",
       "    </tr>\n",
       "  </thead>\n",
       "  <tbody>\n",
       "    <tr>\n",
       "      <th>0</th>\n",
       "      <td>Diet</td>\n",
       "      <td>Diet A</td>\n",
       "      <td>Diet B</td>\n",
       "      <td>False</td>\n",
       "      <td>True</td>\n",
       "      <td>0.047500</td>\n",
       "      <td>47.0</td>\n",
       "      <td>two-sided</td>\n",
       "      <td>0.962316</td>\n",
       "      <td>1.000000</td>\n",
       "      <td>bonf</td>\n",
       "      <td>0.285</td>\n",
       "      <td>0.013357</td>\n",
       "    </tr>\n",
       "    <tr>\n",
       "      <th>1</th>\n",
       "      <td>Diet</td>\n",
       "      <td>Diet A</td>\n",
       "      <td>Diet C</td>\n",
       "      <td>False</td>\n",
       "      <td>True</td>\n",
       "      <td>-2.834783</td>\n",
       "      <td>49.0</td>\n",
       "      <td>two-sided</td>\n",
       "      <td>0.006644</td>\n",
       "      <td>0.019933</td>\n",
       "      <td>bonf</td>\n",
       "      <td>6.658</td>\n",
       "      <td>-0.783040</td>\n",
       "    </tr>\n",
       "    <tr>\n",
       "      <th>2</th>\n",
       "      <td>Diet</td>\n",
       "      <td>Diet B</td>\n",
       "      <td>Diet C</td>\n",
       "      <td>False</td>\n",
       "      <td>True</td>\n",
       "      <td>-2.788879</td>\n",
       "      <td>50.0</td>\n",
       "      <td>two-sided</td>\n",
       "      <td>0.007463</td>\n",
       "      <td>0.022388</td>\n",
       "      <td>bonf</td>\n",
       "      <td>6.059</td>\n",
       "      <td>-0.762399</td>\n",
       "    </tr>\n",
       "  </tbody>\n",
       "</table>\n",
       "</div>"
      ],
      "text/plain": [
       "  Contrast       A       B  Paired  Parametric         T   dof alternative  \\\n",
       "0     Diet  Diet A  Diet B   False        True  0.047500  47.0   two-sided   \n",
       "1     Diet  Diet A  Diet C   False        True -2.834783  49.0   two-sided   \n",
       "2     Diet  Diet B  Diet C   False        True -2.788879  50.0   two-sided   \n",
       "\n",
       "      p-unc    p-corr p-adjust   BF10    hedges  \n",
       "0  0.962316  1.000000     bonf  0.285  0.013357  \n",
       "1  0.006644  0.019933     bonf  6.658 -0.783040  \n",
       "2  0.007463  0.022388     bonf  6.059 -0.762399  "
      ]
     },
     "execution_count": 207,
     "metadata": {},
     "output_type": "execute_result"
    }
   ],
   "source": [
    "from pingouin import pairwise_ttests #(29)\n",
    "posthocs = pairwise_ttests(dv= 'weightloss', between = 'Diet', padjust='bonf', data=df, correction=False)\n",
    "posthocs"
   ]
  },
  {
   "cell_type": "markdown",
   "metadata": {},
   "source": [
    "Looking at the p-corr value, anything under 0.5 would be considered significant, indicating that there is a difference in variance between Diet C and Diet A and Diet C and Diet B in terms of weightloss, rejecting the null hypothesis.  "
   ]
  },
  {
   "cell_type": "code",
   "execution_count": 208,
   "metadata": {},
   "outputs": [
    {
     "data": {
      "text/html": [
       "<div>\n",
       "<style scoped>\n",
       "    .dataframe tbody tr th:only-of-type {\n",
       "        vertical-align: middle;\n",
       "    }\n",
       "\n",
       "    .dataframe tbody tr th {\n",
       "        vertical-align: top;\n",
       "    }\n",
       "\n",
       "    .dataframe thead th {\n",
       "        text-align: right;\n",
       "    }\n",
       "</style>\n",
       "<table border=\"1\" class=\"dataframe\">\n",
       "  <thead>\n",
       "    <tr style=\"text-align: right;\">\n",
       "      <th></th>\n",
       "      <th>A</th>\n",
       "      <th>B</th>\n",
       "      <th>mean(A)</th>\n",
       "      <th>mean(B)</th>\n",
       "      <th>diff</th>\n",
       "      <th>se</th>\n",
       "      <th>T</th>\n",
       "      <th>df</th>\n",
       "      <th>pval</th>\n",
       "      <th>hedges</th>\n",
       "    </tr>\n",
       "  </thead>\n",
       "  <tbody>\n",
       "    <tr>\n",
       "      <th>0</th>\n",
       "      <td>Diet A</td>\n",
       "      <td>Diet B</td>\n",
       "      <td>3.300</td>\n",
       "      <td>3.268000</td>\n",
       "      <td>0.032000</td>\n",
       "      <td>0.672348</td>\n",
       "      <td>0.047594</td>\n",
       "      <td>46.865130</td>\n",
       "      <td>0.900000</td>\n",
       "      <td>0.013383</td>\n",
       "    </tr>\n",
       "    <tr>\n",
       "      <th>1</th>\n",
       "      <td>Diet A</td>\n",
       "      <td>Diet C</td>\n",
       "      <td>3.300</td>\n",
       "      <td>5.148148</td>\n",
       "      <td>-1.848148</td>\n",
       "      <td>0.649338</td>\n",
       "      <td>-2.846202</td>\n",
       "      <td>48.862035</td>\n",
       "      <td>0.017411</td>\n",
       "      <td>-0.786194</td>\n",
       "    </tr>\n",
       "    <tr>\n",
       "      <th>2</th>\n",
       "      <td>Diet B</td>\n",
       "      <td>Diet C</td>\n",
       "      <td>3.268</td>\n",
       "      <td>5.148148</td>\n",
       "      <td>-1.880148</td>\n",
       "      <td>0.674910</td>\n",
       "      <td>-2.785776</td>\n",
       "      <td>49.435604</td>\n",
       "      <td>0.020280</td>\n",
       "      <td>-0.761551</td>\n",
       "    </tr>\n",
       "  </tbody>\n",
       "</table>\n",
       "</div>"
      ],
      "text/plain": [
       "        A       B  mean(A)   mean(B)      diff        se         T         df  \\\n",
       "0  Diet A  Diet B    3.300  3.268000  0.032000  0.672348  0.047594  46.865130   \n",
       "1  Diet A  Diet C    3.300  5.148148 -1.848148  0.649338 -2.846202  48.862035   \n",
       "2  Diet B  Diet C    3.268  5.148148 -1.880148  0.674910 -2.785776  49.435604   \n",
       "\n",
       "       pval    hedges  \n",
       "0  0.900000  0.013383  \n",
       "1  0.017411 -0.786194  \n",
       "2  0.020280 -0.761551  "
      ]
     },
     "execution_count": 208,
     "metadata": {},
     "output_type": "execute_result"
    }
   ],
   "source": [
    "pg.pairwise_gameshowell(dv='weightloss', between='Diet', data=df)"
   ]
  },
  {
   "cell_type": "markdown",
   "metadata": {},
   "source": [
    "In this Post Hoc test, the pval is considered and indicates that there is a significant difference between Diet A and Diet C and Diet B and Diet C"
   ]
  },
  {
   "cell_type": "markdown",
   "metadata": {},
   "source": [
    "<a id='chapter6'></a>\n",
    "## Conclusion"
   ]
  },
  {
   "cell_type": "markdown",
   "metadata": {},
   "source": [
    "Using the Diet Dataset and generating a hypothesis after initial data exploration, an hypothesis of the data was formed. In order to accept or reject the hypothesis, an Anova and associated assumption tests were conducted to examine the variance amongst the variables in the data set. The following was concluded:\n",
    "- Diet C has demonstrated a greater weightloss after 6 weeks than that other two Diets the mean of the weightloss was greater than that of the other two. \n",
    "\n",
    "The dataset used demonstrated some key learnings for machine learning\n",
    "- Ensuring the dataset meets the assumptions can be difficult especially when the dataset may contain outliers. In this notebook, numerous test were used to ensure the assumptions were met due to the nature of the outliers. \n",
    "- Data collection is extremely important and should always be considered when first designing your hypothesis. In this dataset,  as the participants for each Diet were different counts, different tests has to be conducted. \n",
    "- The importance of conducting post hoc tests was evident in this notebook to really understand the differences between the variables in the dataset. Otherwise, Type 1 errors can be made.  "
   ]
  },
  {
   "cell_type": "markdown",
   "metadata": {},
   "source": [
    "<a id='ref'></a>\n",
    "## References"
   ]
  },
  {
   "cell_type": "markdown",
   "metadata": {},
   "source": [
    "1. https://data-flair.training/blogs/scipy-statistical-functions/\n",
    "<br>\n",
    "2. https://www.delftstack.com/api/scipy/scipy-scipy.stats.norm-method/\n",
    "<br>\n",
    "3. https://data-flair.training/blogs/scipy-statistical-functions/?ref=morioh.com&utm_source=morioh.com\n",
    "<br>\n",
    "4. https://realpython.com/python-statistics/\n",
    "<br>\n",
    "5. https://www.mathsisfun.com/data/standard-deviation.html\n",
    "<br>\n",
    "6. https://courses.lumenlearning.com/atd-odessa-statistics/chapter/measures-of-the-location-of-the-data/\n",
    "<br>\n",
    "7. https://www.tibco.com/reference-center/what-is-analysis-of-variance-anova\n",
    "<br>\n",
    "8. https://bioinformatics-core-shared-training.github.io/linear-models-r/anova.html \n",
    "<br>\n",
    "9. https://blog.finxter.com/matplotlib-scatter-plot/\n",
    "<br>\n",
    "10. https://www.statology.org/one-way-anova-r/ \n",
    "<br>\n",
    "11. https://www.statisticssolutions.com/free-resources/directory-of-statistical-analyses/assumptions-of-the-factorial-anova/is\n",
    "<br>\n",
    "12. https://www.javatpoint.com/anova-test-in-python\n",
    "<br>\n",
    "13. https://www.statology.org/anova-assumptions\n",
    "<br>\n",
    "14. https://www.statology.org/anova-assumptions/\n",
    "<br>\n",
    "15. https://www.statisticshowto.com/assumption-of-independence/\n",
    "<br>\n",
    "16. https://statisticsbyjim.com/basics/remove-outliers/\n",
    "<br>\n",
    "17. https://www.kaggle.com/gadaadhaarigeek/normal-distribution\n",
    "<br>\n",
    "18. https://www.analyticsvidhya.com/blog/2020/04/statistics-data-science-normal-distribution/\n",
    "<br>\n",
    "19. https://variation.com/wp-content/distribution_analyzer_help/hs141.htm#:~:text=Shapiro%2DWilks%20Normality%20Test&text=The%20Shapiro%2DWilks%20test%20for,than%20or%20equal%20to%200.05\n",
    "<br>\n",
    "20. https://statistics.laerd.com/spss-tutorials/testing-for-normality-using-spss-statistics.php\n",
    "<br>\n",
    "21. https://quantifyinghealth.com/report-shapiro-wilk-test/\n",
    "<br>\n",
    "22. https://methods.sagepub.com/reference/encyc-of-research-design/n179.xml\n",
    "<br>\n",
    "23. https://www.scalestatistics.com/homogeneity-of-variance.html https://www.statisticssolutions.com/the-assumption-of-homogeneity-of-variance/ \n",
    "<br>\n",
    "24. https://stattrek.com/anova/homogeneity/bartletts-test.aspx\n",
    "<br>\n",
    "25. https://www.marsja.se/levenes-bartletts-test-of-equality-homogeneity-of-variance-in-python/\n",
    "<br>\n",
    "26. https://stattrek.com/anova/homogeneity/bartletts-test.aspx\n",
    "<br>\n",
    "27. https://statistics.laerd.com/statistical-guides/one-way-anova-statistical-guide-4.php\n",
    "<br>\n",
    "28. https://www.statology.org/tukey-test-python/\n",
    "<br>\n",
    "29. https://www.youtube.com/watch?v=BOGCsSzQNR4\n",
    "<br>"
   ]
  },
  {
   "cell_type": "markdown",
   "metadata": {},
   "source": [
    "# End\n",
    "\n",
    "*******"
   ]
  }
 ],
 "metadata": {
  "kernelspec": {
   "display_name": "Python 3 (ipykernel)",
   "language": "python",
   "name": "python3"
  },
  "language_info": {
   "codemirror_mode": {
    "name": "ipython",
    "version": 3
   },
   "file_extension": ".py",
   "mimetype": "text/x-python",
   "name": "python",
   "nbconvert_exporter": "python",
   "pygments_lexer": "ipython3",
   "version": "3.9.7"
  }
 },
 "nbformat": 4,
 "nbformat_minor": 4
}
