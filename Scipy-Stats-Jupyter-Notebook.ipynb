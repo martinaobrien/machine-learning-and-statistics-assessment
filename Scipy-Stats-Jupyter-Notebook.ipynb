{
 "cells": [
  {
   "cell_type": "markdown",
   "metadata": {},
   "source": [
    "# Scipy-Stats Juptyer Notebook\n",
    "*****\n",
    "*****"
   ]
  },
  {
   "cell_type": "markdown",
   "metadata": {},
   "source": [
    "The Scipy-stats module is a sub-package of the SciPy library providing many uses for statistical analysis including probabilistic distributions, random variables and statistical operations. https://data-flair.training/blogs/scipy-statistical-functions/ It is used to analyse normal distributions and calculate different distribution values with a number of in built methods available.https://www.delftstack.com/api/scipy/scipy-scipy.stats.norm-method/. \n",
    "<br>\n",
    "Within the library, there are functions for both continious and discrete functions, works with different types of distributions and performs hypothesis and t-tests.https://data-flair.training/blogs/scipy-statistical-functions/?ref=morioh.com&utm_source=morioh.com. The library works seamlessly with other packages to enable statistics calculations, descriptive analysis and data visualisation. These include:\n",
    "- pandas\n",
    "<br>\n",
    "- matplotlib\n",
    "<br>\n",
    "- seaborn\n",
    "<br>\n",
    "- numpy\n",
    "<br>\n",
    "\n",
    "**Some of the Key Terms in Statistical Analysis** https://realpython.com/python-statistics/\n",
    "<br>\n",
    "<br>\n",
    "**Types of Variables**\n",
    "<br>\n",
    "- **Dependent Variable** The chosen data category that is examined to see if there is any affect from the independent variables\n",
    "<br>\n",
    " - **Indepedent Variable:** These are the chosen datapoints measured that may have an effect on the dependent variable\n",
    "<br>\n",
    "**Measures of of Central Tendency**\n",
    "<br>\n",
    "- **Mean**: *\"is the average of all the items in the dataset and can be expressed as:* $$mean = sum of the terms/number of terms$$ \n",
    "<br>\n",
    "- **Median** *\"is the middle element of a sorted dataset and can be expressed as* \n",
    "<br>\n",
    "**Measures of Variability**\n",
    "<br>\n",
    " - **Variance** \n",
    "<br>\n",
    "*quantifies the spread of the data and show how far the data points are from the mean* $$𝑠² = Σᵢ(𝑥ᵢ − mean(𝑥))² / (𝑛 − 1), where 𝑖 = 1, 2, …, 𝑛$$\n",
    "<br>\n",
    "- **Standard Deviation** \n",
    "<br>\n",
    "*is another measure of data spread.... as standard deviation, 's' is the positive square root of the sample variance* $$e^x=\\sum_{i=0}^\\infty \\frac{1}{i!}x^i$$\n",
    "<br>\n",
    "- **Percentiles** \n",
    "<br>\n",
    "*is the element in the dataset such that p% of the elements in the dataset are less than or equal to that value.... Each dataset has three quartiles (first quartile is the sample 25th percentile, second quartile is the sample 50th percentile (median) and the third quartile is the sample 75th percentile* $$𝑠² = Σᵢ(𝑥ᵢ − mean(𝑥))² / (𝑛 − 1), where 𝑖 = 1, 2, …, 𝑛$$"
   ]
  },
  {
   "cell_type": "markdown",
   "metadata": {},
   "source": [
    "### Analysis of Variance (ANOVA)\n",
    "<br>\n",
    "Analysis of Variance is a *\" statistical formula used to compare variances across the means of different groups... where a range of scenarios use it to determine if there is any difference between the meands of different group* https://www.tibco.com/reference-center/what-is-analysis-of-variance-anova. ANOVA due to its procedures helps select the best features when training a dataset, reduces complexity by limiting input variables and can determin if an independent variable is influencing a target variable. \n",
    "<br>\n",
    "<br>\n",
    "The outcome of the ANOVA is the 'F Statistic' which enables the researcher to conclude where or not the null hypothesis was supported or not. This is acheived through calculating the difference between the group variance and within group variance. ANOVA is important is ascertaining whether or not a mean values are statistically significant. ANOVA can also indirectly show if an independent variable is influencing the dependent variable.\n",
    "<br>\n",
    "<br>\n",
    "\n",
    "**Limitations of ANOVA**\n",
    "<br>\n",
    "- The test can only if there is significant difference between the means of at least two group but can't identify which pairs differ in its means. This requires ANOVA to be used in tandem with other statistical methods\n",
    "- Assumes uniform distribution limiting its ability to work with data that does not have a normal distribution and/or may contain outliers\n",
    "- Assumes Standard Deviation is similiar across the variable to avoid inaccurate conclusions being made\n",
    "<br>\n",
    "**Hypothesis Testing**\n",
    "<br>\n",
    "- **A Null Hypothesis(HO)** It is inferred there is no difference between the groups or means\n",
    "<br>\n",
    "- **An Alternative Hypothesis** It is inferred that there is a difference between groups and means\n",
    "<br>\n",
    "**Types of ANOVA**\n",
    "<br>\n",
    " - One Way ANOVA: The one-way ANOVA is suitable with only one independent variable with two or more levels.\n",
    " - Two Way ANOVA: When there are two or more inpdependent variables that may have multple levels and includes every possible selection of variables and their levels.\n",
    " <br>"
   ]
  },
  {
   "cell_type": "markdown",
   "metadata": {},
   "source": [
    "### About the Dataset"
   ]
  },
  {
   "cell_type": "markdown",
   "metadata": {},
   "source": [
    "The Diet Dataset contains information on 76 participants who undertook one of 3 diets (A, B, C). The dataset contains information on their gender, diest, initial weight and their weight after six weeks. https://bioinformatics-core-shared-training.github.io/linear-models-r/anova.html https://bioinformatics-core-shared-training.github.io/linear-models-r/anova.html"
   ]
  },
  {
   "cell_type": "markdown",
   "metadata": {},
   "source": [
    "### Importing Packages for this notebook"
   ]
  },
  {
   "cell_type": "code",
   "execution_count": 62,
   "metadata": {},
   "outputs": [
    {
     "ename": "ModuleNotFoundError",
     "evalue": "No module named 'plotly'",
     "output_type": "error",
     "traceback": [
      "\u001b[1;31m---------------------------------------------------------------------------\u001b[0m",
      "\u001b[1;31mModuleNotFoundError\u001b[0m                       Traceback (most recent call last)",
      "\u001b[1;32m~\\AppData\\Local\\Temp/ipykernel_856/2272231000.py\u001b[0m in \u001b[0;36m<module>\u001b[1;34m\u001b[0m\n\u001b[0;32m      7\u001b[0m \u001b[1;32mimport\u001b[0m \u001b[0mscipy\u001b[0m\u001b[1;33m.\u001b[0m\u001b[0mspecial\u001b[0m \u001b[1;32mas\u001b[0m \u001b[0mspec\u001b[0m\u001b[1;33m\u001b[0m\u001b[1;33m\u001b[0m\u001b[0m\n\u001b[0;32m      8\u001b[0m \u001b[1;32mimport\u001b[0m \u001b[0mmatplotlib\u001b[0m\u001b[1;33m.\u001b[0m\u001b[0mpyplot\u001b[0m \u001b[1;32mas\u001b[0m \u001b[0mplt\u001b[0m\u001b[1;33m\u001b[0m\u001b[1;33m\u001b[0m\u001b[0m\n\u001b[1;32m----> 9\u001b[1;33m \u001b[1;32mimport\u001b[0m \u001b[0mplotly\u001b[0m \u001b[1;32mas\u001b[0m \u001b[0mpy\u001b[0m\u001b[1;33m\u001b[0m\u001b[1;33m\u001b[0m\u001b[0m\n\u001b[0m\u001b[0;32m     10\u001b[0m \u001b[1;32mimport\u001b[0m \u001b[0mplotly\u001b[0m\u001b[1;33m.\u001b[0m\u001b[0mexpress\u001b[0m \u001b[1;32mas\u001b[0m \u001b[0mpx\u001b[0m\u001b[1;33m\u001b[0m\u001b[1;33m\u001b[0m\u001b[0m\n",
      "\u001b[1;31mModuleNotFoundError\u001b[0m: No module named 'plotly'"
     ]
    }
   ],
   "source": [
    "import pandas as pd\n",
    "import seaborn as sns\n",
    "import scipy.stats as ss\n",
    "import statsmodels.api as sn\n",
    "import numpy as np\n",
    "import collections as co\n",
    "import scipy.special as spec\n",
    "import matplotlib.pyplot as plt"
   ]
  },
  {
   "cell_type": "markdown",
   "metadata": {},
   "source": [
    "## About the Dataset"
   ]
  },
  {
   "cell_type": "markdown",
   "metadata": {},
   "source": [
    "The Diet Dataset contains information on 76 participants who undertook one of 3 diets (A, B, C). At the beginning and end of the trail, the participants weights were taken. The dataset contains information on their gender, allocated diet, height initial weight and their weight after six weeks. https://bioinformatics-core-shared-training.github.io/linear-models-r/anova.html https://bioinformatics-core-shared-training.github.io/linear-models-r/anova.html. This analysis will explore whether or not there is any correlation between the height of the participants and the weight lost, we can further explore which of the diest was most effective in assisting to lose weight and if the gender of the participants makes an impact on the outcome of the diet. "
   ]
  },
  {
   "cell_type": "markdown",
   "metadata": {
    "tags": []
   },
   "source": [
    "### Exploring the Dataset\n",
    "***"
   ]
  },
  {
   "cell_type": "markdown",
   "metadata": {
    "tags": []
   },
   "source": [
    "### Preprocessing the Dataset\n",
    "***"
   ]
  },
  {
   "cell_type": "code",
   "execution_count": null,
   "metadata": {},
   "outputs": [],
   "source": [
    "df = pd.read_csv('dietdataset.csv') #first look at the dataset\n",
    "df"
   ]
  },
  {
   "cell_type": "code",
   "execution_count": null,
   "metadata": {},
   "outputs": [],
   "source": [
    "df = pd.read_csv('dietdataset.csv', na_values=' ') # replacing empty cells with Nan\n",
    "df"
   ]
  },
  {
   "cell_type": "code",
   "execution_count": null,
   "metadata": {},
   "outputs": [],
   "source": [
    "df.rename(columns={'pre.weight': 'initialWeight'}, inplace=True) #changing the name of the pre.weight column to avoid confusion\n",
    "df"
   ]
  },
  {
   "cell_type": "code",
   "execution_count": null,
   "metadata": {},
   "outputs": [],
   "source": [
    "df['Diet'] = df['Diet'].replace([1,2,3], ['Diet A', 'Diet B', 'Diet C'])\n",
    "df"
   ]
  },
  {
   "cell_type": "code",
   "execution_count": 63,
   "metadata": {},
   "outputs": [
    {
     "data": {
      "text/html": [
       "<div>\n",
       "<style scoped>\n",
       "    .dataframe tbody tr th:only-of-type {\n",
       "        vertical-align: middle;\n",
       "    }\n",
       "\n",
       "    .dataframe tbody tr th {\n",
       "        vertical-align: top;\n",
       "    }\n",
       "\n",
       "    .dataframe thead th {\n",
       "        text-align: right;\n",
       "    }\n",
       "</style>\n",
       "<table border=\"1\" class=\"dataframe\">\n",
       "  <thead>\n",
       "    <tr style=\"text-align: right;\">\n",
       "      <th></th>\n",
       "      <th>Person</th>\n",
       "      <th>gender</th>\n",
       "      <th>Age</th>\n",
       "      <th>Height</th>\n",
       "      <th>initialWeight</th>\n",
       "      <th>Diet</th>\n",
       "      <th>weight6weeks</th>\n",
       "      <th>weightloss</th>\n",
       "    </tr>\n",
       "  </thead>\n",
       "  <tbody>\n",
       "    <tr>\n",
       "      <th>2</th>\n",
       "      <td>1</td>\n",
       "      <td>0.0</td>\n",
       "      <td>22</td>\n",
       "      <td>159</td>\n",
       "      <td>58</td>\n",
       "      <td>Diet A</td>\n",
       "      <td>54.2</td>\n",
       "      <td>3.8</td>\n",
       "    </tr>\n",
       "    <tr>\n",
       "      <th>3</th>\n",
       "      <td>2</td>\n",
       "      <td>0.0</td>\n",
       "      <td>46</td>\n",
       "      <td>192</td>\n",
       "      <td>60</td>\n",
       "      <td>Diet A</td>\n",
       "      <td>54.0</td>\n",
       "      <td>6.0</td>\n",
       "    </tr>\n",
       "    <tr>\n",
       "      <th>4</th>\n",
       "      <td>3</td>\n",
       "      <td>0.0</td>\n",
       "      <td>55</td>\n",
       "      <td>170</td>\n",
       "      <td>64</td>\n",
       "      <td>Diet A</td>\n",
       "      <td>63.3</td>\n",
       "      <td>0.7</td>\n",
       "    </tr>\n",
       "    <tr>\n",
       "      <th>5</th>\n",
       "      <td>4</td>\n",
       "      <td>0.0</td>\n",
       "      <td>33</td>\n",
       "      <td>171</td>\n",
       "      <td>64</td>\n",
       "      <td>Diet A</td>\n",
       "      <td>61.1</td>\n",
       "      <td>2.9</td>\n",
       "    </tr>\n",
       "    <tr>\n",
       "      <th>6</th>\n",
       "      <td>5</td>\n",
       "      <td>0.0</td>\n",
       "      <td>50</td>\n",
       "      <td>170</td>\n",
       "      <td>65</td>\n",
       "      <td>Diet A</td>\n",
       "      <td>62.2</td>\n",
       "      <td>2.8</td>\n",
       "    </tr>\n",
       "    <tr>\n",
       "      <th>...</th>\n",
       "      <td>...</td>\n",
       "      <td>...</td>\n",
       "      <td>...</td>\n",
       "      <td>...</td>\n",
       "      <td>...</td>\n",
       "      <td>...</td>\n",
       "      <td>...</td>\n",
       "      <td>...</td>\n",
       "    </tr>\n",
       "    <tr>\n",
       "      <th>73</th>\n",
       "      <td>74</td>\n",
       "      <td>1.0</td>\n",
       "      <td>35</td>\n",
       "      <td>183</td>\n",
       "      <td>83</td>\n",
       "      <td>Diet C</td>\n",
       "      <td>80.2</td>\n",
       "      <td>2.8</td>\n",
       "    </tr>\n",
       "    <tr>\n",
       "      <th>74</th>\n",
       "      <td>75</td>\n",
       "      <td>1.0</td>\n",
       "      <td>49</td>\n",
       "      <td>177</td>\n",
       "      <td>84</td>\n",
       "      <td>Diet C</td>\n",
       "      <td>79.9</td>\n",
       "      <td>4.1</td>\n",
       "    </tr>\n",
       "    <tr>\n",
       "      <th>75</th>\n",
       "      <td>76</td>\n",
       "      <td>1.0</td>\n",
       "      <td>28</td>\n",
       "      <td>164</td>\n",
       "      <td>85</td>\n",
       "      <td>Diet C</td>\n",
       "      <td>79.7</td>\n",
       "      <td>5.3</td>\n",
       "    </tr>\n",
       "    <tr>\n",
       "      <th>76</th>\n",
       "      <td>77</td>\n",
       "      <td>1.0</td>\n",
       "      <td>40</td>\n",
       "      <td>167</td>\n",
       "      <td>87</td>\n",
       "      <td>Diet C</td>\n",
       "      <td>77.8</td>\n",
       "      <td>9.2</td>\n",
       "    </tr>\n",
       "    <tr>\n",
       "      <th>77</th>\n",
       "      <td>78</td>\n",
       "      <td>1.0</td>\n",
       "      <td>51</td>\n",
       "      <td>175</td>\n",
       "      <td>88</td>\n",
       "      <td>Diet C</td>\n",
       "      <td>81.9</td>\n",
       "      <td>6.1</td>\n",
       "    </tr>\n",
       "  </tbody>\n",
       "</table>\n",
       "<p>76 rows × 8 columns</p>\n",
       "</div>"
      ],
      "text/plain": [
       "    Person  gender  Age  Height  initialWeight    Diet  weight6weeks  \\\n",
       "2        1     0.0   22     159             58  Diet A          54.2   \n",
       "3        2     0.0   46     192             60  Diet A          54.0   \n",
       "4        3     0.0   55     170             64  Diet A          63.3   \n",
       "5        4     0.0   33     171             64  Diet A          61.1   \n",
       "6        5     0.0   50     170             65  Diet A          62.2   \n",
       "..     ...     ...  ...     ...            ...     ...           ...   \n",
       "73      74     1.0   35     183             83  Diet C          80.2   \n",
       "74      75     1.0   49     177             84  Diet C          79.9   \n",
       "75      76     1.0   28     164             85  Diet C          79.7   \n",
       "76      77     1.0   40     167             87  Diet C          77.8   \n",
       "77      78     1.0   51     175             88  Diet C          81.9   \n",
       "\n",
       "    weightloss  \n",
       "2          3.8  \n",
       "3          6.0  \n",
       "4          0.7  \n",
       "5          2.9  \n",
       "6          2.8  \n",
       "..         ...  \n",
       "73         2.8  \n",
       "74         4.1  \n",
       "75         5.3  \n",
       "76         9.2  \n",
       "77         6.1  \n",
       "\n",
       "[76 rows x 8 columns]"
      ]
     },
     "execution_count": 63,
     "metadata": {},
     "output_type": "execute_result"
    }
   ],
   "source": [
    "df['weightloss'] = (df['initialWeight'] - df['weight6weeks']) #creating my dependent variable\n",
    "df"
   ]
  },
  {
   "cell_type": "code",
   "execution_count": 64,
   "metadata": {},
   "outputs": [
    {
     "data": {
      "text/plain": [
       "Person           0\n",
       "gender           0\n",
       "Age              0\n",
       "Height           0\n",
       "initialWeight    0\n",
       "Diet             0\n",
       "weight6weeks     0\n",
       "weightloss       0\n",
       "dtype: int64"
      ]
     },
     "execution_count": 64,
     "metadata": {},
     "output_type": "execute_result"
    }
   ],
   "source": [
    "df.isna().sum() # looking into the Nan values"
   ]
  },
  {
   "cell_type": "markdown",
   "metadata": {},
   "source": [
    "There are two instances where the gender is Nan. It appears that they participants did not fully participate in the trial. Due to the small number of datapoints, these data will be dropped."
   ]
  },
  {
   "cell_type": "code",
   "execution_count": 65,
   "metadata": {},
   "outputs": [
    {
     "data": {
      "text/html": [
       "<div>\n",
       "<style scoped>\n",
       "    .dataframe tbody tr th:only-of-type {\n",
       "        vertical-align: middle;\n",
       "    }\n",
       "\n",
       "    .dataframe tbody tr th {\n",
       "        vertical-align: top;\n",
       "    }\n",
       "\n",
       "    .dataframe thead th {\n",
       "        text-align: right;\n",
       "    }\n",
       "</style>\n",
       "<table border=\"1\" class=\"dataframe\">\n",
       "  <thead>\n",
       "    <tr style=\"text-align: right;\">\n",
       "      <th></th>\n",
       "      <th>Person</th>\n",
       "      <th>gender</th>\n",
       "      <th>Age</th>\n",
       "      <th>Height</th>\n",
       "      <th>initialWeight</th>\n",
       "      <th>Diet</th>\n",
       "      <th>weight6weeks</th>\n",
       "      <th>weightloss</th>\n",
       "    </tr>\n",
       "  </thead>\n",
       "  <tbody>\n",
       "    <tr>\n",
       "      <th>2</th>\n",
       "      <td>1</td>\n",
       "      <td>0.0</td>\n",
       "      <td>22</td>\n",
       "      <td>159</td>\n",
       "      <td>58</td>\n",
       "      <td>Diet A</td>\n",
       "      <td>54.2</td>\n",
       "      <td>3.8</td>\n",
       "    </tr>\n",
       "    <tr>\n",
       "      <th>3</th>\n",
       "      <td>2</td>\n",
       "      <td>0.0</td>\n",
       "      <td>46</td>\n",
       "      <td>192</td>\n",
       "      <td>60</td>\n",
       "      <td>Diet A</td>\n",
       "      <td>54.0</td>\n",
       "      <td>6.0</td>\n",
       "    </tr>\n",
       "    <tr>\n",
       "      <th>4</th>\n",
       "      <td>3</td>\n",
       "      <td>0.0</td>\n",
       "      <td>55</td>\n",
       "      <td>170</td>\n",
       "      <td>64</td>\n",
       "      <td>Diet A</td>\n",
       "      <td>63.3</td>\n",
       "      <td>0.7</td>\n",
       "    </tr>\n",
       "    <tr>\n",
       "      <th>5</th>\n",
       "      <td>4</td>\n",
       "      <td>0.0</td>\n",
       "      <td>33</td>\n",
       "      <td>171</td>\n",
       "      <td>64</td>\n",
       "      <td>Diet A</td>\n",
       "      <td>61.1</td>\n",
       "      <td>2.9</td>\n",
       "    </tr>\n",
       "    <tr>\n",
       "      <th>6</th>\n",
       "      <td>5</td>\n",
       "      <td>0.0</td>\n",
       "      <td>50</td>\n",
       "      <td>170</td>\n",
       "      <td>65</td>\n",
       "      <td>Diet A</td>\n",
       "      <td>62.2</td>\n",
       "      <td>2.8</td>\n",
       "    </tr>\n",
       "    <tr>\n",
       "      <th>...</th>\n",
       "      <td>...</td>\n",
       "      <td>...</td>\n",
       "      <td>...</td>\n",
       "      <td>...</td>\n",
       "      <td>...</td>\n",
       "      <td>...</td>\n",
       "      <td>...</td>\n",
       "      <td>...</td>\n",
       "    </tr>\n",
       "    <tr>\n",
       "      <th>73</th>\n",
       "      <td>74</td>\n",
       "      <td>1.0</td>\n",
       "      <td>35</td>\n",
       "      <td>183</td>\n",
       "      <td>83</td>\n",
       "      <td>Diet C</td>\n",
       "      <td>80.2</td>\n",
       "      <td>2.8</td>\n",
       "    </tr>\n",
       "    <tr>\n",
       "      <th>74</th>\n",
       "      <td>75</td>\n",
       "      <td>1.0</td>\n",
       "      <td>49</td>\n",
       "      <td>177</td>\n",
       "      <td>84</td>\n",
       "      <td>Diet C</td>\n",
       "      <td>79.9</td>\n",
       "      <td>4.1</td>\n",
       "    </tr>\n",
       "    <tr>\n",
       "      <th>75</th>\n",
       "      <td>76</td>\n",
       "      <td>1.0</td>\n",
       "      <td>28</td>\n",
       "      <td>164</td>\n",
       "      <td>85</td>\n",
       "      <td>Diet C</td>\n",
       "      <td>79.7</td>\n",
       "      <td>5.3</td>\n",
       "    </tr>\n",
       "    <tr>\n",
       "      <th>76</th>\n",
       "      <td>77</td>\n",
       "      <td>1.0</td>\n",
       "      <td>40</td>\n",
       "      <td>167</td>\n",
       "      <td>87</td>\n",
       "      <td>Diet C</td>\n",
       "      <td>77.8</td>\n",
       "      <td>9.2</td>\n",
       "    </tr>\n",
       "    <tr>\n",
       "      <th>77</th>\n",
       "      <td>78</td>\n",
       "      <td>1.0</td>\n",
       "      <td>51</td>\n",
       "      <td>175</td>\n",
       "      <td>88</td>\n",
       "      <td>Diet C</td>\n",
       "      <td>81.9</td>\n",
       "      <td>6.1</td>\n",
       "    </tr>\n",
       "  </tbody>\n",
       "</table>\n",
       "<p>76 rows × 8 columns</p>\n",
       "</div>"
      ],
      "text/plain": [
       "    Person  gender  Age  Height  initialWeight    Diet  weight6weeks  \\\n",
       "2        1     0.0   22     159             58  Diet A          54.2   \n",
       "3        2     0.0   46     192             60  Diet A          54.0   \n",
       "4        3     0.0   55     170             64  Diet A          63.3   \n",
       "5        4     0.0   33     171             64  Diet A          61.1   \n",
       "6        5     0.0   50     170             65  Diet A          62.2   \n",
       "..     ...     ...  ...     ...            ...     ...           ...   \n",
       "73      74     1.0   35     183             83  Diet C          80.2   \n",
       "74      75     1.0   49     177             84  Diet C          79.9   \n",
       "75      76     1.0   28     164             85  Diet C          79.7   \n",
       "76      77     1.0   40     167             87  Diet C          77.8   \n",
       "77      78     1.0   51     175             88  Diet C          81.9   \n",
       "\n",
       "    weightloss  \n",
       "2          3.8  \n",
       "3          6.0  \n",
       "4          0.7  \n",
       "5          2.9  \n",
       "6          2.8  \n",
       "..         ...  \n",
       "73         2.8  \n",
       "74         4.1  \n",
       "75         5.3  \n",
       "76         9.2  \n",
       "77         6.1  \n",
       "\n",
       "[76 rows x 8 columns]"
      ]
     },
     "execution_count": 65,
     "metadata": {},
     "output_type": "execute_result"
    }
   ],
   "source": [
    "df.dropna(axis=0, how='all', subset=['gender'], inplace=True)\n",
    "df"
   ]
  },
  {
   "cell_type": "code",
   "execution_count": 68,
   "metadata": {},
   "outputs": [
    {
     "ename": "TypeError",
     "evalue": "scatter() got multiple values for argument 'x'",
     "output_type": "error",
     "traceback": [
      "\u001b[1;31m---------------------------------------------------------------------------\u001b[0m",
      "\u001b[1;31mTypeError\u001b[0m                                 Traceback (most recent call last)",
      "\u001b[1;32m~\\AppData\\Local\\Temp/ipykernel_856/2564228373.py\u001b[0m in \u001b[0;36m<module>\u001b[1;34m\u001b[0m\n\u001b[0;32m      1\u001b[0m \u001b[1;31m# looking into male and female values\u001b[0m\u001b[1;33m\u001b[0m\u001b[1;33m\u001b[0m\u001b[0m\n\u001b[1;32m----> 2\u001b[1;33m \u001b[0mfig\u001b[0m \u001b[1;33m=\u001b[0m \u001b[0mplt\u001b[0m\u001b[1;33m.\u001b[0m\u001b[0mscatter\u001b[0m\u001b[1;33m(\u001b[0m\u001b[0mdf\u001b[0m\u001b[1;33m,\u001b[0m \u001b[0mx\u001b[0m \u001b[1;33m=\u001b[0m \u001b[1;34m\"Height\"\u001b[0m\u001b[1;33m,\u001b[0m \u001b[0my\u001b[0m \u001b[1;33m=\u001b[0m \u001b[1;34m\"pre.weight\"\u001b[0m\u001b[1;33m,\u001b[0m \u001b[0mcolor\u001b[0m \u001b[1;33m=\u001b[0m \u001b[1;34m'gender'\u001b[0m\u001b[1;33m,\u001b[0m \u001b[0mtitle\u001b[0m \u001b[1;33m=\u001b[0m \u001b[1;34m\"Height to weight ratio by gender\"\u001b[0m\u001b[1;33m)\u001b[0m\u001b[1;33m\u001b[0m\u001b[1;33m\u001b[0m\u001b[0m\n\u001b[0m\u001b[0;32m      3\u001b[0m \u001b[0mfig\u001b[0m\u001b[1;33m.\u001b[0m\u001b[0mshow\u001b[0m\u001b[1;33m(\u001b[0m\u001b[1;33m)\u001b[0m\u001b[1;33m\u001b[0m\u001b[1;33m\u001b[0m\u001b[0m\n",
      "\u001b[1;31mTypeError\u001b[0m: scatter() got multiple values for argument 'x'"
     ]
    }
   ],
   "source": [
    "# looking into male and female values\n",
    "fig = plt.scatter(df, x = \"Height\", y = \"pre.weight\", color = 'gender', title = \"Height to weight ratio by gender\")\n",
    "fig.show()"
   ]
  },
  {
   "cell_type": "markdown",
   "metadata": {},
   "source": [
    "## Hypothesis Testing\n",
    "\n",
    "The following are the hypothesis drawn from the initial exploratory data analysis:\n",
    "<br>\n",
    "\n",
    "#### Hypothesis 1\n",
    "\n",
    "<br>\n",
    "\n",
    "**A Null Hypothesis(HO)** The means of all diets are equal with respect to weighloss\n",
    "\n",
    "<br>\n",
    "\n",
    "**An Alternative Hypothesis** The mean of at least one diet is different with respect to weightloss\n",
    "\n",
    "<br>\n",
    "\n",
    "#### Hypothesis 2\n",
    "\n",
    "<br>\n",
    "\n",
    "**A Null Hypothesis(HO)** The means of all genders are equal with respect to weightloss\n",
    "\n",
    "<br>\n",
    "\n",
    "**An Alternative Hypothesis** The mean of the genders are different with respect to weightloss\n",
    "\n",
    "<br>"
   ]
  },
  {
   "cell_type": "markdown",
   "metadata": {},
   "source": [
    "## Assumptions within the dataset\n",
    "***\n",
    "<br>\n",
    "Limitations of Assumptions\n",
    "https://www.statology.org/one-way-anova-r/"
   ]
  },
  {
   "cell_type": "markdown",
   "metadata": {},
   "source": [
    "| Assumption | Explaination |\n",
    "| :- | :- |\n",
    "**Your dependent variable should be measured at the interval or ratio level** | Dependent variables must be of 'metric measurements'https://www.statisticssolutions.com/free-resources/directory-of-statistical-analyses/assumptions-of-the-factorial-anova/is and the values take on any given number within a range https://www.javatpoint.com/anova-test-in-python https://www.statisticssolutions.com/free-resources/directory-of-statistical-analyses/assumptions-of-the-factorial-anova/ |\n",
    "|**Your independent variable should consist of two or more categorical independent groups** | The categorical groups shouldn't overlap, being part of one group shouldn't affect the chance of being part of another group.|\n",
    "|**You should have independence of observation** | There is no relationship between observations in each group or between the groups themselves. Each time there is a new datapoint in a group it is independent of all other datapoints in that group.|\n",
    "|**There should be no significant outliers** | It can be difficult to define outlier in the context of the data set.|\n",
    "|**Your dependent variable should be approximately normally distributed for each category of the independent**| When measured, the data points should take the form of a bell shaped curve.| https://www.statology.org/anova-assumptions/\n",
    "|**There needs to be a homogeneity of variances**| This assumption can be tested using a Levene's test for homogeneity of variances.|https://www.statology.org/anova-assumptions/"
   ]
  },
  {
   "cell_type": "markdown",
   "metadata": {},
   "source": [
    "### Assumption 1: Dependent Variable\n",
    "***"
   ]
  },
  {
   "cell_type": "markdown",
   "metadata": {},
   "source": [
    "The chosen dependent variable in this instance is the metric weighloss which is measured in kgs. "
   ]
  },
  {
   "cell_type": "code",
   "execution_count": null,
   "metadata": {},
   "outputs": [],
   "source": [
    "#The dependent variable\n",
    "dependent = df['weightloss']\n",
    "dependent"
   ]
  },
  {
   "cell_type": "markdown",
   "metadata": {},
   "source": [
    "### Assumption 2: Independent Variable\n",
    "***"
   ]
  },
  {
   "cell_type": "markdown",
   "metadata": {},
   "source": [
    "As we are going to look at two independent variables in this notebook, the author has chosen the following:\n",
    "<br>\n",
    "**Diet** - categories are: Diet A, Diet B and Diet C\n",
    "<br>\n",
    "**Gender** - catogories are: 0(which = Female) and 1 (which = Male)"
   ]
  },
  {
   "cell_type": "code",
   "execution_count": null,
   "metadata": {},
   "outputs": [],
   "source": [
    "#first independent variable\n",
    "independent = df['Diet']\n",
    "independent"
   ]
  },
  {
   "cell_type": "markdown",
   "metadata": {
    "tags": []
   },
   "source": [
    "### Assumption 3: Independence of Observation\n",
    "***"
   ]
  },
  {
   "cell_type": "markdown",
   "metadata": {},
   "source": [
    "This is a study design issues rather than something that you can test for. For this to be reached the \"obersevations in each group are independent of each other and the observations within groups were obtained by a random sample\". https://www.statology.org/anova-assumptions/. There is no standardised test to ensure independence of observation, nonetheless if this assumption is violated, the results obtained from the same could be wrong. Strong, robust and ethical data collection is required. https://www.statisticshowto.com/assumption-of-independence/"
   ]
  },
  {
   "cell_type": "markdown",
   "metadata": {
    "tags": []
   },
   "source": [
    "### Assumption 4: There should be no significant outliers\n",
    "***"
   ]
  },
  {
   "cell_type": "markdown",
   "metadata": {},
   "source": [
    "Outliers are unusual values in a dataset which can impact the analysis and distort the findings from research.https://statisticsbyjim.com/basics/remove-outliers/ The diet dataset has already been preprocessed to remove any null values. Some casues of outliers can include: data entry errors, sampling errors and natural variations."
   ]
  },
  {
   "cell_type": "code",
   "execution_count": null,
   "metadata": {},
   "outputs": [],
   "source": [
    "# https://seaborn.pydata.org/generated/seaborn.boxplot.html\n",
    "sns.boxplot(x=dependent, y=independent)"
   ]
  },
  {
   "cell_type": "markdown",
   "metadata": {},
   "source": [
    "**Assumption 1: Your independent variable should be measured at the interval or ratio level**\n",
    "<br>\n",
    "The key variable that you are looking at is a numerical variable and the values take on any given number within a range."
   ]
  },
  {
   "cell_type": "markdown",
   "metadata": {},
   "source": [
    "**Assumption 2: Your independent variable should consist of two or more categorial independent groups** \n",
    "<br>\n",
    "The categorical groups shouldn't overlap, being part of one group shouldn't affect the chance of being part of another group e.g blonde hair and blue eyes cannot be in the same categorial group as you can have both."
   ]
  },
  {
   "cell_type": "markdown",
   "metadata": {},
   "source": [
    "**Assumption 3: You should have independence of observation**\n",
    "<br>\n",
    "There is no relationship between observations in each group or between the groups themselves. Each time there is a new datapoint in a group it is independent of all other datapoints in that group."
   ]
  },
  {
   "cell_type": "markdown",
   "metadata": {},
   "source": [
    "**Assumption 4: There should be no significant outliers**\n",
    "<br>\n",
    "It can be difficult to define outlier in the context of the data set"
   ]
  },
  {
   "cell_type": "markdown",
   "metadata": {},
   "source": [
    "**Assumption 5: Your dependent variable should be approximately normally distributed for each category of the independent**\n",
    "<br>\n",
    "When measured, the data points should take the form of a bell shaped curve."
   ]
  },
  {
   "cell_type": "markdown",
   "metadata": {},
   "source": [
    "**Assumption 16: Thre needs to be a homogeneity of variances**\n",
    "<br>\n",
    "When examined, the normal distribution takes on similiar bell shaped curves. This assumption can be tested using a Levene's test for homogeneity of variances"
   ]
  }
 ],
 "metadata": {
  "kernelspec": {
   "display_name": "Python 3 (ipykernel)",
   "language": "python",
   "name": "python3"
  },
  "language_info": {
   "codemirror_mode": {
    "name": "ipython",
    "version": 3
   },
   "file_extension": ".py",
   "mimetype": "text/x-python",
   "name": "python",
   "nbconvert_exporter": "python",
   "pygments_lexer": "ipython3",
   "version": "3.9.7"
  }
 },
 "nbformat": 4,
 "nbformat_minor": 4
}
