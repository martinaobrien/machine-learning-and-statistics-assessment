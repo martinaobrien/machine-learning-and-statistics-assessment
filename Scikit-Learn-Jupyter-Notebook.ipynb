{
 "cells": [
  {
   "cell_type": "markdown",
   "metadata": {},
   "source": [
    "# Scikit-Learn Jupyer Notebook\n",
    "*****\n",
    "***"
   ]
  },
  {
   "cell_type": "markdown",
   "metadata": {},
   "source": [
    "## Overview of the scikit-learn library\n",
    "******\n"
   ]
  },
  {
   "cell_type": "markdown",
   "metadata": {},
   "source": [
    "Scikit Learn is a Python library for machine learning, consisting of learning algorithms for machine learning and statistical modeling. The library was was initially developed by David Cournapeau in 2007 before being further developed by the FIRCA (French Institute for Research in Computer Science and Automation) leading to its first public realesae in 2010. https://www.tutorialspoint.com/scikit_learn/scikit_learn_introduction.htmScikit. It's popularity of use is largely due to ease of use, being open sourse, portable, powerful and wide ranging content and relative flexibility for use in Machine Learning projects. https://towardsdatascience.com/an-introduction-to-scikit-learn-the-gold-standard-of-python-machine-learning-e2b9238a98ab \n",
    "\n",
    "<br>\n",
    "\n",
    "Scikit-Learn's purpose is data modellying and is easily integrated with other packages to provide data handling, manipulation and visualisation. It is built upon Python packages which include Numpy, SciPy Matplotlib. Pandas and Sci Py. The library provides methods of supervised and unsupervised learning algorithms including regression, classification and clustering of data. The library also offers other functions including ensemble methods, feature manipulation, outlier detection and model selection and validation. https://towardsdatascience.com/an-introduction-to-scikit-learn-the-gold-standard-of-python-machine-learning-e2b9238a98ab"
   ]
  },
  {
   "cell_type": "markdown",
   "metadata": {},
   "source": [
    "### Defining Learning Problems with Scikit-Learn\n",
    "***"
   ]
  },
  {
   "cell_type": "markdown",
   "metadata": {},
   "source": [
    "The focus of machine learning is \"acquiring skills or knowledge from experience\"https://machinelearningmastery.com/types-of-learning-in-machine-learning/. Within the field itslef, there are many subfileds of study. The focus of this assessment is two main learning problems with Scikit-Learn. These are supervised and unsupervised learning.\n",
    "<br>\n",
    "<br>\n",
    "**Supervised learning** occurs when the data\"comes with additinal attributes tht we want to predict\"https://scikit-learn.org/stable/tutorial/basic/tutorial.html. The main aim is to assess and predict correlations of real world phenonema. The input and output are specified in this type of learning https://searchenterpriseai.techtarget.com/definition/machine-learning-ML\n",
    "<br>\n",
    "<br>\n",
    "**Unsupervised learning** involves algorithms \"consists of a set of input vectors x without any corresponding target values.... goal in such problems may be to discover groups of similiar examples within the data or to determine the distribution of data\" https://scikit-learn.org/stable/tutorial/basic/tutorial.html .he data and the recommendations generated from the algorithms are pre determined. https://searchenterpriseai.techtarget.com/definition/machine-learning-ML"
   ]
  },
  {
   "cell_type": "markdown",
   "metadata": {},
   "source": [
    "## Palmer Penguin Set: Importing the Dataset and Initial Analysis\n",
    "***"
   ]
  },
  {
   "cell_type": "markdown",
   "metadata": {},
   "source": [
    "### Importing packages\n",
    "<br>\n",
    "\n",
    "The Scikit-Learn package is built upon SciPy (Scientific Python) that most be installed beforehand https://machinelearningmastery.com/a-gentle-introduction-to-scikit-learn-a-python-machine-learning-library/c2. SciPy packages that will be used in this notebook are: \n",
    "- Numpy\n",
    " <br>\n",
    "- Seaborn\n",
    " <br>\n",
    "- Matplotlib\n",
    " <br>\n",
    "- Pandas"
   ]
  },
  {
   "cell_type": "code",
   "execution_count": 1,
   "metadata": {},
   "outputs": [],
   "source": [
    "import pandas as pd # numerical arrarys\n",
    "import numpy as np # data frames\n",
    "import matplotlib.pyplot as plt # plotting\n",
    "import seaborn as sns # statistical plots\n",
    "import sklearn.linear_model as ln # Logistic Regression\n",
    "import sklearn.neighbors as nei # K nearest neighbours\n",
    "import sklearn.model_selection as mod # helper functions"
   ]
  },
  {
   "cell_type": "code",
   "execution_count": 2,
   "metadata": {},
   "outputs": [],
   "source": [
    "# Standard plot size.\n",
    "plt.rcParams['figure.figsize'] = (15, 10)\n",
    "\n",
    "# Standard colour scheme.\n",
    "plt.style.use('ggplot')"
   ]
  },
  {
   "cell_type": "markdown",
   "metadata": {},
   "source": [
    "### Importing the Dataset"
   ]
  },
  {
   "cell_type": "markdown",
   "metadata": {},
   "source": [
    "The Palmer Penguin dataset will be used in this project.https://www.kaggle.com/parulpandey/palmer-archipelago-antarctica-penguin-data/version/1?select=penguins_size.csv. In this section, the dataset is exploered at a higher level to establish any initial observations determine the scikit-learn packages that will be used and if there are any issues with the data that need to be resolved."
   ]
  },
  {
   "cell_type": "code",
   "execution_count": 4,
   "metadata": {},
   "outputs": [],
   "source": [
    "df = pd.read_csv(\"penguins_size.csv\") # reading in the dataset"
   ]
  },
  {
   "cell_type": "markdown",
   "metadata": {},
   "source": [
    "### Exploratory Data Analysis\n",
    "The below functions look at samples from the dataset, its composition and whether or not any datapoints are missing.  "
   ]
  },
  {
   "cell_type": "code",
   "execution_count": 5,
   "metadata": {},
   "outputs": [
    {
     "data": {
      "text/html": [
       "<div>\n",
       "<style scoped>\n",
       "    .dataframe tbody tr th:only-of-type {\n",
       "        vertical-align: middle;\n",
       "    }\n",
       "\n",
       "    .dataframe tbody tr th {\n",
       "        vertical-align: top;\n",
       "    }\n",
       "\n",
       "    .dataframe thead th {\n",
       "        text-align: right;\n",
       "    }\n",
       "</style>\n",
       "<table border=\"1\" class=\"dataframe\">\n",
       "  <thead>\n",
       "    <tr style=\"text-align: right;\">\n",
       "      <th></th>\n",
       "      <th>species</th>\n",
       "      <th>island</th>\n",
       "      <th>culmen_length_mm</th>\n",
       "      <th>culmen_depth_mm</th>\n",
       "      <th>flipper_length_mm</th>\n",
       "      <th>body_mass_g</th>\n",
       "      <th>sex</th>\n",
       "    </tr>\n",
       "  </thead>\n",
       "  <tbody>\n",
       "    <tr>\n",
       "      <th>0</th>\n",
       "      <td>Adelie</td>\n",
       "      <td>Torgersen</td>\n",
       "      <td>39.1</td>\n",
       "      <td>18.7</td>\n",
       "      <td>181.0</td>\n",
       "      <td>3750.0</td>\n",
       "      <td>MALE</td>\n",
       "    </tr>\n",
       "    <tr>\n",
       "      <th>1</th>\n",
       "      <td>Adelie</td>\n",
       "      <td>Torgersen</td>\n",
       "      <td>39.5</td>\n",
       "      <td>17.4</td>\n",
       "      <td>186.0</td>\n",
       "      <td>3800.0</td>\n",
       "      <td>FEMALE</td>\n",
       "    </tr>\n",
       "    <tr>\n",
       "      <th>2</th>\n",
       "      <td>Adelie</td>\n",
       "      <td>Torgersen</td>\n",
       "      <td>40.3</td>\n",
       "      <td>18.0</td>\n",
       "      <td>195.0</td>\n",
       "      <td>3250.0</td>\n",
       "      <td>FEMALE</td>\n",
       "    </tr>\n",
       "    <tr>\n",
       "      <th>3</th>\n",
       "      <td>Adelie</td>\n",
       "      <td>Torgersen</td>\n",
       "      <td>NaN</td>\n",
       "      <td>NaN</td>\n",
       "      <td>NaN</td>\n",
       "      <td>NaN</td>\n",
       "      <td>NaN</td>\n",
       "    </tr>\n",
       "    <tr>\n",
       "      <th>4</th>\n",
       "      <td>Adelie</td>\n",
       "      <td>Torgersen</td>\n",
       "      <td>36.7</td>\n",
       "      <td>19.3</td>\n",
       "      <td>193.0</td>\n",
       "      <td>3450.0</td>\n",
       "      <td>FEMALE</td>\n",
       "    </tr>\n",
       "    <tr>\n",
       "      <th>...</th>\n",
       "      <td>...</td>\n",
       "      <td>...</td>\n",
       "      <td>...</td>\n",
       "      <td>...</td>\n",
       "      <td>...</td>\n",
       "      <td>...</td>\n",
       "      <td>...</td>\n",
       "    </tr>\n",
       "    <tr>\n",
       "      <th>339</th>\n",
       "      <td>Gentoo</td>\n",
       "      <td>Biscoe</td>\n",
       "      <td>NaN</td>\n",
       "      <td>NaN</td>\n",
       "      <td>NaN</td>\n",
       "      <td>NaN</td>\n",
       "      <td>NaN</td>\n",
       "    </tr>\n",
       "    <tr>\n",
       "      <th>340</th>\n",
       "      <td>Gentoo</td>\n",
       "      <td>Biscoe</td>\n",
       "      <td>46.8</td>\n",
       "      <td>14.3</td>\n",
       "      <td>215.0</td>\n",
       "      <td>4850.0</td>\n",
       "      <td>FEMALE</td>\n",
       "    </tr>\n",
       "    <tr>\n",
       "      <th>341</th>\n",
       "      <td>Gentoo</td>\n",
       "      <td>Biscoe</td>\n",
       "      <td>50.4</td>\n",
       "      <td>15.7</td>\n",
       "      <td>222.0</td>\n",
       "      <td>5750.0</td>\n",
       "      <td>MALE</td>\n",
       "    </tr>\n",
       "    <tr>\n",
       "      <th>342</th>\n",
       "      <td>Gentoo</td>\n",
       "      <td>Biscoe</td>\n",
       "      <td>45.2</td>\n",
       "      <td>14.8</td>\n",
       "      <td>212.0</td>\n",
       "      <td>5200.0</td>\n",
       "      <td>FEMALE</td>\n",
       "    </tr>\n",
       "    <tr>\n",
       "      <th>343</th>\n",
       "      <td>Gentoo</td>\n",
       "      <td>Biscoe</td>\n",
       "      <td>49.9</td>\n",
       "      <td>16.1</td>\n",
       "      <td>213.0</td>\n",
       "      <td>5400.0</td>\n",
       "      <td>MALE</td>\n",
       "    </tr>\n",
       "  </tbody>\n",
       "</table>\n",
       "<p>344 rows × 7 columns</p>\n",
       "</div>"
      ],
      "text/plain": [
       "    species     island  culmen_length_mm  culmen_depth_mm  flipper_length_mm  \\\n",
       "0    Adelie  Torgersen              39.1             18.7              181.0   \n",
       "1    Adelie  Torgersen              39.5             17.4              186.0   \n",
       "2    Adelie  Torgersen              40.3             18.0              195.0   \n",
       "3    Adelie  Torgersen               NaN              NaN                NaN   \n",
       "4    Adelie  Torgersen              36.7             19.3              193.0   \n",
       "..      ...        ...               ...              ...                ...   \n",
       "339  Gentoo     Biscoe               NaN              NaN                NaN   \n",
       "340  Gentoo     Biscoe              46.8             14.3              215.0   \n",
       "341  Gentoo     Biscoe              50.4             15.7              222.0   \n",
       "342  Gentoo     Biscoe              45.2             14.8              212.0   \n",
       "343  Gentoo     Biscoe              49.9             16.1              213.0   \n",
       "\n",
       "     body_mass_g     sex  \n",
       "0         3750.0    MALE  \n",
       "1         3800.0  FEMALE  \n",
       "2         3250.0  FEMALE  \n",
       "3            NaN     NaN  \n",
       "4         3450.0  FEMALE  \n",
       "..           ...     ...  \n",
       "339          NaN     NaN  \n",
       "340       4850.0  FEMALE  \n",
       "341       5750.0    MALE  \n",
       "342       5200.0  FEMALE  \n",
       "343       5400.0    MALE  \n",
       "\n",
       "[344 rows x 7 columns]"
      ]
     },
     "execution_count": 5,
     "metadata": {},
     "output_type": "execute_result"
    }
   ],
   "source": [
    "df"
   ]
  },
  {
   "cell_type": "code",
   "execution_count": 6,
   "metadata": {},
   "outputs": [
    {
     "name": "stdout",
     "output_type": "stream",
     "text": [
      "(344, 7)\n"
     ]
    }
   ],
   "source": [
    "print (df.shape)"
   ]
  },
  {
   "cell_type": "code",
   "execution_count": 8,
   "metadata": {},
   "outputs": [
    {
     "data": {
      "text/plain": [
       "Text(0, 0.5, 'Body Mass')"
      ]
     },
     "execution_count": 8,
     "metadata": {},
     "output_type": "execute_result"
    },
    {
     "data": {
      "image/png": "[encoded data removed]",
      "text/plain": [
       "<Figure size 1080x720 with 1 Axes>"
      ]
     },
     "metadata": {},
     "output_type": "display_data"
    }
   ],
   "source": [
    "g = sns.boxplot(x = 'island',\n",
    "            y ='body_mass_g',\n",
    "            hue = 'species',\n",
    "            data = df,\n",
    "            linewidth=0.3)\n",
    "g.set_xlabel('Island')\n",
    "g.set_ylabel('Body Mass')"
   ]
  },
  {
   "cell_type": "markdown",
   "metadata": {},
   "source": [
    "Note: \n",
    "<br>\n",
    "Learning problems fall into a few categories:\n",
    "\n",
    "supervised learning, in which the data comes with additional attributes that we want to predict (Click here to go to the scikit-learn supervised learning page).This problem can be either:\n",
    "\n",
    "classification: samples belong to two or more classes and we want to learn from already labeled data how to predict the class of unlabeled data. An example of a classification problem would be handwritten digit recognition, in which the aim is to assign each input vector to one of a finite number of discrete categories. Another way to think of classification is as a discrete (as opposed to continuous) form of supervised learning where one has a limited number of categories and for each of the n samples provided, one is to try to label them with the correct category or class.\n",
    "\n",
    "regression: if the desired output consists of one or more continuous variables, then the task is called regression. An example of a regression problem would be the prediction of the length of a salmon as a function of its age and weight.\n",
    "\n",
    "unsupervised learning, in which the training data consists of a set of input vectors x without any corresponding target values. The goal in such problems may be to discover groups of similar examples within the data, where it is called clustering, or to determine the distribution of data within the input space, known as density estimation, or to project the data from a high-dimensional space down to two or three dimensions for the purpose of visualization (Click here to go to the Scikit-Learn unsupervised learning page). (3)"
   ]
  },
  {
   "cell_type": "markdown",
   "metadata": {},
   "source": [
    "### Scikit-Learn Algorithms"
   ]
  },
  {
   "cell_type": "markdown",
   "metadata": {},
   "source": [
    "For this assignment, the notebook focuses on the following areas:\n",
    "<br>\n",
    " - Linear Models:\n",
    "<br>\n",
    " - Support Vector Machines\n",
    "<br> \n",
    " - Nearest Neighbours"
   ]
  },
  {
   "cell_type": "code",
   "execution_count": null,
   "metadata": {},
   "outputs": [],
   "source": []
  },
  {
   "cell_type": "code",
   "execution_count": null,
   "metadata": {},
   "outputs": [],
   "source": []
  },
  {
   "cell_type": "code",
   "execution_count": null,
   "metadata": {},
   "outputs": [],
   "source": []
  },
  {
   "cell_type": "code",
   "execution_count": null,
   "metadata": {},
   "outputs": [],
   "source": []
  },
  {
   "cell_type": "code",
   "execution_count": null,
   "metadata": {},
   "outputs": [],
   "source": []
  },
  {
   "cell_type": "code",
   "execution_count": null,
   "metadata": {},
   "outputs": [],
   "source": []
  },
  {
   "cell_type": "code",
   "execution_count": null,
   "metadata": {},
   "outputs": [],
   "source": []
  },
  {
   "cell_type": "code",
   "execution_count": null,
   "metadata": {},
   "outputs": [],
   "source": []
  },
  {
   "cell_type": "code",
   "execution_count": null,
   "metadata": {},
   "outputs": [],
   "source": []
  },
  {
   "cell_type": "code",
   "execution_count": null,
   "metadata": {},
   "outputs": [],
   "source": []
  },
  {
   "cell_type": "code",
   "execution_count": null,
   "metadata": {},
   "outputs": [],
   "source": []
  },
  {
   "cell_type": "code",
   "execution_count": null,
   "metadata": {},
   "outputs": [],
   "source": []
  },
  {
   "cell_type": "code",
   "execution_count": 16,
   "metadata": {},
   "outputs": [
    {
     "data": {
      "image/png": "[encoded data removed]",
      "text/plain": [
       "<Figure size 288x288 with 2 Axes>"
      ]
     },
     "metadata": {
      "needs_background": "light"
     },
     "output_type": "display_data"
    }
   ],
   "source": [
    "plt.matshow(df.corr())\n",
    "plt.xticks(range(len(df.columns)),df.columns)\n",
    "plt.yticks(range(len(df.columns)), df.columns)\n",
    "plt.colorbar()\n",
    "plt.show()"
   ]
  },
  {
   "cell_type": "code",
   "execution_count": null,
   "metadata": {},
   "outputs": [],
   "source": []
  },
  {
   "cell_type": "code",
   "execution_count": null,
   "metadata": {},
   "outputs": [],
   "source": []
  },
  {
   "cell_type": "code",
   "execution_count": null,
   "metadata": {},
   "outputs": [],
   "source": []
  },
  {
   "cell_type": "code",
   "execution_count": 17,
   "metadata": {},
   "outputs": [
    {
     "data": {
      "text/html": [
       "<div>\n",
       "<style scoped>\n",
       "    .dataframe tbody tr th:only-of-type {\n",
       "        vertical-align: middle;\n",
       "    }\n",
       "\n",
       "    .dataframe tbody tr th {\n",
       "        vertical-align: top;\n",
       "    }\n",
       "\n",
       "    .dataframe thead th {\n",
       "        text-align: right;\n",
       "    }\n",
       "</style>\n",
       "<table border=\"1\" class=\"dataframe\">\n",
       "  <thead>\n",
       "    <tr style=\"text-align: right;\">\n",
       "      <th></th>\n",
       "      <th>alcohol</th>\n",
       "      <th>malic_acid</th>\n",
       "      <th>ash</th>\n",
       "      <th>alcalinity_of_ash</th>\n",
       "      <th>magnesium</th>\n",
       "      <th>total_phenols</th>\n",
       "      <th>flavanoids</th>\n",
       "      <th>nonflavanoid_phenols</th>\n",
       "      <th>proanthocyanins</th>\n",
       "      <th>color_intensity</th>\n",
       "      <th>hue</th>\n",
       "      <th>od280/od315_of_diluted_wines</th>\n",
       "      <th>proline</th>\n",
       "      <th>0</th>\n",
       "    </tr>\n",
       "  </thead>\n",
       "  <tbody>\n",
       "    <tr>\n",
       "      <th>count</th>\n",
       "      <td>178.000000</td>\n",
       "      <td>178.000000</td>\n",
       "      <td>178.000000</td>\n",
       "      <td>178.000000</td>\n",
       "      <td>178.000000</td>\n",
       "      <td>178.000000</td>\n",
       "      <td>178.000000</td>\n",
       "      <td>178.000000</td>\n",
       "      <td>178.000000</td>\n",
       "      <td>178.000000</td>\n",
       "      <td>178.000000</td>\n",
       "      <td>178.000000</td>\n",
       "      <td>178.000000</td>\n",
       "      <td>178.000000</td>\n",
       "    </tr>\n",
       "    <tr>\n",
       "      <th>mean</th>\n",
       "      <td>13.000618</td>\n",
       "      <td>2.336348</td>\n",
       "      <td>2.366517</td>\n",
       "      <td>19.494944</td>\n",
       "      <td>99.741573</td>\n",
       "      <td>2.295112</td>\n",
       "      <td>2.029270</td>\n",
       "      <td>0.361854</td>\n",
       "      <td>1.590899</td>\n",
       "      <td>5.058090</td>\n",
       "      <td>0.957449</td>\n",
       "      <td>2.611685</td>\n",
       "      <td>746.893258</td>\n",
       "      <td>0.938202</td>\n",
       "    </tr>\n",
       "    <tr>\n",
       "      <th>std</th>\n",
       "      <td>0.811827</td>\n",
       "      <td>1.117146</td>\n",
       "      <td>0.274344</td>\n",
       "      <td>3.339564</td>\n",
       "      <td>14.282484</td>\n",
       "      <td>0.625851</td>\n",
       "      <td>0.998859</td>\n",
       "      <td>0.124453</td>\n",
       "      <td>0.572359</td>\n",
       "      <td>2.318286</td>\n",
       "      <td>0.228572</td>\n",
       "      <td>0.709990</td>\n",
       "      <td>314.907474</td>\n",
       "      <td>0.775035</td>\n",
       "    </tr>\n",
       "    <tr>\n",
       "      <th>min</th>\n",
       "      <td>11.030000</td>\n",
       "      <td>0.740000</td>\n",
       "      <td>1.360000</td>\n",
       "      <td>10.600000</td>\n",
       "      <td>70.000000</td>\n",
       "      <td>0.980000</td>\n",
       "      <td>0.340000</td>\n",
       "      <td>0.130000</td>\n",
       "      <td>0.410000</td>\n",
       "      <td>1.280000</td>\n",
       "      <td>0.480000</td>\n",
       "      <td>1.270000</td>\n",
       "      <td>278.000000</td>\n",
       "      <td>0.000000</td>\n",
       "    </tr>\n",
       "    <tr>\n",
       "      <th>25%</th>\n",
       "      <td>12.362500</td>\n",
       "      <td>1.602500</td>\n",
       "      <td>2.210000</td>\n",
       "      <td>17.200000</td>\n",
       "      <td>88.000000</td>\n",
       "      <td>1.742500</td>\n",
       "      <td>1.205000</td>\n",
       "      <td>0.270000</td>\n",
       "      <td>1.250000</td>\n",
       "      <td>3.220000</td>\n",
       "      <td>0.782500</td>\n",
       "      <td>1.937500</td>\n",
       "      <td>500.500000</td>\n",
       "      <td>0.000000</td>\n",
       "    </tr>\n",
       "    <tr>\n",
       "      <th>50%</th>\n",
       "      <td>13.050000</td>\n",
       "      <td>1.865000</td>\n",
       "      <td>2.360000</td>\n",
       "      <td>19.500000</td>\n",
       "      <td>98.000000</td>\n",
       "      <td>2.355000</td>\n",
       "      <td>2.135000</td>\n",
       "      <td>0.340000</td>\n",
       "      <td>1.555000</td>\n",
       "      <td>4.690000</td>\n",
       "      <td>0.965000</td>\n",
       "      <td>2.780000</td>\n",
       "      <td>673.500000</td>\n",
       "      <td>1.000000</td>\n",
       "    </tr>\n",
       "    <tr>\n",
       "      <th>75%</th>\n",
       "      <td>13.677500</td>\n",
       "      <td>3.082500</td>\n",
       "      <td>2.557500</td>\n",
       "      <td>21.500000</td>\n",
       "      <td>107.000000</td>\n",
       "      <td>2.800000</td>\n",
       "      <td>2.875000</td>\n",
       "      <td>0.437500</td>\n",
       "      <td>1.950000</td>\n",
       "      <td>6.200000</td>\n",
       "      <td>1.120000</td>\n",
       "      <td>3.170000</td>\n",
       "      <td>985.000000</td>\n",
       "      <td>2.000000</td>\n",
       "    </tr>\n",
       "    <tr>\n",
       "      <th>max</th>\n",
       "      <td>14.830000</td>\n",
       "      <td>5.800000</td>\n",
       "      <td>3.230000</td>\n",
       "      <td>30.000000</td>\n",
       "      <td>162.000000</td>\n",
       "      <td>3.880000</td>\n",
       "      <td>5.080000</td>\n",
       "      <td>0.660000</td>\n",
       "      <td>3.580000</td>\n",
       "      <td>13.000000</td>\n",
       "      <td>1.710000</td>\n",
       "      <td>4.000000</td>\n",
       "      <td>1680.000000</td>\n",
       "      <td>2.000000</td>\n",
       "    </tr>\n",
       "  </tbody>\n",
       "</table>\n",
       "</div>"
      ],
      "text/plain": [
       "          alcohol  malic_acid         ash  alcalinity_of_ash   magnesium  \\\n",
       "count  178.000000  178.000000  178.000000         178.000000  178.000000   \n",
       "mean    13.000618    2.336348    2.366517          19.494944   99.741573   \n",
       "std      0.811827    1.117146    0.274344           3.339564   14.282484   \n",
       "min     11.030000    0.740000    1.360000          10.600000   70.000000   \n",
       "25%     12.362500    1.602500    2.210000          17.200000   88.000000   \n",
       "50%     13.050000    1.865000    2.360000          19.500000   98.000000   \n",
       "75%     13.677500    3.082500    2.557500          21.500000  107.000000   \n",
       "max     14.830000    5.800000    3.230000          30.000000  162.000000   \n",
       "\n",
       "       total_phenols  flavanoids  nonflavanoid_phenols  proanthocyanins  \\\n",
       "count     178.000000  178.000000            178.000000       178.000000   \n",
       "mean        2.295112    2.029270              0.361854         1.590899   \n",
       "std         0.625851    0.998859              0.124453         0.572359   \n",
       "min         0.980000    0.340000              0.130000         0.410000   \n",
       "25%         1.742500    1.205000              0.270000         1.250000   \n",
       "50%         2.355000    2.135000              0.340000         1.555000   \n",
       "75%         2.800000    2.875000              0.437500         1.950000   \n",
       "max         3.880000    5.080000              0.660000         3.580000   \n",
       "\n",
       "       color_intensity         hue  od280/od315_of_diluted_wines      proline  \\\n",
       "count       178.000000  178.000000                    178.000000   178.000000   \n",
       "mean          5.058090    0.957449                      2.611685   746.893258   \n",
       "std           2.318286    0.228572                      0.709990   314.907474   \n",
       "min           1.280000    0.480000                      1.270000   278.000000   \n",
       "25%           3.220000    0.782500                      1.937500   500.500000   \n",
       "50%           4.690000    0.965000                      2.780000   673.500000   \n",
       "75%           6.200000    1.120000                      3.170000   985.000000   \n",
       "max          13.000000    1.710000                      4.000000  1680.000000   \n",
       "\n",
       "                0  \n",
       "count  178.000000  \n",
       "mean     0.938202  \n",
       "std      0.775035  \n",
       "min      0.000000  \n",
       "25%      0.000000  \n",
       "50%      1.000000  \n",
       "75%      2.000000  \n",
       "max      2.000000  "
      ]
     },
     "execution_count": 17,
     "metadata": {},
     "output_type": "execute_result"
    }
   ],
   "source": [
    "df.describe() # important in prediction of the class later on"
   ]
  },
  {
   "cell_type": "code",
   "execution_count": 18,
   "metadata": {},
   "outputs": [
    {
     "data": {
      "text/html": [
       "<style type=\"text/css\">\n",
       "</style>\n",
       "<table id=\"T_24b25_\">\n",
       "  <thead>\n",
       "    <tr>\n",
       "      <th class=\"blank level0\" >&nbsp;</th>\n",
       "      <th class=\"col_heading level0 col0\" >alcohol</th>\n",
       "      <th class=\"col_heading level0 col1\" >malic_acid</th>\n",
       "      <th class=\"col_heading level0 col2\" >ash</th>\n",
       "      <th class=\"col_heading level0 col3\" >alcalinity_of_ash</th>\n",
       "      <th class=\"col_heading level0 col4\" >magnesium</th>\n",
       "      <th class=\"col_heading level0 col5\" >total_phenols</th>\n",
       "      <th class=\"col_heading level0 col6\" >flavanoids</th>\n",
       "      <th class=\"col_heading level0 col7\" >nonflavanoid_phenols</th>\n",
       "      <th class=\"col_heading level0 col8\" >proanthocyanins</th>\n",
       "      <th class=\"col_heading level0 col9\" >color_intensity</th>\n",
       "      <th class=\"col_heading level0 col10\" >hue</th>\n",
       "      <th class=\"col_heading level0 col11\" >od280/od315_of_diluted_wines</th>\n",
       "      <th class=\"col_heading level0 col12\" >proline</th>\n",
       "      <th class=\"col_heading level0 col13\" >0</th>\n",
       "    </tr>\n",
       "  </thead>\n",
       "  <tbody>\n",
       "    <tr>\n",
       "      <th id=\"T_24b25_level0_row0\" class=\"row_heading level0 row0\" >count</th>\n",
       "      <td id=\"T_24b25_row0_col0\" class=\"data row0 col0\" >178.00000</td>\n",
       "      <td id=\"T_24b25_row0_col1\" class=\"data row0 col1\" >178.00000</td>\n",
       "      <td id=\"T_24b25_row0_col2\" class=\"data row0 col2\" >178.00000</td>\n",
       "      <td id=\"T_24b25_row0_col3\" class=\"data row0 col3\" >178.00000</td>\n",
       "      <td id=\"T_24b25_row0_col4\" class=\"data row0 col4\" >178.00000</td>\n",
       "      <td id=\"T_24b25_row0_col5\" class=\"data row0 col5\" >178.00000</td>\n",
       "      <td id=\"T_24b25_row0_col6\" class=\"data row0 col6\" >178.00000</td>\n",
       "      <td id=\"T_24b25_row0_col7\" class=\"data row0 col7\" >178.00000</td>\n",
       "      <td id=\"T_24b25_row0_col8\" class=\"data row0 col8\" >178.00000</td>\n",
       "      <td id=\"T_24b25_row0_col9\" class=\"data row0 col9\" >178.00000</td>\n",
       "      <td id=\"T_24b25_row0_col10\" class=\"data row0 col10\" >178.00000</td>\n",
       "      <td id=\"T_24b25_row0_col11\" class=\"data row0 col11\" >178.00000</td>\n",
       "      <td id=\"T_24b25_row0_col12\" class=\"data row0 col12\" >178.00000</td>\n",
       "      <td id=\"T_24b25_row0_col13\" class=\"data row0 col13\" >178.00000</td>\n",
       "    </tr>\n",
       "    <tr>\n",
       "      <th id=\"T_24b25_level0_row1\" class=\"row_heading level0 row1\" >mean</th>\n",
       "      <td id=\"T_24b25_row1_col0\" class=\"data row1 col0\" >13.00062</td>\n",
       "      <td id=\"T_24b25_row1_col1\" class=\"data row1 col1\" >2.33635</td>\n",
       "      <td id=\"T_24b25_row1_col2\" class=\"data row1 col2\" >2.36652</td>\n",
       "      <td id=\"T_24b25_row1_col3\" class=\"data row1 col3\" >19.49494</td>\n",
       "      <td id=\"T_24b25_row1_col4\" class=\"data row1 col4\" >99.74157</td>\n",
       "      <td id=\"T_24b25_row1_col5\" class=\"data row1 col5\" >2.29511</td>\n",
       "      <td id=\"T_24b25_row1_col6\" class=\"data row1 col6\" >2.02927</td>\n",
       "      <td id=\"T_24b25_row1_col7\" class=\"data row1 col7\" >0.36185</td>\n",
       "      <td id=\"T_24b25_row1_col8\" class=\"data row1 col8\" >1.59090</td>\n",
       "      <td id=\"T_24b25_row1_col9\" class=\"data row1 col9\" >5.05809</td>\n",
       "      <td id=\"T_24b25_row1_col10\" class=\"data row1 col10\" >0.95745</td>\n",
       "      <td id=\"T_24b25_row1_col11\" class=\"data row1 col11\" >2.61169</td>\n",
       "      <td id=\"T_24b25_row1_col12\" class=\"data row1 col12\" >746.89326</td>\n",
       "      <td id=\"T_24b25_row1_col13\" class=\"data row1 col13\" >0.93820</td>\n",
       "    </tr>\n",
       "    <tr>\n",
       "      <th id=\"T_24b25_level0_row2\" class=\"row_heading level0 row2\" >std</th>\n",
       "      <td id=\"T_24b25_row2_col0\" class=\"data row2 col0\" >0.81183</td>\n",
       "      <td id=\"T_24b25_row2_col1\" class=\"data row2 col1\" >1.11715</td>\n",
       "      <td id=\"T_24b25_row2_col2\" class=\"data row2 col2\" >0.27434</td>\n",
       "      <td id=\"T_24b25_row2_col3\" class=\"data row2 col3\" >3.33956</td>\n",
       "      <td id=\"T_24b25_row2_col4\" class=\"data row2 col4\" >14.28248</td>\n",
       "      <td id=\"T_24b25_row2_col5\" class=\"data row2 col5\" >0.62585</td>\n",
       "      <td id=\"T_24b25_row2_col6\" class=\"data row2 col6\" >0.99886</td>\n",
       "      <td id=\"T_24b25_row2_col7\" class=\"data row2 col7\" >0.12445</td>\n",
       "      <td id=\"T_24b25_row2_col8\" class=\"data row2 col8\" >0.57236</td>\n",
       "      <td id=\"T_24b25_row2_col9\" class=\"data row2 col9\" >2.31829</td>\n",
       "      <td id=\"T_24b25_row2_col10\" class=\"data row2 col10\" >0.22857</td>\n",
       "      <td id=\"T_24b25_row2_col11\" class=\"data row2 col11\" >0.70999</td>\n",
       "      <td id=\"T_24b25_row2_col12\" class=\"data row2 col12\" >314.90747</td>\n",
       "      <td id=\"T_24b25_row2_col13\" class=\"data row2 col13\" >0.77503</td>\n",
       "    </tr>\n",
       "    <tr>\n",
       "      <th id=\"T_24b25_level0_row3\" class=\"row_heading level0 row3\" >min</th>\n",
       "      <td id=\"T_24b25_row3_col0\" class=\"data row3 col0\" >11.03000</td>\n",
       "      <td id=\"T_24b25_row3_col1\" class=\"data row3 col1\" >0.74000</td>\n",
       "      <td id=\"T_24b25_row3_col2\" class=\"data row3 col2\" >1.36000</td>\n",
       "      <td id=\"T_24b25_row3_col3\" class=\"data row3 col3\" >10.60000</td>\n",
       "      <td id=\"T_24b25_row3_col4\" class=\"data row3 col4\" >70.00000</td>\n",
       "      <td id=\"T_24b25_row3_col5\" class=\"data row3 col5\" >0.98000</td>\n",
       "      <td id=\"T_24b25_row3_col6\" class=\"data row3 col6\" >0.34000</td>\n",
       "      <td id=\"T_24b25_row3_col7\" class=\"data row3 col7\" >0.13000</td>\n",
       "      <td id=\"T_24b25_row3_col8\" class=\"data row3 col8\" >0.41000</td>\n",
       "      <td id=\"T_24b25_row3_col9\" class=\"data row3 col9\" >1.28000</td>\n",
       "      <td id=\"T_24b25_row3_col10\" class=\"data row3 col10\" >0.48000</td>\n",
       "      <td id=\"T_24b25_row3_col11\" class=\"data row3 col11\" >1.27000</td>\n",
       "      <td id=\"T_24b25_row3_col12\" class=\"data row3 col12\" >278.00000</td>\n",
       "      <td id=\"T_24b25_row3_col13\" class=\"data row3 col13\" >0.00000</td>\n",
       "    </tr>\n",
       "    <tr>\n",
       "      <th id=\"T_24b25_level0_row4\" class=\"row_heading level0 row4\" >25%</th>\n",
       "      <td id=\"T_24b25_row4_col0\" class=\"data row4 col0\" >12.36250</td>\n",
       "      <td id=\"T_24b25_row4_col1\" class=\"data row4 col1\" >1.60250</td>\n",
       "      <td id=\"T_24b25_row4_col2\" class=\"data row4 col2\" >2.21000</td>\n",
       "      <td id=\"T_24b25_row4_col3\" class=\"data row4 col3\" >17.20000</td>\n",
       "      <td id=\"T_24b25_row4_col4\" class=\"data row4 col4\" >88.00000</td>\n",
       "      <td id=\"T_24b25_row4_col5\" class=\"data row4 col5\" >1.74250</td>\n",
       "      <td id=\"T_24b25_row4_col6\" class=\"data row4 col6\" >1.20500</td>\n",
       "      <td id=\"T_24b25_row4_col7\" class=\"data row4 col7\" >0.27000</td>\n",
       "      <td id=\"T_24b25_row4_col8\" class=\"data row4 col8\" >1.25000</td>\n",
       "      <td id=\"T_24b25_row4_col9\" class=\"data row4 col9\" >3.22000</td>\n",
       "      <td id=\"T_24b25_row4_col10\" class=\"data row4 col10\" >0.78250</td>\n",
       "      <td id=\"T_24b25_row4_col11\" class=\"data row4 col11\" >1.93750</td>\n",
       "      <td id=\"T_24b25_row4_col12\" class=\"data row4 col12\" >500.50000</td>\n",
       "      <td id=\"T_24b25_row4_col13\" class=\"data row4 col13\" >0.00000</td>\n",
       "    </tr>\n",
       "    <tr>\n",
       "      <th id=\"T_24b25_level0_row5\" class=\"row_heading level0 row5\" >50%</th>\n",
       "      <td id=\"T_24b25_row5_col0\" class=\"data row5 col0\" >13.05000</td>\n",
       "      <td id=\"T_24b25_row5_col1\" class=\"data row5 col1\" >1.86500</td>\n",
       "      <td id=\"T_24b25_row5_col2\" class=\"data row5 col2\" >2.36000</td>\n",
       "      <td id=\"T_24b25_row5_col3\" class=\"data row5 col3\" >19.50000</td>\n",
       "      <td id=\"T_24b25_row5_col4\" class=\"data row5 col4\" >98.00000</td>\n",
       "      <td id=\"T_24b25_row5_col5\" class=\"data row5 col5\" >2.35500</td>\n",
       "      <td id=\"T_24b25_row5_col6\" class=\"data row5 col6\" >2.13500</td>\n",
       "      <td id=\"T_24b25_row5_col7\" class=\"data row5 col7\" >0.34000</td>\n",
       "      <td id=\"T_24b25_row5_col8\" class=\"data row5 col8\" >1.55500</td>\n",
       "      <td id=\"T_24b25_row5_col9\" class=\"data row5 col9\" >4.69000</td>\n",
       "      <td id=\"T_24b25_row5_col10\" class=\"data row5 col10\" >0.96500</td>\n",
       "      <td id=\"T_24b25_row5_col11\" class=\"data row5 col11\" >2.78000</td>\n",
       "      <td id=\"T_24b25_row5_col12\" class=\"data row5 col12\" >673.50000</td>\n",
       "      <td id=\"T_24b25_row5_col13\" class=\"data row5 col13\" >1.00000</td>\n",
       "    </tr>\n",
       "    <tr>\n",
       "      <th id=\"T_24b25_level0_row6\" class=\"row_heading level0 row6\" >75%</th>\n",
       "      <td id=\"T_24b25_row6_col0\" class=\"data row6 col0\" >13.67750</td>\n",
       "      <td id=\"T_24b25_row6_col1\" class=\"data row6 col1\" >3.08250</td>\n",
       "      <td id=\"T_24b25_row6_col2\" class=\"data row6 col2\" >2.55750</td>\n",
       "      <td id=\"T_24b25_row6_col3\" class=\"data row6 col3\" >21.50000</td>\n",
       "      <td id=\"T_24b25_row6_col4\" class=\"data row6 col4\" >107.00000</td>\n",
       "      <td id=\"T_24b25_row6_col5\" class=\"data row6 col5\" >2.80000</td>\n",
       "      <td id=\"T_24b25_row6_col6\" class=\"data row6 col6\" >2.87500</td>\n",
       "      <td id=\"T_24b25_row6_col7\" class=\"data row6 col7\" >0.43750</td>\n",
       "      <td id=\"T_24b25_row6_col8\" class=\"data row6 col8\" >1.95000</td>\n",
       "      <td id=\"T_24b25_row6_col9\" class=\"data row6 col9\" >6.20000</td>\n",
       "      <td id=\"T_24b25_row6_col10\" class=\"data row6 col10\" >1.12000</td>\n",
       "      <td id=\"T_24b25_row6_col11\" class=\"data row6 col11\" >3.17000</td>\n",
       "      <td id=\"T_24b25_row6_col12\" class=\"data row6 col12\" >985.00000</td>\n",
       "      <td id=\"T_24b25_row6_col13\" class=\"data row6 col13\" >2.00000</td>\n",
       "    </tr>\n",
       "    <tr>\n",
       "      <th id=\"T_24b25_level0_row7\" class=\"row_heading level0 row7\" >max</th>\n",
       "      <td id=\"T_24b25_row7_col0\" class=\"data row7 col0\" >14.83000</td>\n",
       "      <td id=\"T_24b25_row7_col1\" class=\"data row7 col1\" >5.80000</td>\n",
       "      <td id=\"T_24b25_row7_col2\" class=\"data row7 col2\" >3.23000</td>\n",
       "      <td id=\"T_24b25_row7_col3\" class=\"data row7 col3\" >30.00000</td>\n",
       "      <td id=\"T_24b25_row7_col4\" class=\"data row7 col4\" >162.00000</td>\n",
       "      <td id=\"T_24b25_row7_col5\" class=\"data row7 col5\" >3.88000</td>\n",
       "      <td id=\"T_24b25_row7_col6\" class=\"data row7 col6\" >5.08000</td>\n",
       "      <td id=\"T_24b25_row7_col7\" class=\"data row7 col7\" >0.66000</td>\n",
       "      <td id=\"T_24b25_row7_col8\" class=\"data row7 col8\" >3.58000</td>\n",
       "      <td id=\"T_24b25_row7_col9\" class=\"data row7 col9\" >13.00000</td>\n",
       "      <td id=\"T_24b25_row7_col10\" class=\"data row7 col10\" >1.71000</td>\n",
       "      <td id=\"T_24b25_row7_col11\" class=\"data row7 col11\" >4.00000</td>\n",
       "      <td id=\"T_24b25_row7_col12\" class=\"data row7 col12\" >1680.00000</td>\n",
       "      <td id=\"T_24b25_row7_col13\" class=\"data row7 col13\" >2.00000</td>\n",
       "    </tr>\n",
       "  </tbody>\n",
       "</table>\n"
      ],
      "text/plain": [
       "<pandas.io.formats.style.Styler at 0x1a846d50df0>"
      ]
     },
     "execution_count": 18,
     "metadata": {},
     "output_type": "execute_result"
    }
   ],
   "source": [
    "df.describe().style.format(\"{:.5f}\") # format call to give better overview"
   ]
  },
  {
   "cell_type": "code",
   "execution_count": 19,
   "metadata": {},
   "outputs": [
    {
     "data": {
      "image/png": "[encoded data removed]",
      "text/plain": [
       "<Figure size 288x288 with 2 Axes>"
      ]
     },
     "metadata": {
      "needs_background": "light"
     },
     "output_type": "display_data"
    }
   ],
   "source": [
    "plt.matshow(df.corr())\n",
    "plt.xticks(range(len(df.columns)),df.columns)\n",
    "plt.yticks(range(len(df.columns)), df.columns)\n",
    "plt.colorbar()\n",
    "plt.show()"
   ]
  },
  {
   "cell_type": "markdown",
   "metadata": {},
   "source": [
    "no strong correlations between features"
   ]
  },
  {
   "cell_type": "markdown",
   "metadata": {},
   "source": [
    "### Support Vector Machines"
   ]
  },
  {
   "cell_type": "code",
   "execution_count": null,
   "metadata": {},
   "outputs": [],
   "source": []
  },
  {
   "cell_type": "code",
   "execution_count": null,
   "metadata": {},
   "outputs": [],
   "source": []
  },
  {
   "cell_type": "code",
   "execution_count": null,
   "metadata": {},
   "outputs": [],
   "source": []
  },
  {
   "cell_type": "code",
   "execution_count": 20,
   "metadata": {},
   "outputs": [],
   "source": [
    "pd.set_option('display.max_columns', None)\n",
    "\n",
    "pd.set_option('display.max_rows', None)"
   ]
  },
  {
   "cell_type": "code",
   "execution_count": 21,
   "metadata": {},
   "outputs": [],
   "source": [
    "from sklearn.datasets import load_iris\n",
    "\n",
    "data = load_iris()\n",
    "\n",
    "df = pd.DataFrame(data.data,columns=data.feature_names)\n",
    "\n",
    "df['target'] = pd.Series(data.target)"
   ]
  },
  {
   "cell_type": "code",
   "execution_count": 22,
   "metadata": {},
   "outputs": [
    {
     "name": "stdout",
     "output_type": "stream",
     "text": [
      "   sepal length (cm)  sepal width (cm)  petal length (cm)  petal width (cm)  \\\n",
      "0                5.1               3.5                1.4               0.2   \n",
      "1                4.9               3.0                1.4               0.2   \n",
      "2                4.7               3.2                1.3               0.2   \n",
      "3                4.6               3.1                1.5               0.2   \n",
      "4                5.0               3.6                1.4               0.2   \n",
      "\n",
      "   target  \n",
      "0       0  \n",
      "1       0  \n",
      "2       0  \n",
      "3       0  \n",
      "4       0  \n"
     ]
    }
   ],
   "source": [
    "print(df.head())"
   ]
  },
  {
   "cell_type": "code",
   "execution_count": 23,
   "metadata": {},
   "outputs": [],
   "source": [
    "def get_data(dataset):\n",
    "\n",
    "    data = dataset\n",
    "\n",
    "    df = pd.DataFrame(data.data,columns=data.feature_names)\n",
    "\n",
    "    df['target'] = pd.Series(data.target)\n",
    "\n",
    "    print(df.head())"
   ]
  },
  {
   "cell_type": "code",
   "execution_count": 24,
   "metadata": {},
   "outputs": [
    {
     "name": "stdout",
     "output_type": "stream",
     "text": [
      "   sepal length (cm)  sepal width (cm)  petal length (cm)  petal width (cm)  \\\n",
      "0                5.1               3.5                1.4               0.2   \n",
      "1                4.9               3.0                1.4               0.2   \n",
      "2                4.7               3.2                1.3               0.2   \n",
      "3                4.6               3.1                1.5               0.2   \n",
      "4                5.0               3.6                1.4               0.2   \n",
      "\n",
      "   target  \n",
      "0       0  \n",
      "1       0  \n",
      "2       0  \n",
      "3       0  \n",
      "4       0  \n"
     ]
    }
   ],
   "source": [
    "get_data(load_iris())"
   ]
  },
  {
   "cell_type": "code",
   "execution_count": 25,
   "metadata": {},
   "outputs": [
    {
     "name": "stdout",
     "output_type": "stream",
     "text": [
      "      CRIM    ZN  INDUS  CHAS    NOX     RM   AGE     DIS  RAD    TAX  \\\n",
      "0  0.00632  18.0   2.31   0.0  0.538  6.575  65.2  4.0900  1.0  296.0   \n",
      "1  0.02731   0.0   7.07   0.0  0.469  6.421  78.9  4.9671  2.0  242.0   \n",
      "2  0.02729   0.0   7.07   0.0  0.469  7.185  61.1  4.9671  2.0  242.0   \n",
      "3  0.03237   0.0   2.18   0.0  0.458  6.998  45.8  6.0622  3.0  222.0   \n",
      "4  0.06905   0.0   2.18   0.0  0.458  7.147  54.2  6.0622  3.0  222.0   \n",
      "\n",
      "   PTRATIO       B  LSTAT  target  \n",
      "0     15.3  396.90   4.98    24.0  \n",
      "1     17.8  396.90   9.14    21.6  \n",
      "2     17.8  392.83   4.03    34.7  \n",
      "3     18.7  394.63   2.94    33.4  \n",
      "4     18.7  396.90   5.33    36.2  \n"
     ]
    }
   ],
   "source": [
    "from sklearn.datasets import load_iris, load_boston\n",
    "\n",
    "get_data(load_boston())"
   ]
  },
  {
   "cell_type": "markdown",
   "metadata": {},
   "source": [
    "Linear Regression"
   ]
  },
  {
   "cell_type": "code",
   "execution_count": null,
   "metadata": {},
   "outputs": [],
   "source": []
  },
  {
   "cell_type": "code",
   "execution_count": 26,
   "metadata": {},
   "outputs": [],
   "source": [
    "from sklearn.datasets import load_wine"
   ]
  },
  {
   "cell_type": "code",
   "execution_count": 27,
   "metadata": {},
   "outputs": [],
   "source": [
    "wine_data = load_wine()"
   ]
  },
  {
   "cell_type": "code",
   "execution_count": 28,
   "metadata": {},
   "outputs": [
    {
     "data": {
      "text/plain": [
       "['DESCR', 'data', 'feature_names', 'frame', 'target', 'target_names']"
      ]
     },
     "execution_count": 28,
     "metadata": {},
     "output_type": "execute_result"
    }
   ],
   "source": [
    "dir(wine_data)"
   ]
  },
  {
   "cell_type": "markdown",
   "metadata": {},
   "source": [
    "## References"
   ]
  },
  {
   "cell_type": "markdown",
   "metadata": {},
   "source": [
    "(1) https://machinelearningmastery.com/a-gentle-introduction-to-scikit-learn-a-python-machine-learning-library/\n",
    "<br>\n",
    "(2) https://machinelearningmastery.com/a-gentle-introduction-to-scikit-learn-a-python-machine-learning-library/\n",
    "<br>\n",
    "(3) https://scikit-learn.org/stable/tutorial/basic/tutorial.html\n",
    "\n",
    "<br>\n",
    "Wine Dataset - P. Cortez, A. Cerdeira, F. Almeida, T. Matos and J. Reis. Modeling wine preferences by data mining from physicochemical properties. In Decision Support Systems, Elsevier, 47(4):547-553, 2009."
   ]
  },
  {
   "cell_type": "code",
   "execution_count": 2,
   "metadata": {},
   "outputs": [
    {
     "data": {
      "text/html": [
       "<div>\n",
       "<style scoped>\n",
       "    .dataframe tbody tr th:only-of-type {\n",
       "        vertical-align: middle;\n",
       "    }\n",
       "\n",
       "    .dataframe tbody tr th {\n",
       "        vertical-align: top;\n",
       "    }\n",
       "\n",
       "    .dataframe thead th {\n",
       "        text-align: right;\n",
       "    }\n",
       "</style>\n",
       "<table border=\"1\" class=\"dataframe\">\n",
       "  <thead>\n",
       "    <tr style=\"text-align: right;\">\n",
       "      <th></th>\n",
       "      <th>A</th>\n",
       "      <th>B</th>\n",
       "      <th>mean(A)</th>\n",
       "      <th>mean(B)</th>\n",
       "      <th>diff</th>\n",
       "      <th>se</th>\n",
       "      <th>T</th>\n",
       "      <th>df</th>\n",
       "      <th>pval</th>\n",
       "      <th>hedges</th>\n",
       "    </tr>\n",
       "  </thead>\n",
       "  <tbody>\n",
       "    <tr>\n",
       "      <th>0</th>\n",
       "      <td>Adelie</td>\n",
       "      <td>Chinstrap</td>\n",
       "      <td>3700.662</td>\n",
       "      <td>3733.088</td>\n",
       "      <td>-32.426</td>\n",
       "      <td>59.706</td>\n",
       "      <td>-0.543</td>\n",
       "      <td>152.455</td>\n",
       "      <td>0.834</td>\n",
       "      <td>-0.079</td>\n",
       "    </tr>\n",
       "    <tr>\n",
       "      <th>1</th>\n",
       "      <td>Adelie</td>\n",
       "      <td>Gentoo</td>\n",
       "      <td>3700.662</td>\n",
       "      <td>5076.016</td>\n",
       "      <td>-1375.354</td>\n",
       "      <td>58.811</td>\n",
       "      <td>-23.386</td>\n",
       "      <td>249.643</td>\n",
       "      <td>0.001</td>\n",
       "      <td>-2.833</td>\n",
       "    </tr>\n",
       "    <tr>\n",
       "      <th>2</th>\n",
       "      <td>Chinstrap</td>\n",
       "      <td>Gentoo</td>\n",
       "      <td>3733.088</td>\n",
       "      <td>5076.016</td>\n",
       "      <td>-1342.928</td>\n",
       "      <td>65.103</td>\n",
       "      <td>-20.628</td>\n",
       "      <td>170.404</td>\n",
       "      <td>0.001</td>\n",
       "      <td>-3.105</td>\n",
       "    </tr>\n",
       "  </tbody>\n",
       "</table>\n",
       "</div>"
      ],
      "text/plain": [
       "           A          B   mean(A)   mean(B)      diff      se       T  \\\n",
       "0     Adelie  Chinstrap  3700.662  3733.088   -32.426  59.706  -0.543   \n",
       "1     Adelie     Gentoo  3700.662  5076.016 -1375.354  58.811 -23.386   \n",
       "2  Chinstrap     Gentoo  3733.088  5076.016 -1342.928  65.103 -20.628   \n",
       "\n",
       "        df   pval  hedges  \n",
       "0  152.455  0.834  -0.079  \n",
       "1  249.643  0.001  -2.833  \n",
       "2  170.404  0.001  -3.105  "
      ]
     },
     "execution_count": 2,
     "metadata": {},
     "output_type": "execute_result"
    }
   ],
   "source": [
    "import pingouin as pg # https://pingouin-stats.org/generated/pingouin.pairwise_gameshowell.html#pingouin.pairwise_gameshowell\n",
    "df = pg.read_dataset('penguins')\n",
    "pg.pairwise_gameshowell(data=df, dv='body_mass_g',\n",
    "                        between='species').round(3)"
   ]
  },
  {
   "cell_type": "code",
   "execution_count": null,
   "metadata": {},
   "outputs": [],
   "source": []
  },
  {
   "cell_type": "code",
   "execution_count": null,
   "metadata": {},
   "outputs": [],
   "source": []
  },
  {
   "cell_type": "code",
   "execution_count": null,
   "metadata": {},
   "outputs": [],
   "source": []
  },
  {
   "cell_type": "markdown",
   "metadata": {},
   "source": [
    "# End\n",
    "\n",
    "*******"
   ]
  },
  {
   "cell_type": "code",
   "execution_count": null,
   "metadata": {},
   "outputs": [],
   "source": []
  }
 ],
 "metadata": {
  "kernelspec": {
   "display_name": "Python 3 (ipykernel)",
   "language": "python",
   "name": "python3"
  },
  "language_info": {
   "codemirror_mode": {
    "name": "ipython",
    "version": 3
   },
   "file_extension": ".py",
   "mimetype": "text/x-python",
   "name": "python",
   "nbconvert_exporter": "python",
   "pygments_lexer": "ipython3",
   "version": "3.9.7"
  }
 },
 "nbformat": 4,
 "nbformat_minor": 4
}
