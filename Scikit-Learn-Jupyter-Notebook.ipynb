{
 "cells": [
  {
   "cell_type": "markdown",
   "metadata": {},
   "source": [
    "# Scikit-Learn Jupyer Notebook\n",
    "*****\n",
    "*****"
   ]
  },
  {
   "cell_type": "markdown",
   "metadata": {},
   "source": [
    "## Outline of this Notebook:\n",
    "\n",
    "1. Overview of the scikit-learn package\n",
    "2. Dataset: Penguin Dataset\n",
    "    - Importing Packages for the Notebook\n",
    "    - Exploring the Dataset\n",
    "    - Preprocessing the Data\n",
    "    - Data Visualisation\n",
    "3. Train and Testing the Dataset\n",
    "4. Data Modelling: Regression\n",
    "    - Random Forest\n",
    "    - Decision Tree\n",
    "    - Naive Bayes\n",
    "5. Comparison between models \n",
    "6. Conclusion\n",
    "7. References"
   ]
  },
  {
   "cell_type": "markdown",
   "metadata": {},
   "source": [
    "## 1. Overview of the scikit-learn library\n",
    "******"
   ]
  },
  {
   "cell_type": "markdown",
   "metadata": {},
   "source": [
    "### Defining Learning Problems with Scikit-Learn\n",
    "***"
   ]
  },
  {
   "cell_type": "markdown",
   "metadata": {},
   "source": [
    "The focus of machine learning is \"acquiring skills or knowledge from experience\"https://machinelearningmastery.com/types-of-learning-in-machine-learning/. Within the field itslef, there are many subfileds of study. The focus of this assessment is two main learning problems with Scikit-Learn. These are supervised and unsupervised learning.\n",
    "<br>\n",
    "<br>\n",
    "**Supervised learning** occurs when the data\"comes with additional attributes tht we want to predict\"https://scikit-learn.org/stable/tutorial/basic/tutorial.html. The main aim is to assess and predict correlations of real world phenonema. The input and output are specified in this type of learning https://searchenterpriseai.techtarget.com/definition/machine-learning-ML\n",
    "<br>\n",
    "- **classification:** samples belong to two or more classes and we want to learn from already labeled data how to predict the class of unlabeled data. An example of a classification problem would be handwritten digit recognition, in which the aim is to assign each input vector to one of a finite number of discrete categories. Another way to think of classification is as a discrete (as opposed to continuous) form of supervised learning where one has a limited number of categories and for each of the n samples provided, one is to try to label them with the correct category or class.\n",
    "\n",
    "- **regression:** if the desired output consists of one or more continuous variables, then the task is called regression. An example of a regression problem would be the prediction of the length of a salmon as a function of its age and weight.\n",
    "<br>\n",
    "**Unsupervised learning** involves algorithms \"consists of a set of input vectors x without any corresponding target values.... goal in such problems may be to discover groups of similiar examples within the data or to determine the distribution of data\" https://scikit-learn.org/stable/tutorial/basic/tutorial.html .he data and the recommendations generated from the algorithms are pre determined. https://searchenterpriseai.techtarget.com/definition/machine-learning-ML"
   ]
  },
  {
   "cell_type": "markdown",
   "metadata": {},
   "source": [
    "## 2. Dataset: Penguin Dataset\n",
    "******"
   ]
  },
  {
   "cell_type": "markdown",
   "metadata": {
    "tags": []
   },
   "source": [
    "### Importing packages\n",
    "<br>\n",
    "\n",
    "The Scikit-Learn package is built upon SciPy (Scientific Python) that most be installed beforehand https://machinelearningmastery.com/a-gentle-introduction-to-scikit-learn-a-python-machine-learning-library/c2. SciPy packages that will be used in this notebook are imported in the below code block alongwith the preferred plot modelling. "
   ]
  },
  {
   "cell_type": "code",
   "execution_count": 1984,
   "metadata": {},
   "outputs": [],
   "source": [
    "import numpy as np # linear algebra\n",
    "import pandas as pd # data processing, CSV file I/O (e.g. pd.read_csv)\n",
    "import matplotlib.pyplot as plt #for all graphical and plotting purposes\n",
    "import seaborn as sns\n",
    "#import missingno as msno\n",
    "#Metrics\n",
    "from sklearn.metrics import make_scorer, accuracy_score,precision_score\n",
    "from sklearn.metrics import classification_report\n",
    "from sklearn.metrics import confusion_matrix\n",
    "from sklearn.metrics import accuracy_score ,precision_score,recall_score,f1_score\n",
    "\n",
    "#Model Select\n",
    "from sklearn.model_selection import KFold,train_test_split,cross_val_score\n",
    "from sklearn.ensemble import RandomForestClassifier\n",
    "from sklearn.model_selection import train_test_split\n",
    "from sklearn.linear_model import  LogisticRegression\n",
    "from sklearn.ensemble import RandomForestClassifier\n",
    "from sklearn import linear_model\n",
    "from sklearn.linear_model import SGDClassifier\n",
    "from sklearn.tree import DecisionTreeClassifier\n",
    "from sklearn.neighbors import KNeighborsClassifier\n",
    "from sklearn.svm import SVC, LinearSVC\n",
    "from sklearn.naive_bayes import GaussianNB\n",
    "\n",
    "# Input data files are available in the read-only \"../input/\" directory\n",
    "# For example, running this (by clicking run or pressing Shift+Enter) will list all files under the input directory\n",
    "\n",
    "import os\n",
    "for dirname, _, filenames in os.walk('/kaggle/input'):\n",
    "    for filename in filenames:\n",
    "        print(os.path.join(dirname, filename))\n",
    "\n",
    "\n",
    "import pandas as pd # numerical arrarys\n",
    "import numpy as np # data frames\n",
    "import matplotlib.pyplot as plt # plotting\n",
    "import seaborn as sns # statistical plots\n",
    "import sklearn.linear_model as ln # Logistic Regression\n",
    "import sklearn.neighbors as nei # K nearest neighbours\n",
    "import sklearn.model_selection as mod # helper functions\n",
    "from sklearn.model_selection import KFold,train_test_split,cross_val_score\n",
    "from sklearn.model_selection import train_test_split\n",
    "from sklearn.model_selection import KFold,train_test_split,cross_val_score\n",
    "from sklearn.ensemble import RandomForestClassifier\n",
    "from sklearn.model_selection import train_test_split\n",
    "from sklearn.linear_model import  LogisticRegression\n",
    "from sklearn.ensemble import RandomForestClassifier\n",
    "from sklearn import linear_model\n",
    "from sklearn.linear_model import SGDClassifier\n",
    "from sklearn.tree import DecisionTreeClassifier\n",
    "from sklearn.neighbors import KNeighborsClassifier\n",
    "from sklearn.svm import SVC, LinearSVC\n",
    "from sklearn.naive_bayes import GaussianNB"
   ]
  },
  {
   "cell_type": "code",
   "execution_count": 1985,
   "metadata": {},
   "outputs": [],
   "source": [
    "# Standard plot size.\n",
    "plt.rcParams['figure.figsize'] = (15, 10)\n",
    "\n",
    "# Standard colour scheme.\n",
    "plt.style.use('ggplot')"
   ]
  },
  {
   "cell_type": "code",
   "execution_count": 1986,
   "metadata": {},
   "outputs": [],
   "source": [
    "df = pd.read_csv(\"penguins_size.csv\") # reading in the dataset"
   ]
  },
  {
   "cell_type": "markdown",
   "metadata": {},
   "source": [
    "### Exploring the Dataset"
   ]
  },
  {
   "cell_type": "markdown",
   "metadata": {},
   "source": [
    "The Palmer Penguin dataset will be used in this project.https://www.kaggle.com/parulpandey/palmer-archipelago-antarctica-penguin-data/version/1?select=penguins_size.csv. In this section, the dataset is exploered at a higher level to establish any initial observations determine the scikit-learn packages that will be used and if there are any issues with the data that need to be resolved."
   ]
  },
  {
   "cell_type": "markdown",
   "metadata": {
    "tags": []
   },
   "source": [
    "The below functions look at samples from the dataset, its composition and whether or not any datapoints are missing.  "
   ]
  },
  {
   "cell_type": "code",
   "execution_count": 1987,
   "metadata": {},
   "outputs": [
    {
     "data": {
      "text/plain": [
       "(344, 7)"
      ]
     },
     "execution_count": 1987,
     "metadata": {},
     "output_type": "execute_result"
    }
   ],
   "source": [
    "df.shape"
   ]
  },
  {
   "cell_type": "code",
   "execution_count": 1988,
   "metadata": {},
   "outputs": [
    {
     "name": "stdout",
     "output_type": "stream",
     "text": [
      "<class 'pandas.core.frame.DataFrame'>\n",
      "RangeIndex: 344 entries, 0 to 343\n",
      "Data columns (total 7 columns):\n",
      " #   Column             Non-Null Count  Dtype  \n",
      "---  ------             --------------  -----  \n",
      " 0   species            344 non-null    object \n",
      " 1   island             344 non-null    object \n",
      " 2   culmen_length_mm   342 non-null    float64\n",
      " 3   culmen_depth_mm    342 non-null    float64\n",
      " 4   flipper_length_mm  342 non-null    float64\n",
      " 5   body_mass_g        342 non-null    float64\n",
      " 6   sex                333 non-null    object \n",
      "dtypes: float64(4), object(3)\n",
      "memory usage: 18.9+ KB\n"
     ]
    }
   ],
   "source": [
    "df.info()"
   ]
  },
  {
   "cell_type": "code",
   "execution_count": 1989,
   "metadata": {},
   "outputs": [
    {
     "data": {
      "text/html": [
       "<div>\n",
       "<style scoped>\n",
       "    .dataframe tbody tr th:only-of-type {\n",
       "        vertical-align: middle;\n",
       "    }\n",
       "\n",
       "    .dataframe tbody tr th {\n",
       "        vertical-align: top;\n",
       "    }\n",
       "\n",
       "    .dataframe thead th {\n",
       "        text-align: right;\n",
       "    }\n",
       "</style>\n",
       "<table border=\"1\" class=\"dataframe\">\n",
       "  <thead>\n",
       "    <tr style=\"text-align: right;\">\n",
       "      <th></th>\n",
       "      <th>species</th>\n",
       "      <th>island</th>\n",
       "      <th>culmen_length_mm</th>\n",
       "      <th>culmen_depth_mm</th>\n",
       "      <th>flipper_length_mm</th>\n",
       "      <th>body_mass_g</th>\n",
       "      <th>sex</th>\n",
       "    </tr>\n",
       "  </thead>\n",
       "  <tbody>\n",
       "    <tr>\n",
       "      <th>10</th>\n",
       "      <td>Adelie</td>\n",
       "      <td>Torgersen</td>\n",
       "      <td>37.8</td>\n",
       "      <td>17.1</td>\n",
       "      <td>186.0</td>\n",
       "      <td>3300.0</td>\n",
       "      <td>NaN</td>\n",
       "    </tr>\n",
       "    <tr>\n",
       "      <th>160</th>\n",
       "      <td>Chinstrap</td>\n",
       "      <td>Dream</td>\n",
       "      <td>46.0</td>\n",
       "      <td>18.9</td>\n",
       "      <td>195.0</td>\n",
       "      <td>4150.0</td>\n",
       "      <td>FEMALE</td>\n",
       "    </tr>\n",
       "    <tr>\n",
       "      <th>289</th>\n",
       "      <td>Gentoo</td>\n",
       "      <td>Biscoe</td>\n",
       "      <td>50.7</td>\n",
       "      <td>15.0</td>\n",
       "      <td>223.0</td>\n",
       "      <td>5550.0</td>\n",
       "      <td>MALE</td>\n",
       "    </tr>\n",
       "    <tr>\n",
       "      <th>152</th>\n",
       "      <td>Chinstrap</td>\n",
       "      <td>Dream</td>\n",
       "      <td>46.5</td>\n",
       "      <td>17.9</td>\n",
       "      <td>192.0</td>\n",
       "      <td>3500.0</td>\n",
       "      <td>FEMALE</td>\n",
       "    </tr>\n",
       "    <tr>\n",
       "      <th>177</th>\n",
       "      <td>Chinstrap</td>\n",
       "      <td>Dream</td>\n",
       "      <td>52.0</td>\n",
       "      <td>19.0</td>\n",
       "      <td>197.0</td>\n",
       "      <td>4150.0</td>\n",
       "      <td>MALE</td>\n",
       "    </tr>\n",
       "    <tr>\n",
       "      <th>18</th>\n",
       "      <td>Adelie</td>\n",
       "      <td>Torgersen</td>\n",
       "      <td>34.4</td>\n",
       "      <td>18.4</td>\n",
       "      <td>184.0</td>\n",
       "      <td>3325.0</td>\n",
       "      <td>FEMALE</td>\n",
       "    </tr>\n",
       "    <tr>\n",
       "      <th>223</th>\n",
       "      <td>Gentoo</td>\n",
       "      <td>Biscoe</td>\n",
       "      <td>50.0</td>\n",
       "      <td>15.2</td>\n",
       "      <td>218.0</td>\n",
       "      <td>5700.0</td>\n",
       "      <td>MALE</td>\n",
       "    </tr>\n",
       "    <tr>\n",
       "      <th>323</th>\n",
       "      <td>Gentoo</td>\n",
       "      <td>Biscoe</td>\n",
       "      <td>49.1</td>\n",
       "      <td>15.0</td>\n",
       "      <td>228.0</td>\n",
       "      <td>5500.0</td>\n",
       "      <td>MALE</td>\n",
       "    </tr>\n",
       "    <tr>\n",
       "      <th>334</th>\n",
       "      <td>Gentoo</td>\n",
       "      <td>Biscoe</td>\n",
       "      <td>46.2</td>\n",
       "      <td>14.1</td>\n",
       "      <td>217.0</td>\n",
       "      <td>4375.0</td>\n",
       "      <td>FEMALE</td>\n",
       "    </tr>\n",
       "    <tr>\n",
       "      <th>292</th>\n",
       "      <td>Gentoo</td>\n",
       "      <td>Biscoe</td>\n",
       "      <td>48.2</td>\n",
       "      <td>15.6</td>\n",
       "      <td>221.0</td>\n",
       "      <td>5100.0</td>\n",
       "      <td>MALE</td>\n",
       "    </tr>\n",
       "  </tbody>\n",
       "</table>\n",
       "</div>"
      ],
      "text/plain": [
       "       species     island  culmen_length_mm  culmen_depth_mm  \\\n",
       "10      Adelie  Torgersen              37.8             17.1   \n",
       "160  Chinstrap      Dream              46.0             18.9   \n",
       "289     Gentoo     Biscoe              50.7             15.0   \n",
       "152  Chinstrap      Dream              46.5             17.9   \n",
       "177  Chinstrap      Dream              52.0             19.0   \n",
       "18      Adelie  Torgersen              34.4             18.4   \n",
       "223     Gentoo     Biscoe              50.0             15.2   \n",
       "323     Gentoo     Biscoe              49.1             15.0   \n",
       "334     Gentoo     Biscoe              46.2             14.1   \n",
       "292     Gentoo     Biscoe              48.2             15.6   \n",
       "\n",
       "     flipper_length_mm  body_mass_g     sex  \n",
       "10               186.0       3300.0     NaN  \n",
       "160              195.0       4150.0  FEMALE  \n",
       "289              223.0       5550.0    MALE  \n",
       "152              192.0       3500.0  FEMALE  \n",
       "177              197.0       4150.0    MALE  \n",
       "18               184.0       3325.0  FEMALE  \n",
       "223              218.0       5700.0    MALE  \n",
       "323              228.0       5500.0    MALE  \n",
       "334              217.0       4375.0  FEMALE  \n",
       "292              221.0       5100.0    MALE  "
      ]
     },
     "execution_count": 1989,
     "metadata": {},
     "output_type": "execute_result"
    }
   ],
   "source": [
    "df.sample(10)"
   ]
  },
  {
   "cell_type": "code",
   "execution_count": 1990,
   "metadata": {},
   "outputs": [
    {
     "name": "stdout",
     "output_type": "stream",
     "text": [
      "['Adelie' 'Chinstrap' 'Gentoo']\n"
     ]
    }
   ],
   "source": [
    "print(df['species'].unique())"
   ]
  },
  {
   "cell_type": "code",
   "execution_count": 1991,
   "metadata": {},
   "outputs": [
    {
     "data": {
      "text/plain": [
       "Adelie       152\n",
       "Gentoo       124\n",
       "Chinstrap     68\n",
       "Name: species, dtype: int64"
      ]
     },
     "execution_count": 1991,
     "metadata": {},
     "output_type": "execute_result"
    }
   ],
   "source": [
    "df[\"species\"].value_counts()"
   ]
  },
  {
   "cell_type": "code",
   "execution_count": 1992,
   "metadata": {},
   "outputs": [
    {
     "name": "stdout",
     "output_type": "stream",
     "text": [
      "['Torgersen' 'Biscoe' 'Dream']\n"
     ]
    }
   ],
   "source": [
    "print(df['island'].unique())"
   ]
  },
  {
   "cell_type": "code",
   "execution_count": 1993,
   "metadata": {},
   "outputs": [
    {
     "data": {
      "text/plain": [
       "Biscoe       168\n",
       "Dream        124\n",
       "Torgersen     52\n",
       "Name: island, dtype: int64"
      ]
     },
     "execution_count": 1993,
     "metadata": {},
     "output_type": "execute_result"
    }
   ],
   "source": [
    "df[\"island\"].value_counts()"
   ]
  },
  {
   "cell_type": "code",
   "execution_count": 1994,
   "metadata": {},
   "outputs": [
    {
     "data": {
      "text/html": [
       "<div>\n",
       "<style scoped>\n",
       "    .dataframe tbody tr th:only-of-type {\n",
       "        vertical-align: middle;\n",
       "    }\n",
       "\n",
       "    .dataframe tbody tr th {\n",
       "        vertical-align: top;\n",
       "    }\n",
       "\n",
       "    .dataframe thead th {\n",
       "        text-align: right;\n",
       "    }\n",
       "</style>\n",
       "<table border=\"1\" class=\"dataframe\">\n",
       "  <thead>\n",
       "    <tr style=\"text-align: right;\">\n",
       "      <th></th>\n",
       "      <th>culmen_length_mm</th>\n",
       "      <th>culmen_depth_mm</th>\n",
       "      <th>flipper_length_mm</th>\n",
       "      <th>body_mass_g</th>\n",
       "    </tr>\n",
       "  </thead>\n",
       "  <tbody>\n",
       "    <tr>\n",
       "      <th>count</th>\n",
       "      <td>342.000000</td>\n",
       "      <td>342.000000</td>\n",
       "      <td>342.000000</td>\n",
       "      <td>342.000000</td>\n",
       "    </tr>\n",
       "    <tr>\n",
       "      <th>mean</th>\n",
       "      <td>43.921930</td>\n",
       "      <td>17.151170</td>\n",
       "      <td>200.915205</td>\n",
       "      <td>4201.754386</td>\n",
       "    </tr>\n",
       "    <tr>\n",
       "      <th>std</th>\n",
       "      <td>5.459584</td>\n",
       "      <td>1.974793</td>\n",
       "      <td>14.061714</td>\n",
       "      <td>801.954536</td>\n",
       "    </tr>\n",
       "    <tr>\n",
       "      <th>min</th>\n",
       "      <td>32.100000</td>\n",
       "      <td>13.100000</td>\n",
       "      <td>172.000000</td>\n",
       "      <td>2700.000000</td>\n",
       "    </tr>\n",
       "    <tr>\n",
       "      <th>25%</th>\n",
       "      <td>39.225000</td>\n",
       "      <td>15.600000</td>\n",
       "      <td>190.000000</td>\n",
       "      <td>3550.000000</td>\n",
       "    </tr>\n",
       "    <tr>\n",
       "      <th>50%</th>\n",
       "      <td>44.450000</td>\n",
       "      <td>17.300000</td>\n",
       "      <td>197.000000</td>\n",
       "      <td>4050.000000</td>\n",
       "    </tr>\n",
       "    <tr>\n",
       "      <th>75%</th>\n",
       "      <td>48.500000</td>\n",
       "      <td>18.700000</td>\n",
       "      <td>213.000000</td>\n",
       "      <td>4750.000000</td>\n",
       "    </tr>\n",
       "    <tr>\n",
       "      <th>max</th>\n",
       "      <td>59.600000</td>\n",
       "      <td>21.500000</td>\n",
       "      <td>231.000000</td>\n",
       "      <td>6300.000000</td>\n",
       "    </tr>\n",
       "  </tbody>\n",
       "</table>\n",
       "</div>"
      ],
      "text/plain": [
       "       culmen_length_mm  culmen_depth_mm  flipper_length_mm  body_mass_g\n",
       "count        342.000000       342.000000         342.000000   342.000000\n",
       "mean          43.921930        17.151170         200.915205  4201.754386\n",
       "std            5.459584         1.974793          14.061714   801.954536\n",
       "min           32.100000        13.100000         172.000000  2700.000000\n",
       "25%           39.225000        15.600000         190.000000  3550.000000\n",
       "50%           44.450000        17.300000         197.000000  4050.000000\n",
       "75%           48.500000        18.700000         213.000000  4750.000000\n",
       "max           59.600000        21.500000         231.000000  6300.000000"
      ]
     },
     "execution_count": 1994,
     "metadata": {},
     "output_type": "execute_result"
    }
   ],
   "source": [
    "df.describe() # important in prediction of the class later on"
   ]
  },
  {
   "cell_type": "markdown",
   "metadata": {
    "tags": []
   },
   "source": [
    "### Preprocessing the Data"
   ]
  },
  {
   "cell_type": "markdown",
   "metadata": {},
   "source": [
    "#### Dealing with Nan within the dataset\n",
    "<br>\n",
    "From the initial analysis, there are null values within the dataset, this section explores this further and the potential impact it may have on the dataset."
   ]
  },
  {
   "cell_type": "code",
   "execution_count": 1995,
   "metadata": {},
   "outputs": [
    {
     "data": {
      "text/plain": [
       "True"
      ]
     },
     "execution_count": 1995,
     "metadata": {},
     "output_type": "execute_result"
    }
   ],
   "source": [
    "df.isnull().values.any()"
   ]
  },
  {
   "cell_type": "code",
   "execution_count": 1996,
   "metadata": {},
   "outputs": [
    {
     "data": {
      "text/plain": [
       "species               0\n",
       "island                0\n",
       "culmen_length_mm      2\n",
       "culmen_depth_mm       2\n",
       "flipper_length_mm     2\n",
       "body_mass_g           2\n",
       "sex                  11\n",
       "dtype: int64"
      ]
     },
     "execution_count": 1996,
     "metadata": {},
     "output_type": "execute_result"
    }
   ],
   "source": [
    "df.isna().sum()"
   ]
  },
  {
   "cell_type": "code",
   "execution_count": 1997,
   "metadata": {},
   "outputs": [
    {
     "data": {
      "text/plain": [
       "19"
      ]
     },
     "execution_count": 1997,
     "metadata": {},
     "output_type": "execute_result"
    }
   ],
   "source": [
    "df.isnull().sum().sum() #https://chartio.com/resources/tutorials/how-to-check-if-any-value-is-nan-in-a-pandas-dataframe/"
   ]
  },
  {
   "cell_type": "code",
   "execution_count": 1998,
   "metadata": {},
   "outputs": [
    {
     "data": {
      "text/html": [
       "<div>\n",
       "<style scoped>\n",
       "    .dataframe tbody tr th:only-of-type {\n",
       "        vertical-align: middle;\n",
       "    }\n",
       "\n",
       "    .dataframe tbody tr th {\n",
       "        vertical-align: top;\n",
       "    }\n",
       "\n",
       "    .dataframe thead th {\n",
       "        text-align: right;\n",
       "    }\n",
       "</style>\n",
       "<table border=\"1\" class=\"dataframe\">\n",
       "  <thead>\n",
       "    <tr style=\"text-align: right;\">\n",
       "      <th></th>\n",
       "      <th>species</th>\n",
       "      <th>island</th>\n",
       "      <th>culmen_length_mm</th>\n",
       "      <th>culmen_depth_mm</th>\n",
       "      <th>flipper_length_mm</th>\n",
       "      <th>body_mass_g</th>\n",
       "      <th>sex</th>\n",
       "    </tr>\n",
       "  </thead>\n",
       "  <tbody>\n",
       "    <tr>\n",
       "      <th>3</th>\n",
       "      <td>Adelie</td>\n",
       "      <td>Torgersen</td>\n",
       "      <td>NaN</td>\n",
       "      <td>NaN</td>\n",
       "      <td>NaN</td>\n",
       "      <td>NaN</td>\n",
       "      <td>NaN</td>\n",
       "    </tr>\n",
       "    <tr>\n",
       "      <th>8</th>\n",
       "      <td>Adelie</td>\n",
       "      <td>Torgersen</td>\n",
       "      <td>34.1</td>\n",
       "      <td>18.1</td>\n",
       "      <td>193.0</td>\n",
       "      <td>3475.0</td>\n",
       "      <td>NaN</td>\n",
       "    </tr>\n",
       "    <tr>\n",
       "      <th>9</th>\n",
       "      <td>Adelie</td>\n",
       "      <td>Torgersen</td>\n",
       "      <td>42.0</td>\n",
       "      <td>20.2</td>\n",
       "      <td>190.0</td>\n",
       "      <td>4250.0</td>\n",
       "      <td>NaN</td>\n",
       "    </tr>\n",
       "    <tr>\n",
       "      <th>10</th>\n",
       "      <td>Adelie</td>\n",
       "      <td>Torgersen</td>\n",
       "      <td>37.8</td>\n",
       "      <td>17.1</td>\n",
       "      <td>186.0</td>\n",
       "      <td>3300.0</td>\n",
       "      <td>NaN</td>\n",
       "    </tr>\n",
       "    <tr>\n",
       "      <th>11</th>\n",
       "      <td>Adelie</td>\n",
       "      <td>Torgersen</td>\n",
       "      <td>37.8</td>\n",
       "      <td>17.3</td>\n",
       "      <td>180.0</td>\n",
       "      <td>3700.0</td>\n",
       "      <td>NaN</td>\n",
       "    </tr>\n",
       "    <tr>\n",
       "      <th>47</th>\n",
       "      <td>Adelie</td>\n",
       "      <td>Dream</td>\n",
       "      <td>37.5</td>\n",
       "      <td>18.9</td>\n",
       "      <td>179.0</td>\n",
       "      <td>2975.0</td>\n",
       "      <td>NaN</td>\n",
       "    </tr>\n",
       "    <tr>\n",
       "      <th>246</th>\n",
       "      <td>Gentoo</td>\n",
       "      <td>Biscoe</td>\n",
       "      <td>44.5</td>\n",
       "      <td>14.3</td>\n",
       "      <td>216.0</td>\n",
       "      <td>4100.0</td>\n",
       "      <td>NaN</td>\n",
       "    </tr>\n",
       "    <tr>\n",
       "      <th>286</th>\n",
       "      <td>Gentoo</td>\n",
       "      <td>Biscoe</td>\n",
       "      <td>46.2</td>\n",
       "      <td>14.4</td>\n",
       "      <td>214.0</td>\n",
       "      <td>4650.0</td>\n",
       "      <td>NaN</td>\n",
       "    </tr>\n",
       "    <tr>\n",
       "      <th>324</th>\n",
       "      <td>Gentoo</td>\n",
       "      <td>Biscoe</td>\n",
       "      <td>47.3</td>\n",
       "      <td>13.8</td>\n",
       "      <td>216.0</td>\n",
       "      <td>4725.0</td>\n",
       "      <td>NaN</td>\n",
       "    </tr>\n",
       "    <tr>\n",
       "      <th>336</th>\n",
       "      <td>Gentoo</td>\n",
       "      <td>Biscoe</td>\n",
       "      <td>44.5</td>\n",
       "      <td>15.7</td>\n",
       "      <td>217.0</td>\n",
       "      <td>4875.0</td>\n",
       "      <td>NaN</td>\n",
       "    </tr>\n",
       "    <tr>\n",
       "      <th>339</th>\n",
       "      <td>Gentoo</td>\n",
       "      <td>Biscoe</td>\n",
       "      <td>NaN</td>\n",
       "      <td>NaN</td>\n",
       "      <td>NaN</td>\n",
       "      <td>NaN</td>\n",
       "      <td>NaN</td>\n",
       "    </tr>\n",
       "  </tbody>\n",
       "</table>\n",
       "</div>"
      ],
      "text/plain": [
       "    species     island  culmen_length_mm  culmen_depth_mm  flipper_length_mm  \\\n",
       "3    Adelie  Torgersen               NaN              NaN                NaN   \n",
       "8    Adelie  Torgersen              34.1             18.1              193.0   \n",
       "9    Adelie  Torgersen              42.0             20.2              190.0   \n",
       "10   Adelie  Torgersen              37.8             17.1              186.0   \n",
       "11   Adelie  Torgersen              37.8             17.3              180.0   \n",
       "47   Adelie      Dream              37.5             18.9              179.0   \n",
       "246  Gentoo     Biscoe              44.5             14.3              216.0   \n",
       "286  Gentoo     Biscoe              46.2             14.4              214.0   \n",
       "324  Gentoo     Biscoe              47.3             13.8              216.0   \n",
       "336  Gentoo     Biscoe              44.5             15.7              217.0   \n",
       "339  Gentoo     Biscoe               NaN              NaN                NaN   \n",
       "\n",
       "     body_mass_g  sex  \n",
       "3            NaN  NaN  \n",
       "8         3475.0  NaN  \n",
       "9         4250.0  NaN  \n",
       "10        3300.0  NaN  \n",
       "11        3700.0  NaN  \n",
       "47        2975.0  NaN  \n",
       "246       4100.0  NaN  \n",
       "286       4650.0  NaN  \n",
       "324       4725.0  NaN  \n",
       "336       4875.0  NaN  \n",
       "339          NaN  NaN  "
      ]
     },
     "execution_count": 1998,
     "metadata": {},
     "output_type": "execute_result"
    }
   ],
   "source": [
    "# creating bool series True for NaN values https://www.geeksforgeeks.org/working-with-missing-data-in-pandas/\n",
    "bool_series = pd.isnull(df[\"sex\"]) \n",
    "    \n",
    "# filtering data \n",
    "# displaying data only with Gender = NaN \n",
    "df[bool_series]"
   ]
  },
  {
   "cell_type": "code",
   "execution_count": 1999,
   "metadata": {},
   "outputs": [],
   "source": [
    "df.dropna(axis=0, how='all', subset=['sex'], inplace=True)\n",
    "#it is decided that all rows with NaN will be dropped as gender may form part of the prediction process later on and these are incomplete datapoints"
   ]
  },
  {
   "cell_type": "code",
   "execution_count": 2000,
   "metadata": {},
   "outputs": [
    {
     "data": {
      "text/plain": [
       "species              0\n",
       "island               0\n",
       "culmen_length_mm     0\n",
       "culmen_depth_mm      0\n",
       "flipper_length_mm    0\n",
       "body_mass_g          0\n",
       "sex                  0\n",
       "dtype: int64"
      ]
     },
     "execution_count": 2000,
     "metadata": {},
     "output_type": "execute_result"
    }
   ],
   "source": [
    "df.isna().sum()"
   ]
  },
  {
   "cell_type": "code",
   "execution_count": 2001,
   "metadata": {},
   "outputs": [
    {
     "data": {
      "text/plain": [
       "(333, 7)"
      ]
     },
     "execution_count": 2001,
     "metadata": {},
     "output_type": "execute_result"
    }
   ],
   "source": [
    "df.shape"
   ]
  },
  {
   "cell_type": "code",
   "execution_count": 2002,
   "metadata": {},
   "outputs": [
    {
     "data": {
      "text/plain": [
       "Adelie       146\n",
       "Gentoo       119\n",
       "Chinstrap     68\n",
       "Name: species, dtype: int64"
      ]
     },
     "execution_count": 2002,
     "metadata": {},
     "output_type": "execute_result"
    }
   ],
   "source": [
    "df[\"species\"].value_counts()"
   ]
  },
  {
   "cell_type": "code",
   "execution_count": 2003,
   "metadata": {},
   "outputs": [
    {
     "data": {
      "text/plain": [
       "Biscoe       163\n",
       "Dream        123\n",
       "Torgersen     47\n",
       "Name: island, dtype: int64"
      ]
     },
     "execution_count": 2003,
     "metadata": {},
     "output_type": "execute_result"
    }
   ],
   "source": [
    "df[\"island\"].value_counts()"
   ]
  },
  {
   "cell_type": "markdown",
   "metadata": {},
   "source": [
    "### Data Visualisation"
   ]
  },
  {
   "cell_type": "code",
   "execution_count": 2004,
   "metadata": {},
   "outputs": [
    {
     "data": {
      "text/plain": [
       "<seaborn.axisgrid.PairGrid at 0x1b622f83d60>"
      ]
     },
     "execution_count": 2004,
     "metadata": {},
     "output_type": "execute_result"
    },
    {
     "data": {
      "image/png": "[encoded data removed]",
      "text/plain": [
       "<Figure size 804.125x720 with 20 Axes>"
      ]
     },
     "metadata": {},
     "output_type": "display_data"
    }
   ],
   "source": [
    "sns.pairplot(data=df, hue='species', palette=sns.color_palette(palette='hls' ,n_colors=3))"
   ]
  },
  {
   "cell_type": "code",
   "execution_count": 2005,
   "metadata": {},
   "outputs": [
    {
     "data": {
      "text/plain": [
       "Text(0, 0.5, 'Body Mass')"
      ]
     },
     "execution_count": 2005,
     "metadata": {},
     "output_type": "execute_result"
    },
    {
     "data": {
      "image/png": "[encoded data removed]",
      "text/plain": [
       "<Figure size 1080x720 with 1 Axes>"
      ]
     },
     "metadata": {},
     "output_type": "display_data"
    }
   ],
   "source": [
    "g = sns.boxplot(x = 'island',\n",
    "            y ='body_mass_g',\n",
    "            hue = 'species',\n",
    "            data = df,\n",
    "            linewidth=0.3)\n",
    "g.set_xlabel('Island')\n",
    "g.set_ylabel('Body Mass')"
   ]
  },
  {
   "cell_type": "markdown",
   "metadata": {},
   "source": [
    "The above Pairplot provides an overview of the data and key information to inform the notebook can be ascertained. In this case, the Gentoo species seems to have more distinct feature from the other two species which can possible be used to predict the species later on. From an initial analysis of the data, Gentoo seems to have different attributes to the other species making it possible to predict a Gentoo penguin from the other two species. Adelie and Chinstrap are more similiar in their feature. Prediction of  each of the species from their attributes may be possible using measurements of the body mass and culmen length, culmen length and culmen depth and also flipper length and culmen length. The species, island and sex attributes will now be looked at to determine the prediction variable.  These will form the basis of the machine learning algorithms discussed and implemented in this notebook."
   ]
  },
  {
   "cell_type": "markdown",
   "metadata": {},
   "source": [
    "#### Correlation"
   ]
  },
  {
   "cell_type": "markdown",
   "metadata": {},
   "source": [
    "From the above exploratory data anaylsis and subsequent preprocessing of the date, intial observations include: \n",
    "<br>\n",
    "- Adelie is the most popular instance of penguin in the data set\n",
    "- The Gentoo species appears to be distinguishable from the Adelie and Chinstrap species\n",
    "- There appears to be a correlation between the flipper length and body mass for all penguins\n",
    "- The culmen length and culmen depth in each of the species may be used as a way of predicting the species \n",
    "<br>"
   ]
  },
  {
   "cell_type": "markdown",
   "metadata": {},
   "source": [
    "This section further explores the relationships between the variables in the penguin dataset.\n",
    "- **Correlation** measures the strength and direction of linear realtionships between two variables https://towardsdatascience.com/let-us-understand-the-correlation-matrix-and-covariance-matrix-d42e6b643c22#:\n",
    "\n",
    "*A coefficient of correlation is a value between -1 and +1 that denotes both the strength and directionality of a relationship between two variables. The closer the value is to 1 (or -1), the stronger a relationship. The closer a number is to 0, the weaker the relationship. A negative coefficient will tell us that the relationship is negative, meaning that as one value increases, the other decreases. Similarly, a positive coefficient indicates that as one value increases, as does the other.* https://datagy.io/python-correlation-matrix/"
   ]
  },
  {
   "cell_type": "code",
   "execution_count": 2006,
   "metadata": {},
   "outputs": [
    {
     "data": {
      "text/html": [
       "<div>\n",
       "<style scoped>\n",
       "    .dataframe tbody tr th:only-of-type {\n",
       "        vertical-align: middle;\n",
       "    }\n",
       "\n",
       "    .dataframe tbody tr th {\n",
       "        vertical-align: top;\n",
       "    }\n",
       "\n",
       "    .dataframe thead th {\n",
       "        text-align: right;\n",
       "    }\n",
       "</style>\n",
       "<table border=\"1\" class=\"dataframe\">\n",
       "  <thead>\n",
       "    <tr style=\"text-align: right;\">\n",
       "      <th></th>\n",
       "      <th>culmen_length_mm</th>\n",
       "      <th>culmen_depth_mm</th>\n",
       "      <th>flipper_length_mm</th>\n",
       "      <th>body_mass_g</th>\n",
       "    </tr>\n",
       "    <tr>\n",
       "      <th>species</th>\n",
       "      <th></th>\n",
       "      <th></th>\n",
       "      <th></th>\n",
       "      <th></th>\n",
       "    </tr>\n",
       "  </thead>\n",
       "  <tbody>\n",
       "    <tr>\n",
       "      <th>Adelie</th>\n",
       "      <td>38.823973</td>\n",
       "      <td>18.347260</td>\n",
       "      <td>190.102740</td>\n",
       "      <td>3706.164384</td>\n",
       "    </tr>\n",
       "    <tr>\n",
       "      <th>Chinstrap</th>\n",
       "      <td>48.833824</td>\n",
       "      <td>18.420588</td>\n",
       "      <td>195.823529</td>\n",
       "      <td>3733.088235</td>\n",
       "    </tr>\n",
       "    <tr>\n",
       "      <th>Gentoo</th>\n",
       "      <td>47.568067</td>\n",
       "      <td>14.996639</td>\n",
       "      <td>217.235294</td>\n",
       "      <td>5092.436975</td>\n",
       "    </tr>\n",
       "  </tbody>\n",
       "</table>\n",
       "</div>"
      ],
      "text/plain": [
       "           culmen_length_mm  culmen_depth_mm  flipper_length_mm  body_mass_g\n",
       "species                                                                     \n",
       "Adelie            38.823973        18.347260         190.102740  3706.164384\n",
       "Chinstrap         48.833824        18.420588         195.823529  3733.088235\n",
       "Gentoo            47.568067        14.996639         217.235294  5092.436975"
      ]
     },
     "execution_count": 2006,
     "metadata": {},
     "output_type": "execute_result"
    }
   ],
   "source": [
    "x = df.groupby('species')\n",
    "x.mean()"
   ]
  },
  {
   "cell_type": "code",
   "execution_count": 2007,
   "metadata": {},
   "outputs": [
    {
     "data": {
      "text/html": [
       "<div>\n",
       "<style scoped>\n",
       "    .dataframe tbody tr th:only-of-type {\n",
       "        vertical-align: middle;\n",
       "    }\n",
       "\n",
       "    .dataframe tbody tr th {\n",
       "        vertical-align: top;\n",
       "    }\n",
       "\n",
       "    .dataframe thead th {\n",
       "        text-align: right;\n",
       "    }\n",
       "</style>\n",
       "<table border=\"1\" class=\"dataframe\">\n",
       "  <thead>\n",
       "    <tr style=\"text-align: right;\">\n",
       "      <th></th>\n",
       "      <th>culmen_length_mm</th>\n",
       "      <th>culmen_depth_mm</th>\n",
       "      <th>flipper_length_mm</th>\n",
       "      <th>body_mass_g</th>\n",
       "    </tr>\n",
       "    <tr>\n",
       "      <th>island</th>\n",
       "      <th></th>\n",
       "      <th></th>\n",
       "      <th></th>\n",
       "      <th></th>\n",
       "    </tr>\n",
       "  </thead>\n",
       "  <tbody>\n",
       "    <tr>\n",
       "      <th>Biscoe</th>\n",
       "      <td>45.248466</td>\n",
       "      <td>15.907362</td>\n",
       "      <td>209.558282</td>\n",
       "      <td>4719.171779</td>\n",
       "    </tr>\n",
       "    <tr>\n",
       "      <th>Dream</th>\n",
       "      <td>44.221951</td>\n",
       "      <td>18.339837</td>\n",
       "      <td>193.186992</td>\n",
       "      <td>3718.902439</td>\n",
       "    </tr>\n",
       "    <tr>\n",
       "      <th>Torgersen</th>\n",
       "      <td>39.038298</td>\n",
       "      <td>18.451064</td>\n",
       "      <td>191.531915</td>\n",
       "      <td>3708.510638</td>\n",
       "    </tr>\n",
       "  </tbody>\n",
       "</table>\n",
       "</div>"
      ],
      "text/plain": [
       "           culmen_length_mm  culmen_depth_mm  flipper_length_mm  body_mass_g\n",
       "island                                                                      \n",
       "Biscoe            45.248466        15.907362         209.558282  4719.171779\n",
       "Dream             44.221951        18.339837         193.186992  3718.902439\n",
       "Torgersen         39.038298        18.451064         191.531915  3708.510638"
      ]
     },
     "execution_count": 2007,
     "metadata": {},
     "output_type": "execute_result"
    }
   ],
   "source": [
    "x = df.groupby('island')\n",
    "x.mean()"
   ]
  },
  {
   "cell_type": "code",
   "execution_count": 2008,
   "metadata": {},
   "outputs": [
    {
     "data": {
      "text/html": [
       "<div>\n",
       "<style scoped>\n",
       "    .dataframe tbody tr th:only-of-type {\n",
       "        vertical-align: middle;\n",
       "    }\n",
       "\n",
       "    .dataframe tbody tr th {\n",
       "        vertical-align: top;\n",
       "    }\n",
       "\n",
       "    .dataframe thead th {\n",
       "        text-align: right;\n",
       "    }\n",
       "</style>\n",
       "<table border=\"1\" class=\"dataframe\">\n",
       "  <thead>\n",
       "    <tr style=\"text-align: right;\">\n",
       "      <th></th>\n",
       "      <th>culmen_length_mm</th>\n",
       "      <th>culmen_depth_mm</th>\n",
       "      <th>flipper_length_mm</th>\n",
       "      <th>body_mass_g</th>\n",
       "    </tr>\n",
       "    <tr>\n",
       "      <th>sex</th>\n",
       "      <th></th>\n",
       "      <th></th>\n",
       "      <th></th>\n",
       "      <th></th>\n",
       "    </tr>\n",
       "  </thead>\n",
       "  <tbody>\n",
       "    <tr>\n",
       "      <th>FEMALE</th>\n",
       "      <td>42.096970</td>\n",
       "      <td>16.425455</td>\n",
       "      <td>197.363636</td>\n",
       "      <td>3862.272727</td>\n",
       "    </tr>\n",
       "    <tr>\n",
       "      <th>MALE</th>\n",
       "      <td>45.854762</td>\n",
       "      <td>17.891071</td>\n",
       "      <td>204.505952</td>\n",
       "      <td>4545.684524</td>\n",
       "    </tr>\n",
       "  </tbody>\n",
       "</table>\n",
       "</div>"
      ],
      "text/plain": [
       "        culmen_length_mm  culmen_depth_mm  flipper_length_mm  body_mass_g\n",
       "sex                                                                      \n",
       "FEMALE         42.096970        16.425455         197.363636  3862.272727\n",
       "MALE           45.854762        17.891071         204.505952  4545.684524"
      ]
     },
     "execution_count": 2008,
     "metadata": {},
     "output_type": "execute_result"
    }
   ],
   "source": [
    "x = df.groupby('sex')\n",
    "x.mean()"
   ]
  },
  {
   "cell_type": "markdown",
   "metadata": {},
   "source": [
    "A correlation matrix visually indicates the relationship between two variables for the data set as a whole. "
   ]
  },
  {
   "cell_type": "code",
   "execution_count": 2009,
   "metadata": {},
   "outputs": [
    {
     "name": "stdout",
     "output_type": "stream",
     "text": [
      "                   culmen_length_mm  culmen_depth_mm  flipper_length_mm  \\\n",
      "culmen_length_mm           1.000000        -0.228626           0.653096   \n",
      "culmen_depth_mm           -0.228626         1.000000          -0.577792   \n",
      "flipper_length_mm          0.653096        -0.577792           1.000000   \n",
      "body_mass_g                0.589451        -0.472016           0.872979   \n",
      "\n",
      "                   body_mass_g  \n",
      "culmen_length_mm      0.589451  \n",
      "culmen_depth_mm      -0.472016  \n",
      "flipper_length_mm     0.872979  \n",
      "body_mass_g           1.000000  \n"
     ]
    }
   ],
   "source": [
    "matrix = df.corr()\n",
    "print(matrix)"
   ]
  },
  {
   "cell_type": "code",
   "execution_count": 2010,
   "metadata": {},
   "outputs": [
    {
     "data": {
      "image/png": "[encoded data removed]",
      "text/plain": [
       "<Figure size 1080x720 with 2 Axes>"
      ]
     },
     "metadata": {},
     "output_type": "display_data"
    }
   ],
   "source": [
    "matrix = df.corr().round(2) #https://datagy.io/python-correlation-matrix/\n",
    "mask = np.triu(np.ones_like(matrix, dtype=bool))\n",
    "sns.heatmap(matrix, annot=True, vmax=1, vmin=-1, center=0, cmap='vlag', mask=mask)\n",
    "plt.show()"
   ]
  },
  {
   "cell_type": "markdown",
   "metadata": {},
   "source": [
    "The values in the matrix above range from 0 - 1 with flipper length and body mass having the strongest correlation when considering all the specieis of penguins."
   ]
  },
  {
   "cell_type": "markdown",
   "metadata": {},
   "source": [
    "## Train and Testing the Dataset"
   ]
  },
  {
   "cell_type": "markdown",
   "metadata": {},
   "source": [
    "#Split our data in trainng and testing models\n",
    "train, test = mod.train_test_split(df,test_size=.33, random_state=1) # https://machinelearningmastery.com/train-test-split-for-evaluating-machine-learning-algorithms/"
   ]
  },
  {
   "cell_type": "markdown",
   "metadata": {
    "tags": []
   },
   "source": [
    "train.head()"
   ]
  },
  {
   "cell_type": "markdown",
   "metadata": {},
   "source": [
    "test.head()"
   ]
  },
  {
   "cell_type": "markdown",
   "metadata": {},
   "source": [
    "test.index.size"
   ]
  },
  {
   "cell_type": "markdown",
   "metadata": {},
   "source": [
    "inputs, outputs = train[['culmen_length_mm','culmen_depth_mm','flipper_length_mm','body_mass_g']], train['species']"
   ]
  },
  {
   "cell_type": "markdown",
   "metadata": {},
   "source": [
    "inputs.head()"
   ]
  },
  {
   "cell_type": "markdown",
   "metadata": {},
   "source": [
    "outputs.head()"
   ]
  },
  {
   "cell_type": "markdown",
   "metadata": {},
   "source": [
    "The data will now be put into a two dimensional test-train split"
   ]
  },
  {
   "cell_type": "markdown",
   "metadata": {},
   "source": [
    "train,test = mod.train_test_split(df)"
   ]
  },
  {
   "cell_type": "markdown",
   "metadata": {},
   "source": [
    "train.head()"
   ]
  },
  {
   "cell_type": "markdown",
   "metadata": {},
   "source": [
    "test.head()"
   ]
  },
  {
   "cell_type": "markdown",
   "metadata": {
    "tags": []
   },
   "source": [
    "test.index.size"
   ]
  },
  {
   "cell_type": "markdown",
   "metadata": {},
   "source": [
    "ade = train[train['species'] == 'Adelie']\n",
    "gen = train[train['species'] == 'Gentoo']\n",
    "chin = train[train['species'] == 'Chinstrap']\n",
    "             \n",
    "fig, ax = plt.subplots()\n",
    "             \n",
    "ax.scatter(ade['culmen_length_mm'], ade['body_mass_g'], marker='o', label='Adelie')\n",
    "ax.scatter(gen['culmen_length_mm'], gen['body_mass_g'], marker='o', label='Gentoo')\n",
    "ax.scatter(chin['culmen_length_mm'], chin['body_mass_g'], marker='o', label='Chinstrap') \n",
    "        \n",
    "ax.scatter(test['culmen_length_mm'], test ['body_mass_g'], marker ='x', label= 'Test data')\n",
    "        \n",
    "ax.set_xlabel('culmen_length_mm')\n",
    "ax.set_ylabel('body_mass_g')\n",
    "ax.legend();"
   ]
  },
  {
   "cell_type": "markdown",
   "metadata": {},
   "source": [
    "inputs, outputs = train[['culmen_length_mm', 'body_mass_g']], train['species']"
   ]
  },
  {
   "cell_type": "markdown",
   "metadata": {},
   "source": [
    "inputs.head()"
   ]
  },
  {
   "cell_type": "markdown",
   "metadata": {},
   "source": [
    "outputs.head()"
   ]
  },
  {
   "cell_type": "markdown",
   "metadata": {},
   "source": [
    "lre = ln.LogisticRegression(random_state=0)\n",
    "lre.fit(inputs, outputs)"
   ]
  },
  {
   "cell_type": "markdown",
   "metadata": {},
   "source": [
    "predictions = lre.predict(test[['culmen_length_mm', 'body_mass_g']])\n",
    "predictions"
   ]
  },
  {
   "cell_type": "markdown",
   "metadata": {},
   "source": [
    "predictions == test['species']"
   ]
  },
  {
   "cell_type": "markdown",
   "metadata": {},
   "source": [
    "lre.score(test[['culmen_length_mm', 'body_mass_g']], test['species'])"
   ]
  },
  {
   "cell_type": "markdown",
   "metadata": {},
   "source": [
    "test['predicted'] = predictions\n",
    "test.head()\n"
   ]
  },
  {
   "cell_type": "markdown",
   "metadata": {},
   "source": [
    "misclass = test[test['predicted'] != test['species']]\n",
    "misclass"
   ]
  },
  {
   "cell_type": "markdown",
   "metadata": {},
   "source": [
    "train.groupby('species').mean()"
   ]
  },
  {
   "cell_type": "markdown",
   "metadata": {},
   "source": [
    "# New plot.\n",
    "fig, ax = plt.subplots()\n",
    "\n",
    "# Plot the training data\n",
    "for species, data in df.groupby('species'):\n",
    "    ax.scatter(data['culmen_length_mm'], data['body_mass_g'], label=species)\n",
    "    \n",
    "# Plot misclassified.\n",
    "ax.scatter(misclass['culmen_length_mm'], misclass['body_mass_g'], s=200, facecolor='none', edgecolor='r', label='Misclassified')\n",
    "\n",
    "# Show the legend.\n",
    "ax.set_xlabel('culmen_length_mm')\n",
    "ax.set_ylabel('body_mass_g')\n",
    "ax.legend();"
   ]
  },
  {
   "cell_type": "markdown",
   "metadata": {},
   "source": [
    "# Split the data frame in two.\n",
    "train, test = mod.train_test_split(df)"
   ]
  },
  {
   "cell_type": "markdown",
   "metadata": {},
   "source": [
    "# Use all four possible inputs.\n",
    "inputs, outputs = train[['culmen_length_mm', 'culmen_depth_mm', 'flipper_length_mm', 'body_mass_g']], train['species']"
   ]
  },
  {
   "cell_type": "markdown",
   "metadata": {},
   "source": [
    "# Create a new classifier.\n",
    "lre = ln.LogisticRegression(random_state=0)\n",
    "\n",
    "# Train the classifier on our data.\n",
    "lre.fit(inputs, outputs)"
   ]
  },
  {
   "cell_type": "markdown",
   "metadata": {},
   "source": [
    "predictions = lre.predict(test[['culmen_length_mm', 'culmen_depth_mm', 'flipper_length_mm', 'body_mass_g']])\n",
    "predictions"
   ]
  },
  {
   "cell_type": "markdown",
   "metadata": {},
   "source": [
    "# Eyeball the misclassifications.\n",
    "(predictions == test['species']).value_counts()"
   ]
  },
  {
   "cell_type": "markdown",
   "metadata": {},
   "source": [
    "# What proportion were correct?\n",
    "lre.score(test[['culmen_length_mm', 'culmen_depth_mm', 'flipper_length_mm', 'body_mass_g']], test['species'])"
   ]
  },
  {
   "cell_type": "markdown",
   "metadata": {
    "tags": []
   },
   "source": [
    "## Data Modelling: Classification and Regression\n",
    "******"
   ]
  },
  {
   "cell_type": "markdown",
   "metadata": {},
   "source": [
    "df.head()"
   ]
  },
  {
   "cell_type": "code",
   "execution_count": null,
   "metadata": {},
   "outputs": [],
   "source": []
  },
  {
   "cell_type": "markdown",
   "metadata": {},
   "source": [
    "x = df.iloc[:, 4:5].values \n",
    "#print(x)\n",
    "y = df.iloc[:, 5].values\n",
    "#print(y)"
   ]
  },
  {
   "cell_type": "markdown",
   "metadata": {},
   "source": [
    "# Fitting Random Forest Regression to the dataset\n",
    "# import the regressor\n",
    "from sklearn.ensemble import RandomForestRegressor\n",
    "  \n",
    " # create regressor object\n",
    "regressor = RandomForestRegressor(n_estimators = 100, random_state = 0)\n",
    "  \n",
    "# fit the regressor with x and y data\n",
    "regressor.fit(x, y) "
   ]
  },
  {
   "cell_type": "markdown",
   "metadata": {},
   "source": [
    "Y_pred = regressor.predict(np.array([1.5]).reshape(1, 1))  # test the output by changing values"
   ]
  },
  {
   "cell_type": "markdown",
   "metadata": {},
   "source": [
    "# Visualising the Random Forest Regression results\n",
    "  \n",
    "# arange for creating a range of values\n",
    "# from min value of x to max \n",
    "# value of x with a difference of 0.01 \n",
    "# between two consecutive values\n",
    "X_grid = np.arange(min(x), max(x), 0.01) \n",
    "  \n",
    "# reshape for reshaping the data into a len(X_grid)*1 array, \n",
    "# i.e. to make a column out of the X_grid value                  \n",
    "X_grid = X_grid.reshape((len(X_grid), 1))\n",
    "  \n",
    "# Scatter plot for original data\n",
    "plt.scatter(x, y, color = 'blue')  \n",
    "  \n",
    "# plot predicted data\n",
    "plt.plot(X_grid, regressor.predict(X_grid), \n",
    "         color = 'green') \n",
    "plt.title('Random Forest Regression')\n",
    "plt.xlabel('Culmen Depth')\n",
    "plt.ylabel('Body Mass (g)')\n",
    "plt.show()"
   ]
  },
  {
   "cell_type": "markdown",
   "metadata": {},
   "source": [
    "df.head(10)"
   ]
  },
  {
   "cell_type": "markdown",
   "metadata": {},
   "source": [
    "df.info()"
   ]
  },
  {
   "cell_type": "markdown",
   "metadata": {},
   "source": [
    "X=df.iloc[:,1:5].values # https://www.kaggle.com/mainakchaudhuri/penguin-data-analysis#3.1-Random-Forest:\n",
    "y=df.iloc[:,5].values"
   ]
  },
  {
   "cell_type": "markdown",
   "metadata": {},
   "source": [
    "# select all rows by : and column 1\n",
    "# by 1:2 representing features\n",
    "X = df.iloc[:,4:5].astype(int) \n",
    "  \n",
    "# print X\n",
    "print(X)"
   ]
  },
  {
   "cell_type": "markdown",
   "metadata": {},
   "source": [
    "# select all rows by : and column 2\n",
    "# by 2 to Y representing labels\n",
    "y = df.iloc[:, 2].astype(int) \n",
    "  \n",
    "# print y\n",
    "print(y)"
   ]
  },
  {
   "cell_type": "markdown",
   "metadata": {},
   "source": [
    "# import the regressor\n",
    "from sklearn.tree import DecisionTreeRegressor \n",
    "  \n",
    "# create a regressor object\n",
    "regressor = DecisionTreeRegressor(random_state = 0) \n",
    "  \n",
    "# fit the regressor with X and Y data\n",
    "regressor.fit(X, y)"
   ]
  },
  {
   "cell_type": "markdown",
   "metadata": {
    "tags": []
   },
   "source": [
    "### Support Vector Machine Classification"
   ]
  },
  {
   "cell_type": "code",
   "execution_count": 2047,
   "metadata": {},
   "outputs": [],
   "source": [
    "from pandas import read_csv\n",
    "from sklearn.model_selection import train_test_split\n",
    "from sklearn.metrics import accuracy_score\n",
    "from sklearn.svm import SVC"
   ]
  },
  {
   "cell_type": "code",
   "execution_count": 2048,
   "metadata": {
    "tags": []
   },
   "outputs": [
    {
     "name": "stdout",
     "output_type": "stream",
     "text": [
      "  species  island  bill_length_mm  bill_depth_mm  flipper_length_mm  \\\n",
      "0  Adelie  Biscoe            37.8           18.3              174.0   \n",
      "1  Adelie  Biscoe            37.7           18.7              180.0   \n",
      "2  Adelie  Biscoe            35.9           19.2              189.0   \n",
      "3  Adelie  Biscoe            38.2           18.1              185.0   \n",
      "4  Adelie  Biscoe            38.8           17.2              180.0   \n",
      "\n",
      "   body_mass_g     sex  \n",
      "0       3400.0  female  \n",
      "1       3600.0    male  \n",
      "2       3800.0  female  \n",
      "3       3950.0    male  \n",
      "4       3800.0    male  \n"
     ]
    }
   ],
   "source": [
    "print(df.head())"
   ]
  },
  {
   "cell_type": "code",
   "execution_count": 2053,
   "metadata": {},
   "outputs": [
    {
     "data": {
      "text/plain": [
       "SVC()"
      ]
     },
     "execution_count": 2053,
     "metadata": {},
     "output_type": "execute_result"
    }
   ],
   "source": [
    "df = df.dropna()  #Drops all rows with at least one null value. \n",
    "D = df.values\n",
    "x = D[:,2:5]\n",
    "y = D[:,6]\n",
    "x_tr, x_ts, y_tr, y_ts = train_test_split(x,y,test_size=0.50)\n",
    "model = SVC()\n",
    "model.fit(x_tr,y_tr)"
   ]
  },
  {
   "cell_type": "code",
   "execution_count": 2051,
   "metadata": {
    "tags": []
   },
   "outputs": [
    {
     "name": "stdout",
     "output_type": "stream",
     "text": [
      "Accuracy:  0.47761194029850745\n"
     ]
    }
   ],
   "source": [
    "predict_flower = model.predict(x_ts)\n",
    "print(\"Accuracy: \",accuracy_score(y_ts, predict_flower))"
   ]
  },
  {
   "cell_type": "code",
   "execution_count": null,
   "metadata": {},
   "outputs": [],
   "source": []
  },
  {
   "cell_type": "code",
   "execution_count": null,
   "metadata": {},
   "outputs": [],
   "source": []
  },
  {
   "cell_type": "code",
   "execution_count": null,
   "metadata": {},
   "outputs": [],
   "source": []
  },
  {
   "cell_type": "code",
   "execution_count": null,
   "metadata": {},
   "outputs": [],
   "source": []
  },
  {
   "cell_type": "code",
   "execution_count": 2015,
   "metadata": {},
   "outputs": [],
   "source": [
    "# from sklearn.model_selection import train_test_split\n",
    "# from sklearn.metrics import accuracy_score\n",
    "# from sklearn.svm import SVC\n",
    "# import pandas as pd\n",
    "\n",
    "# #load dataset\n",
    "# df = pd.read_csv(\"penguins_size.csv\")\n",
    "# df = df.dropna()\n",
    "# print(df.head())"
   ]
  },
  {
   "cell_type": "code",
   "execution_count": 2016,
   "metadata": {},
   "outputs": [],
   "source": [
    "# #drop irrelevant columns\n",
    "# df.drop(['species'], axis=1, inplace=True)\n",
    "# df.drop(['island'], axis=1, inplace=True)\n",
    "# print(df.head())"
   ]
  },
  {
   "cell_type": "code",
   "execution_count": 2017,
   "metadata": {},
   "outputs": [],
   "source": [
    "# D = df.values\n",
    "# x = D[:,0:4]\n",
    "# y = D[:,4]\n",
    "# x_tr, x_ts, y_tr, y_ts = train_test_split(x, y, test_size=0.2)\n",
    "# model = SVC()\n",
    "# model.fit(x_tr,y_tr)\n",
    "\n",
    "# #checking the accurarcy of SVM on test data\n",
    "# predict_sex = model_predict(x_ts)\n",
    "# print(\"Accuracy: \",accuracy_score(y_ts,predict_sex))\n",
    "# #print(x_tr)"
   ]
  },
  {
   "cell_type": "code",
   "execution_count": 2018,
   "metadata": {},
   "outputs": [],
   "source": [
    "#print(y_tr)"
   ]
  },
  {
   "cell_type": "code",
   "execution_count": 2019,
   "metadata": {},
   "outputs": [],
   "source": [
    "# #classifying the training set using SVM\n",
    "# model = SVC()\n",
    "# model.fit(x_tr,y_tr)\n",
    "\n",
    "# #checking the accurarcy of SVM on test data\n",
    "# predict_sex = model_predict(x_ts)\n",
    "# print(\"Accuracy: \",accuracy_score(y_ts,predict_sex))"
   ]
  },
  {
   "cell_type": "markdown",
   "metadata": {
    "tags": []
   },
   "source": [
    "### Random Forest Classification"
   ]
  },
  {
   "cell_type": "code",
   "execution_count": 2020,
   "metadata": {},
   "outputs": [
    {
     "name": "stdout",
     "output_type": "stream",
     "text": [
      "  species     island  culmen_length_mm  culmen_depth_mm  flipper_length_mm  \\\n",
      "0  Adelie  Torgersen              39.1             18.7              181.0   \n",
      "1  Adelie  Torgersen              39.5             17.4              186.0   \n",
      "2  Adelie  Torgersen              40.3             18.0              195.0   \n",
      "4  Adelie  Torgersen              36.7             19.3              193.0   \n",
      "5  Adelie  Torgersen              39.3             20.6              190.0   \n",
      "\n",
      "   body_mass_g     sex  \n",
      "0       3750.0    MALE  \n",
      "1       3800.0  FEMALE  \n",
      "2       3250.0  FEMALE  \n",
      "4       3450.0  FEMALE  \n",
      "5       3650.0    MALE  \n"
     ]
    }
   ],
   "source": [
    "from pandas import read_csv\n",
    "import pandas as pd\n",
    "from sklearn.model_selection import train_test_split\n",
    "from sklearn.metrics import accuracy_score\n",
    "from sklearn.svm import SVC\n",
    "\n",
    "df_Forest = pd.read_csv(\"penguins_size.csv\") # reading in the dataset\n",
    "df_Forest = df_Forest.dropna()  #Drops all rows with at least one null value. \n",
    "print(df_Forest.head())"
   ]
  },
  {
   "cell_type": "code",
   "execution_count": 2021,
   "metadata": {},
   "outputs": [
    {
     "name": "stdout",
     "output_type": "stream",
     "text": [
      "MALE      168\n",
      "FEMALE    165\n",
      "Name: sex, dtype: int64\n"
     ]
    }
   ],
   "source": [
    "sizes = df_Forest['sex'].value_counts(sort = 1)\n",
    "print(sizes)"
   ]
  },
  {
   "cell_type": "code",
   "execution_count": 2022,
   "metadata": {
    "tags": []
   },
   "outputs": [
    {
     "name": "stdout",
     "output_type": "stream",
     "text": [
      "   culmen_length_mm  culmen_depth_mm  flipper_length_mm  body_mass_g     sex\n",
      "0              39.1             18.7              181.0       3750.0    MALE\n",
      "1              39.5             17.4              186.0       3800.0  FEMALE\n",
      "2              40.3             18.0              195.0       3250.0  FEMALE\n",
      "4              36.7             19.3              193.0       3450.0  FEMALE\n",
      "5              39.3             20.6              190.0       3650.0    MALE\n"
     ]
    }
   ],
   "source": [
    "df_Forest.drop(['species'], axis=1, inplace=True)\n",
    "df_Forest.drop(['island'], axis=1, inplace=True)\n",
    "print(df_Forest.head())"
   ]
  },
  {
   "cell_type": "code",
   "execution_count": 2023,
   "metadata": {},
   "outputs": [
    {
     "name": "stdout",
     "output_type": "stream",
     "text": [
      "   culmen_length_mm  culmen_depth_mm  flipper_length_mm  body_mass_g sex\n",
      "0              39.1             18.7              181.0       3750.0   1\n",
      "1              39.5             17.4              186.0       3800.0   2\n",
      "2              40.3             18.0              195.0       3250.0   2\n",
      "4              36.7             19.3              193.0       3450.0   2\n",
      "5              39.3             20.6              190.0       3650.0   1\n"
     ]
    },
    {
     "name": "stderr",
     "output_type": "stream",
     "text": [
      "C:\\Users\\Owner1\\AppData\\Local\\Temp/ipykernel_18392/4093300362.py:1: SettingWithCopyWarning: \n",
      "A value is trying to be set on a copy of a slice from a DataFrame\n",
      "\n",
      "See the caveats in the documentation: https://pandas.pydata.org/pandas-docs/stable/user_guide/indexing.html#returning-a-view-versus-a-copy\n",
      "  df_Forest.sex[df_Forest.sex == 'MALE'] = 1\n",
      "C:\\Users\\Owner1\\AppData\\Local\\Temp/ipykernel_18392/4093300362.py:2: SettingWithCopyWarning: \n",
      "A value is trying to be set on a copy of a slice from a DataFrame\n",
      "\n",
      "See the caveats in the documentation: https://pandas.pydata.org/pandas-docs/stable/user_guide/indexing.html#returning-a-view-versus-a-copy\n",
      "  df_Forest.sex[df_Forest.sex == 'FEMALE'] = 2\n"
     ]
    }
   ],
   "source": [
    "df_Forest.sex[df_Forest.sex == 'MALE'] = 1\n",
    "df_Forest.sex[df_Forest.sex == 'FEMALE'] = 2\n",
    "print(df_Forest.head())"
   ]
  },
  {
   "cell_type": "code",
   "execution_count": 2039,
   "metadata": {},
   "outputs": [
    {
     "name": "stdout",
     "output_type": "stream",
     "text": [
      "[1 2 2 2 1 2 1 2 1 1 2 2 1 2 1 2 1 2 1 1 2 1 2 2 1 2 1 2 1 2 1 1 2 2 1 2 1\n",
      " 2 1 2 1 1 2 1 2 1 2 1 2 1 2 1 2 1 2 1 2 1 2 1 2 1 2 1 2 1 2 1 2 1 2 1 2 1\n",
      " 2 1 2 1 2 1 1 2 1 2 2 1 2 1 2 1 2 1 2 1 2 1 2 1 2 1 2 1 2 1 2 1 2 1 2 1 2\n",
      " 1 2 1 2 1 2 1 2 1 2 1 2 1 2 1 2 1 2 1 2 1 2 1 2 1 2 1 2 1 1 2 2 1 2 1 2 1\n",
      " 1 2 1 2 2 1 2 1 2 1 2 1 2 1 1 2 2 1 2 1 2 1 2 1 2 1 2 1 2 1 2 1 1 2 2 1 2\n",
      " 1 1 2 1 2 2 1 2 1 1 2 2 1 2 1 2 1 2 1 1 2 1 2 2 1 2 1 1 2 2 1 2 1 1 2 2 1\n",
      " 2 1 2 1 2 1 2 1 2 1 2 1 1 2 2 1 2 1 1 2 1 1 2 2 1 2 1 2 1 2 1 2 1 2 1 1 2\n",
      " 2 1 2 1 2 1 2 1 2 1 2 1 2 1 2 1 2 1 2 1 1 2 1 2 1 1 2 2 1 2 1 2 1 2 1 2 1\n",
      " 2 1 2 1 2 1 2 1 2 1 2 1 1 2 2 1 2 1 2 1 1 2 1 2 1 2 1 2 1 2 1 1 2 2 1 2 1]\n"
     ]
    }
   ],
   "source": [
    "Y = df_Forest[\"sex\"].values  #At this point Y is an object not of type int\n",
    "print(Y)"
   ]
  },
  {
   "cell_type": "code",
   "execution_count": 2040,
   "metadata": {
    "tags": []
   },
   "outputs": [],
   "source": [
    "Y=Y.astype('int')"
   ]
  },
  {
   "cell_type": "code",
   "execution_count": 2041,
   "metadata": {},
   "outputs": [
    {
     "name": "stdout",
     "output_type": "stream",
     "text": [
      "   culmen_length_mm  culmen_depth_mm  flipper_length_mm  body_mass_g\n",
      "0              39.1             18.7              181.0       3750.0\n",
      "1              39.5             17.4              186.0       3800.0\n",
      "2              40.3             18.0              195.0       3250.0\n",
      "4              36.7             19.3              193.0       3450.0\n",
      "5              39.3             20.6              190.0       3650.0\n"
     ]
    }
   ],
   "source": [
    "X = df_Forest.drop(labels = [\"sex\"], axis=1)\n",
    "print(X.head())"
   ]
  },
  {
   "cell_type": "code",
   "execution_count": 2042,
   "metadata": {},
   "outputs": [
    {
     "name": "stdout",
     "output_type": "stream",
     "text": [
      "     culmen_length_mm  culmen_depth_mm  flipper_length_mm  body_mass_g\n",
      "104              37.9             18.6              193.0       2925.0\n",
      "307              51.3             14.2              218.0       5300.0\n",
      "123              41.4             18.5              202.0       3875.0\n",
      "121              37.7             19.8              198.0       3500.0\n",
      "238              46.2             14.5              209.0       4800.0\n",
      "..                ...              ...                ...          ...\n",
      "77               37.2             19.4              184.0       3900.0\n",
      "285              49.8             16.8              230.0       5700.0\n",
      "224              47.6             14.5              215.0       5400.0\n",
      "229              46.8             15.4              215.0       5150.0\n",
      "278              43.2             14.5              208.0       4450.0\n",
      "\n",
      "[299 rows x 4 columns]\n"
     ]
    }
   ],
   "source": [
    "from sklearn.model_selection import train_test_split\n",
    "X_train, X_test, y_train, y_test = train_test_split(X, Y, test_size=0.1, random_state=20)\n",
    "print(X_train)"
   ]
  },
  {
   "cell_type": "code",
   "execution_count": 2043,
   "metadata": {},
   "outputs": [
    {
     "data": {
      "text/plain": [
       "RandomForestClassifier(n_estimators=10, random_state=30)"
      ]
     },
     "execution_count": 2043,
     "metadata": {},
     "output_type": "execute_result"
    }
   ],
   "source": [
    "from sklearn.ensemble import RandomForestClassifier\n",
    "model = RandomForestClassifier(n_estimators = 10, random_state = 30)\n",
    "model.fit(X_train, y_train)"
   ]
  },
  {
   "cell_type": "code",
   "execution_count": 2044,
   "metadata": {},
   "outputs": [
    {
     "name": "stdout",
     "output_type": "stream",
     "text": [
      "[1 2 1 1 2 1 2 2 1 2 1 2 1 1 1 1 1 1 2 1 1 1 1 2 1 2 1 2 2 2 2 1 1 1] [1 1 1 1 2 1 2 2 1 2 1 2 1 1 1 1 1 1 2 1 1 1 1 2 1 1 1 2 2 2 2 1 1 1]\n"
     ]
    }
   ],
   "source": [
    "prediction_test = model.predict(X_test)\n",
    "print(y_test, prediction_test)"
   ]
  },
  {
   "cell_type": "code",
   "execution_count": 2045,
   "metadata": {},
   "outputs": [
    {
     "name": "stdout",
     "output_type": "stream",
     "text": [
      "Accuracy =  0.9411764705882353\n"
     ]
    }
   ],
   "source": [
    "from sklearn import metrics\n",
    "print (\"Accuracy = \", metrics.accuracy_score(y_test, prediction_test))"
   ]
  },
  {
   "cell_type": "code",
   "execution_count": 2046,
   "metadata": {},
   "outputs": [
    {
     "name": "stdout",
     "output_type": "stream",
     "text": [
      "culmen_depth_mm      0.319029\n",
      "culmen_length_mm     0.288552\n",
      "body_mass_g          0.262710\n",
      "flipper_length_mm    0.129710\n",
      "dtype: float64\n"
     ]
    }
   ],
   "source": [
    "feature_list = list(X.columns)\n",
    "feature_imp = pd.Series(model.feature_importances_,index=feature_list).sort_values(ascending=False)\n",
    "print(feature_imp)"
   ]
  },
  {
   "cell_type": "code",
   "execution_count": null,
   "metadata": {},
   "outputs": [],
   "source": []
  },
  {
   "cell_type": "markdown",
   "metadata": {},
   "source": [
    "from sklearn.preprocessing import LabelEncoder\n",
    "le = LabelEncoder()\n",
    "y = le.fit_transform(y)"
   ]
  },
  {
   "cell_type": "markdown",
   "metadata": {},
   "source": [
    "X_train,X_test,y_train,y_test=train_test_split(X,y,test_size=0.3,random_state=0)"
   ]
  },
  {
   "cell_type": "markdown",
   "metadata": {
    "tags": []
   },
   "source": [
    "https://github.com/mcnakhaee/palmerpenguins\n",
    "decision tree classifier\n",
    "from sklearn.model_selection import train_test_split\n",
    "from sklearn.pipeline import FeatureUnion, make_pipeline\n",
    "from sklearn.metrics import confusion_matrix\n",
    "### To deal with missing values\n",
    "from sklearn.experimental import enable_iterative_imputer\n",
    "from sklearn.impute import IterativeImputer\n",
    "from sklearn.tree import DecisionTreeClassifier\n",
    "\n",
    "X,y = load_penguins(return_X_y = True)\n",
    "X_train, X_test, y_train, y_test = train_test_split(X, y, test_size=100,\n",
    "                                            random_state=0)\n",
    "imp = IterativeImputer(max_iter=10, random_state=0)\n",
    "clf = make_pipeline(imp, DecisionTreeClassifier())\n",
    "clf = clf.fit(X_train, y_train)\n",
    "y_pred = clf.predict(X_test)\n",
    "print(confusion_matrix(y_test,y_pred,labels=['Adelie','Chinstrap','Gentoo']))\n",
    "array([[47,  1,  0],\n",
    "       [ 3, 17,  0],\n",
    "       [ 0,  0, 32]], dtype=int64)\n",
    "print(clf.score(X_test,y_test))\n",
    "0.96"
   ]
  },
  {
   "cell_type": "code",
   "execution_count": null,
   "metadata": {},
   "outputs": [],
   "source": []
  },
  {
   "cell_type": "code",
   "execution_count": null,
   "metadata": {},
   "outputs": [],
   "source": []
  },
  {
   "cell_type": "code",
   "execution_count": 2032,
   "metadata": {},
   "outputs": [],
   "source": [
    "#print (\"Features: \", df.feature_names)"
   ]
  },
  {
   "cell_type": "code",
   "execution_count": null,
   "metadata": {},
   "outputs": [],
   "source": []
  },
  {
   "cell_type": "code",
   "execution_count": null,
   "metadata": {},
   "outputs": [],
   "source": []
  },
  {
   "cell_type": "markdown",
   "metadata": {},
   "source": [
    "## Comparison between Models\n",
    "******"
   ]
  },
  {
   "cell_type": "code",
   "execution_count": 2033,
   "metadata": {},
   "outputs": [
    {
     "data": {
      "text/html": [
       "<div>\n",
       "<style scoped>\n",
       "    .dataframe tbody tr th:only-of-type {\n",
       "        vertical-align: middle;\n",
       "    }\n",
       "\n",
       "    .dataframe tbody tr th {\n",
       "        vertical-align: top;\n",
       "    }\n",
       "\n",
       "    .dataframe thead th {\n",
       "        text-align: right;\n",
       "    }\n",
       "</style>\n",
       "<table border=\"1\" class=\"dataframe\">\n",
       "  <thead>\n",
       "    <tr style=\"text-align: right;\">\n",
       "      <th></th>\n",
       "      <th>A</th>\n",
       "      <th>B</th>\n",
       "      <th>mean(A)</th>\n",
       "      <th>mean(B)</th>\n",
       "      <th>diff</th>\n",
       "      <th>se</th>\n",
       "      <th>T</th>\n",
       "      <th>df</th>\n",
       "      <th>pval</th>\n",
       "      <th>hedges</th>\n",
       "    </tr>\n",
       "  </thead>\n",
       "  <tbody>\n",
       "    <tr>\n",
       "      <th>0</th>\n",
       "      <td>Adelie</td>\n",
       "      <td>Chinstrap</td>\n",
       "      <td>3700.662</td>\n",
       "      <td>3733.088</td>\n",
       "      <td>-32.426</td>\n",
       "      <td>59.706</td>\n",
       "      <td>-0.543</td>\n",
       "      <td>152.455</td>\n",
       "      <td>0.834</td>\n",
       "      <td>-0.079</td>\n",
       "    </tr>\n",
       "    <tr>\n",
       "      <th>1</th>\n",
       "      <td>Adelie</td>\n",
       "      <td>Gentoo</td>\n",
       "      <td>3700.662</td>\n",
       "      <td>5076.016</td>\n",
       "      <td>-1375.354</td>\n",
       "      <td>58.811</td>\n",
       "      <td>-23.386</td>\n",
       "      <td>249.643</td>\n",
       "      <td>0.001</td>\n",
       "      <td>-2.833</td>\n",
       "    </tr>\n",
       "    <tr>\n",
       "      <th>2</th>\n",
       "      <td>Chinstrap</td>\n",
       "      <td>Gentoo</td>\n",
       "      <td>3733.088</td>\n",
       "      <td>5076.016</td>\n",
       "      <td>-1342.928</td>\n",
       "      <td>65.103</td>\n",
       "      <td>-20.628</td>\n",
       "      <td>170.404</td>\n",
       "      <td>0.001</td>\n",
       "      <td>-3.105</td>\n",
       "    </tr>\n",
       "  </tbody>\n",
       "</table>\n",
       "</div>"
      ],
      "text/plain": [
       "           A          B   mean(A)   mean(B)      diff      se       T  \\\n",
       "0     Adelie  Chinstrap  3700.662  3733.088   -32.426  59.706  -0.543   \n",
       "1     Adelie     Gentoo  3700.662  5076.016 -1375.354  58.811 -23.386   \n",
       "2  Chinstrap     Gentoo  3733.088  5076.016 -1342.928  65.103 -20.628   \n",
       "\n",
       "        df   pval  hedges  \n",
       "0  152.455  0.834  -0.079  \n",
       "1  249.643  0.001  -2.833  \n",
       "2  170.404  0.001  -3.105  "
      ]
     },
     "execution_count": 2033,
     "metadata": {},
     "output_type": "execute_result"
    }
   ],
   "source": [
    "import pingouin as pg # https://pingouin-stats.org/generated/pingouin.pairwise_gameshowell.html#pingouin.pairwise_gameshowell\n",
    "df = pg.read_dataset('penguins')\n",
    "pg.pairwise_gameshowell(data=df, dv='body_mass_g',\n",
    "                        between='species').round(3)"
   ]
  },
  {
   "cell_type": "markdown",
   "metadata": {},
   "source": [
    "## Conclusion\n",
    "******"
   ]
  },
  {
   "cell_type": "markdown",
   "metadata": {},
   "source": [
    "- Careful consideration must be taken for NaN values and their impact of the prediction results of a dataset. In this instance, all Nan values were excluded but further investigation may be conducted on the NaN values to determine if they are outliers or might influence the results drawn from the analysis.\n",
    "- As the amount of species were not equal, it may have lead to unequal prediction within the sample, stratify can be included in the test and train model to ensure proportionate representatins in each group."
   ]
  },
  {
   "cell_type": "code",
   "execution_count": null,
   "metadata": {},
   "outputs": [],
   "source": []
  },
  {
   "cell_type": "markdown",
   "metadata": {},
   "source": [
    "Scikit Learn is a Python library for machine learning, consisting of learning algorithms for machine learning and statistical modeling. The library was was initially developed by David Cournapeau in 2007 before being further developed by the FIRCA (French Institute for Research in Computer Science and Automation) leading to its first public realesae in 2010. https://www.tutorialspoint.com/scikit_learn/scikit_learn_introduction.htmScikit. It's popularity of use is largely due to ease of use, being open sourse, portable, powerful and wide ranging content and relative flexibility for use in Machine Learning projects. https://towardsdatascience.com/an-introduction-to-scikit-learn-the-gold-standard-of-python-machine-learning-e2b9238a98ab \n",
    "\n",
    "<br>\n",
    "\n",
    "Scikit-Learn's purpose is data modellying and is easily integrated with other packages to provide data handling, manipulation and visualisation. It is built upon Python packages which include Numpy, SciPy Matplotlib. Pandas and Sci Py. The library provides methods of supervised and unsupervised learning algorithms including regression, classification and clustering of data. The library also offers other functions including ensemble methods, feature manipulation, outlier detection and model selection and validation. https://towardsdatascience.com/an-introduction-to-scikit-learn-the-gold-standard-of-python-machine-learning-e2b9238a98ab"
   ]
  },
  {
   "cell_type": "code",
   "execution_count": null,
   "metadata": {},
   "outputs": [],
   "source": []
  },
  {
   "cell_type": "markdown",
   "metadata": {},
   "source": [
    "## References"
   ]
  },
  {
   "cell_type": "code",
   "execution_count": null,
   "metadata": {},
   "outputs": [],
   "source": []
  },
  {
   "cell_type": "code",
   "execution_count": null,
   "metadata": {},
   "outputs": [],
   "source": []
  },
  {
   "cell_type": "code",
   "execution_count": null,
   "metadata": {},
   "outputs": [],
   "source": []
  },
  {
   "cell_type": "markdown",
   "metadata": {},
   "source": [
    "# End\n",
    "\n",
    "*******"
   ]
  },
  {
   "cell_type": "code",
   "execution_count": null,
   "metadata": {},
   "outputs": [],
   "source": []
  }
 ],
 "metadata": {
  "kernelspec": {
   "display_name": "Python 3 (ipykernel)",
   "language": "python",
   "name": "python3"
  },
  "language_info": {
   "codemirror_mode": {
    "name": "ipython",
    "version": 3
   },
   "file_extension": ".py",
   "mimetype": "text/x-python",
   "name": "python",
   "nbconvert_exporter": "python",
   "pygments_lexer": "ipython3",
   "version": "3.9.7"
  }
 },
 "nbformat": 4,
 "nbformat_minor": 4
}
